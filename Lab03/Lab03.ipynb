{
  "nbformat": 4,
  "nbformat_minor": 0,
  "metadata": {
    "colab": {
      "provenance": [],
      "include_colab_link": true
    },
    "kernelspec": {
      "name": "python3",
      "display_name": "Python 3"
    },
    "language_info": {
      "name": "python"
    }
  },
  "cells": [
    {
      "cell_type": "markdown",
      "metadata": {
        "id": "view-in-github",
        "colab_type": "text"
      },
      "source": [
        "<a href=\"https://colab.research.google.com/github/Guliko24/CE807_Text_Analytics/blob/main/Lab03/Lab03.ipynb\" target=\"_parent\"><img src=\"https://colab.research.google.com/assets/colab-badge.svg\" alt=\"Open In Colab\"/></a>"
      ]
    },
    {
      "cell_type": "markdown",
      "source": [
        "#The implementation of KMeans in scikit-learn\n",
        "The main aspects of the implementation of KMeans in scikit-learn are:\n",
        "- the function KMeans, which takes as input a number of clusters and an\n",
        "initialization of the centroids and returns an object of type KMeans;\n",
        "- the function fit, which takes as input a set of feature vectors and outputs\n",
        "clusters;\n",
        "- the function predict, which specifies the cluster each element belongs\n",
        "to.\n",
        "\n",
        "**Your Turn: study the documentation for KMeans at:\n",
        "http://scikit-learn.org/stable/modules/generated/sklearn.cluster.KMeans.html**"
      ],
      "metadata": {
        "id": "XoeeHYMRB1bh"
      }
    },
    {
      "cell_type": "markdown",
      "source": [
        "## A toy example\n",
        "\n",
        "The goal is to take a toy example and view the cluster change, using KMeans.\n",
        "\n",
        "We will use random 2D data and perform the clustering.\n",
        "\n",
        "The code assumes that you have the data in your GDrive.\n",
        "Let's say that path in './CE807-24-SU/Lab03/data/', pay close attention to the path"
      ],
      "metadata": {
        "id": "AzEkzpcTCIIY"
      }
    },
    {
      "cell_type": "code",
      "source": [
        "import os\n",
        "import random\n",
        "import scipy as sp\n",
        "from scipy.stats import norm\n",
        "from matplotlib import pylab\n",
        "from sklearn.cluster import KMeans"
      ],
      "metadata": {
        "id": "-VWlrGJKydIo"
      },
      "execution_count": null,
      "outputs": []
    },
    {
      "cell_type": "markdown",
      "source": [
        "Let's set the seed.\n",
        "\n",
        "Pay close attention to the seeds, you will use your student_id as seed in the assignments."
      ],
      "metadata": {
        "id": "LnB5NC_pD71B"
      }
    },
    {
      "cell_type": "code",
      "source": [
        "seed = 3\n",
        "random.seed(seed)  # to reproduce the data later on\n",
        "\n",
        "num_clusters = 3"
      ],
      "metadata": {
        "id": "afB9pv6V5alK"
      },
      "execution_count": null,
      "outputs": []
    },
    {
      "cell_type": "markdown",
      "source": [
        "Function to plot 2D cluster"
      ],
      "metadata": {
        "id": "zPM8F7saEybN"
      }
    },
    {
      "cell_type": "code",
      "source": [
        "def plot_clustering(x, y, title, mx=None, ymax=None, xmin=None, km=None):\n",
        "    pylab.figure(num=None, figsize=(8, 6))\n",
        "    if km:\n",
        "        pylab.scatter(x, y, s=50, c=km.predict(list(zip(x, y))))\n",
        "    else:\n",
        "        pylab.scatter(x, y, s=50)\n",
        "\n",
        "    pylab.title(title)\n",
        "    pylab.xlabel(\"Occurrence word 1\")\n",
        "    pylab.ylabel(\"Occurrence word 2\")\n",
        "\n",
        "    pylab.autoscale(tight=True)\n",
        "    pylab.ylim(ymin=0, ymax=1)\n",
        "    pylab.xlim(xmin=0, xmax=1)\n",
        "    pylab.grid(True, linestyle='-', color='0.75')\n",
        "\n",
        "    return pylab"
      ],
      "metadata": {
        "id": "gGYFB1c05qNq"
      },
      "execution_count": null,
      "outputs": []
    },
    {
      "cell_type": "markdown",
      "source": [
        "Now, let's take some random 2D data"
      ],
      "metadata": {
        "id": "6bNMA150E3eK"
      }
    },
    {
      "cell_type": "code",
      "source": [
        "xw1 = norm(loc=0.3, scale=.15).rvs(20)\n",
        "yw1 = norm(loc=0.3, scale=.15).rvs(20)\n",
        "\n",
        "xw2 = norm(loc=0.7, scale=.15).rvs(20)\n",
        "yw2 = norm(loc=0.7, scale=.15).rvs(20)\n",
        "\n",
        "xw3 = norm(loc=0.2, scale=.15).rvs(20)\n",
        "yw3 = norm(loc=0.8, scale=.15).rvs(20)\n",
        "\n",
        "x = sp.append(sp.append(xw1, xw2), xw3)\n",
        "y = sp.append(sp.append(yw1, yw2), yw3)\n",
        "print(x)\n",
        "print(y)"
      ],
      "metadata": {
        "colab": {
          "base_uri": "https://localhost:8080/"
        },
        "id": "PVDY5WTa51Sy",
        "outputId": "6077b835-0c90-4541-d957-be90eb124628"
      },
      "execution_count": null,
      "outputs": [
        {
          "output_type": "stream",
          "name": "stdout",
          "text": [
            "[-0.15698312  0.35064136  0.04911138  0.27550567  0.25755846  0.26288795\n",
            "  0.45910738  0.24686767  0.59235935  0.29779582  0.46218746  0.30722397\n",
            "  0.2337936   0.29216531  0.4195898   0.54121253  0.12693644  0.23262993\n",
            "  0.46075735  0.04495809  0.58962523  0.72469253  0.81320182  0.36599406\n",
            "  0.75756304  0.64668377  0.80069426  0.80297994  0.607102    0.65368263\n",
            "  0.30889281  0.78995828  1.12163245  0.54245844  0.95735927  0.62258584\n",
            "  0.82728199  0.52110164  0.58405739  0.80680475  0.32372524  0.37459801\n",
            "  0.11342058  0.14974601  0.42370363  0.09818553  0.11321869  0.36433555\n",
            "  0.00143348  0.31158102  0.27901873  0.28816996  0.01729781  0.18244873\n",
            "  0.27736254  0.20117536  0.1870159   0.19310893  0.33341055  0.4708819 ]\n",
            "[0.39540176 0.44085455 0.31559639 0.32118721 0.23823317 0.43235518\n",
            " 0.46328308 0.23450179 0.12233629 0.15965649 0.50575503 0.27899804\n",
            " 0.22532375 0.38793936 0.36689639 0.33462383 0.38699749 0.35340051\n",
            " 0.40317607 0.12375731 0.71937719 0.53045786 0.78999219 0.86161581\n",
            " 0.69194279 0.66441425 0.74211326 0.68003638 0.44758484 0.6441983\n",
            " 0.59778973 0.79763747 0.70993401 0.74252901 0.35673288 1.00216167\n",
            " 0.36912547 0.62269611 0.99379312 0.66409437 0.91597836 0.66086484\n",
            " 0.72722156 0.56331843 0.59763279 0.77040122 0.87705406 0.85902522\n",
            " 0.68276529 0.69426113 0.73630524 0.5012404  0.86030785 0.60908661\n",
            " 0.66522067 0.82581828 0.94295528 0.53963763 0.63941666 0.76172437]\n"
          ]
        },
        {
          "output_type": "stream",
          "name": "stderr",
          "text": [
            "<ipython-input-4-6a00dd65b275>:10: DeprecationWarning: scipy.append is deprecated and will be removed in SciPy 2.0.0, use numpy.append instead\n",
            "  x = sp.append(sp.append(xw1, xw2), xw3)\n",
            "<ipython-input-4-6a00dd65b275>:11: DeprecationWarning: scipy.append is deprecated and will be removed in SciPy 2.0.0, use numpy.append instead\n",
            "  y = sp.append(sp.append(yw1, yw2), yw3)\n"
          ]
        }
      ]
    },
    {
      "cell_type": "markdown",
      "source": [
        "Plot the data"
      ],
      "metadata": {
        "id": "YHTZO1KMFEE6"
      }
    },
    {
      "cell_type": "code",
      "source": [
        "i = 1\n",
        "plot_clustering(x, y, \"Vectors\")\n",
        "pylab.show()\n",
        "pylab.clf()\n",
        "pylab.close()"
      ],
      "metadata": {
        "colab": {
          "base_uri": "https://localhost:8080/",
          "height": 564
        },
        "id": "ZoNkIbz66M1K",
        "outputId": "70ba2752-0f4e-4baf-fab9-b00c8796425a"
      },
      "execution_count": null,
      "outputs": [
        {
          "output_type": "display_data",
          "data": {
            "text/plain": [
              "<Figure size 800x600 with 1 Axes>"
            ],
            "image/png": "[encoded data removed]"
          },
          "metadata": {}
        }
      ]
    },
    {
      "cell_type": "markdown",
      "source": [
        "Let's do the one interation of clustering, using KMeans"
      ],
      "metadata": {
        "id": "h3pwosupFIiA"
      }
    },
    {
      "cell_type": "code",
      "source": [
        "i += 1\n",
        "\n",
        "# 1 iteration ####################\n",
        "\n",
        "mx, my = sp.meshgrid(sp.arange(0, 1, 0.001), sp.arange(0, 1, 0.001))\n",
        "\n",
        "km = KMeans(init='random', n_clusters=num_clusters, verbose=1,\n",
        "            n_init=1, max_iter=1,\n",
        "            random_state=seed)\n",
        "km.fit(sp.array(list(zip(x, y))))\n",
        "\n",
        "Z = km.predict(sp.c_[mx.ravel(), my.ravel()]).reshape(mx.shape)\n",
        "\n",
        "plot_clustering(x, y, \"Clustering iteration 1\", km=km)\n",
        "pylab.imshow(Z, interpolation='nearest',\n",
        "             extent=(mx.min(), mx.max(), my.min(), my.max()),\n",
        "             cmap=pylab.cm.Blues,\n",
        "             aspect='auto', origin='lower')\n",
        "\n",
        "c1a, c1b, c1c = km.cluster_centers_\n",
        "pylab.scatter(km.cluster_centers_[:, 0], km.cluster_centers_[:, 1],\n",
        "              marker='x', linewidth=2, s=100, color='black')\n",
        "pylab.show()\n",
        "pylab.clf()"
      ],
      "metadata": {
        "colab": {
          "base_uri": "https://localhost:8080/",
          "height": 720
        },
        "id": "ZuhL03-A6oaB",
        "outputId": "c7a87d3c-4080-48a3-b9a1-ef435b7edfaf"
      },
      "execution_count": null,
      "outputs": [
        {
          "output_type": "stream",
          "name": "stderr",
          "text": [
            "<ipython-input-6-74f9deec3368>:5: DeprecationWarning: scipy.arange is deprecated and will be removed in SciPy 2.0.0, use numpy.arange instead\n",
            "  mx, my = sp.meshgrid(sp.arange(0, 1, 0.001), sp.arange(0, 1, 0.001))\n",
            "<ipython-input-6-74f9deec3368>:5: DeprecationWarning: scipy.meshgrid is deprecated and will be removed in SciPy 2.0.0, use numpy.meshgrid instead\n",
            "  mx, my = sp.meshgrid(sp.arange(0, 1, 0.001), sp.arange(0, 1, 0.001))\n",
            "<ipython-input-6-74f9deec3368>:10: DeprecationWarning: scipy.array is deprecated and will be removed in SciPy 2.0.0, use numpy.array instead\n",
            "  km.fit(sp.array(list(zip(x, y))))\n"
          ]
        },
        {
          "output_type": "stream",
          "name": "stdout",
          "text": [
            "Initialization complete\n",
            "Iteration 0, inertia 5.176741614967529.\n"
          ]
        },
        {
          "output_type": "display_data",
          "data": {
            "text/plain": [
              "<Figure size 800x600 with 1 Axes>"
            ],
            "image/png": "[encoded data removed]"
          },
          "metadata": {}
        },
        {
          "output_type": "display_data",
          "data": {
            "text/plain": [
              "<Figure size 640x480 with 0 Axes>"
            ]
          },
          "metadata": {}
        }
      ]
    },
    {
      "cell_type": "markdown",
      "source": [
        "Now, Let's do the two interation of clustering, using KMeans"
      ],
      "metadata": {
        "id": "K60nXRTiFjux"
      }
    },
    {
      "cell_type": "code",
      "source": [
        "i += 1\n",
        "\n",
        "# 2 iterations ####################\n",
        "\n",
        "\n",
        "km = KMeans(init='random', n_clusters=num_clusters, verbose=1,\n",
        "            n_init=1, max_iter=2,\n",
        "            random_state=seed)\n",
        "km.fit(sp.array(list(zip(x, y))))\n",
        "\n",
        "Z = km.predict(sp.c_[mx.ravel(), my.ravel()]).reshape(mx.shape)\n",
        "\n",
        "plot_clustering(x, y, \"Clustering iteration 1\", km=km)\n",
        "pylab.imshow(Z, interpolation='nearest',\n",
        "             extent=(mx.min(), mx.max(), my.min(), my.max()),\n",
        "             cmap=pylab.cm.Blues,\n",
        "             aspect='auto', origin='lower')\n",
        "\n",
        "c1a, c1b, c1c = km.cluster_centers_\n",
        "pylab.scatter(km.cluster_centers_[:, 0], km.cluster_centers_[:, 1],\n",
        "              marker='x', linewidth=2, s=100, color='black')\n",
        "pylab.show()\n",
        "pylab.clf()"
      ],
      "metadata": {
        "colab": {
          "base_uri": "https://localhost:8080/",
          "height": 668
        },
        "id": "Ah6A_yp_73P3",
        "outputId": "8ae0127a-9be2-43cb-9336-a1087f75f54f"
      },
      "execution_count": null,
      "outputs": [
        {
          "output_type": "stream",
          "name": "stderr",
          "text": [
            "<ipython-input-7-2b615da9345b>:9: DeprecationWarning: scipy.array is deprecated and will be removed in SciPy 2.0.0, use numpy.array instead\n",
            "  km.fit(sp.array(list(zip(x, y))))\n"
          ]
        },
        {
          "output_type": "stream",
          "name": "stdout",
          "text": [
            "Initialization complete\n",
            "Iteration 0, inertia 5.176741614967529.\n",
            "Iteration 1, inertia 3.951538495853125.\n"
          ]
        },
        {
          "output_type": "display_data",
          "data": {
            "text/plain": [
              "<Figure size 800x600 with 1 Axes>"
            ],
            "image/png": "[encoded data removed]"
          },
          "metadata": {}
        },
        {
          "output_type": "display_data",
          "data": {
            "text/plain": [
              "<Figure size 640x480 with 0 Axes>"
            ]
          },
          "metadata": {}
        }
      ]
    },
    {
      "cell_type": "markdown",
      "source": [
        "**Your turn: play with by chaning different parameters for multiple iteration and observe the changes. Observe, how change in `seed` affects initialization. What do you observe when use use same/different seeds.**"
      ],
      "metadata": {
        "id": "c257p5jZG1WJ"
      }
    },
    {
      "cell_type": "markdown",
      "source": [
        "## Clustering 20Newsgroups using KMeans\n",
        "\n",
        "In the first lab we saw 20Newgroup dataset. The dataset is a collection of around 20,000 documents\n",
        "from 20 different newsgroups, that is commonly used in experiments on text\n",
        "classification and text clustering. The dataset can be found at:\n",
        "http://qwone.com/~jason/20Newsgroups. And also look at the sklearn's documentation https://scikit-learn.org/0.19/datasets/twenty_newsgroups.html"
      ],
      "metadata": {
        "id": "Iyro9v6-I395"
      }
    },
    {
      "cell_type": "code",
      "source": [
        "import sklearn.datasets\n",
        "import scipy as sp"
      ],
      "metadata": {
        "id": "dM_LzoEfAFH0"
      },
      "execution_count": null,
      "outputs": []
    },
    {
      "cell_type": "markdown",
      "source": [
        "Let's get the dataset"
      ],
      "metadata": {
        "id": "c-zqgmCPJdjD"
      }
    },
    {
      "cell_type": "code",
      "source": [
        "all_data = sklearn.datasets.fetch_20newsgroups(subset=\"all\")"
      ],
      "metadata": {
        "id": "OPTGwU6ZAHmz"
      },
      "execution_count": null,
      "outputs": []
    },
    {
      "cell_type": "code",
      "source": [
        "print(\"Number of total posts: %i\" % len(all_data.filenames))"
      ],
      "metadata": {
        "colab": {
          "base_uri": "https://localhost:8080/"
        },
        "id": "3Mdwz731AQjV",
        "outputId": "bb00303a-a2b7-451c-b540-9b4a0e9edba5"
      },
      "execution_count": null,
      "outputs": [
        {
          "output_type": "stream",
          "name": "stdout",
          "text": [
            "Number of total posts: 18846\n"
          ]
        }
      ]
    },
    {
      "cell_type": "markdown",
      "source": [
        "For sake of simplicity, we will work with 6 diverse categories.\n",
        "\n",
        "**Your turn: Check all possible categories in the dataset**"
      ],
      "metadata": {
        "id": "kXJChLNKJoVD"
      }
    },
    {
      "cell_type": "code",
      "source": [
        "# Get the list of all categories\n",
        "categories = all_data.target_names\n",
        "\n",
        "# Print the list of categories\n",
        "print(\"Categories of the 20 Newsgroups dataset:\")\n",
        "for category in categories:\n",
        "    print(category)\n"
      ],
      "metadata": {
        "colab": {
          "base_uri": "https://localhost:8080/"
        },
        "id": "FWLPYO5rxT4B",
        "outputId": "474c35e4-1b94-4de5-d394-c75ec40eafbd"
      },
      "execution_count": null,
      "outputs": [
        {
          "output_type": "stream",
          "name": "stdout",
          "text": [
            "Categories of the 20 Newsgroups dataset:\n",
            "alt.atheism\n",
            "comp.graphics\n",
            "comp.os.ms-windows.misc\n",
            "comp.sys.ibm.pc.hardware\n",
            "comp.sys.mac.hardware\n",
            "comp.windows.x\n",
            "misc.forsale\n",
            "rec.autos\n",
            "rec.motorcycles\n",
            "rec.sport.baseball\n",
            "rec.sport.hockey\n",
            "sci.crypt\n",
            "sci.electronics\n",
            "sci.med\n",
            "sci.space\n",
            "soc.religion.christian\n",
            "talk.politics.guns\n",
            "talk.politics.mideast\n",
            "talk.politics.misc\n",
            "talk.religion.misc\n"
          ]
        }
      ]
    },
    {
      "cell_type": "code",
      "source": [
        "groups = [\n",
        "    'comp.graphics', 'comp.os.ms-windows.misc', 'comp.sys.ibm.pc.hardware',\n",
        "    'comp.sys.mac.hardware', 'comp.windows.x', 'sci.space']\n",
        "train_data = sklearn.datasets.fetch_20newsgroups(subset=\"train\",\n",
        "                                                 categories=groups)\n",
        "print(\"Number of training posts in tech groups:\", len(train_data.filenames))"
      ],
      "metadata": {
        "colab": {
          "base_uri": "https://localhost:8080/"
        },
        "id": "scluKcdZAR6d",
        "outputId": "1cb25f15-e3b6-46e8-f91b-33d3dbdb58b2"
      },
      "execution_count": null,
      "outputs": [
        {
          "output_type": "stream",
          "name": "stdout",
          "text": [
            "Number of training posts in tech groups: 3529\n"
          ]
        }
      ]
    },
    {
      "cell_type": "code",
      "source": [
        "labels = train_data.target\n",
        "num_clusters = 50"
      ],
      "metadata": {
        "id": "mgy_ZwuzAf12"
      },
      "execution_count": null,
      "outputs": []
    },
    {
      "cell_type": "markdown",
      "source": [
        "Remember the pipeline, first you have to convert text into vector representation before Clustering.\n",
        "\n",
        "Here, we are using TF-IDF based representaion with stemming."
      ],
      "metadata": {
        "id": "QRWxNhbTKET3"
      }
    },
    {
      "cell_type": "code",
      "source": [
        "import nltk.stem\n",
        "english_stemmer = nltk.stem.SnowballStemmer('english')\n",
        "\n",
        "from sklearn.feature_extraction.text import TfidfVectorizer"
      ],
      "metadata": {
        "id": "Vc2L4Qx9KV_R"
      },
      "execution_count": null,
      "outputs": []
    },
    {
      "cell_type": "markdown",
      "source": [
        "Observe, how TF-IDF and stemming is combined together in a Class."
      ],
      "metadata": {
        "id": "G1MCpKQ4Kl0a"
      }
    },
    {
      "cell_type": "code",
      "source": [
        "class StemmedTfidfVectorizer(TfidfVectorizer):\n",
        "\n",
        "    def build_analyzer(self):\n",
        "        analyzer = super(TfidfVectorizer, self).build_analyzer()\n",
        "        return lambda doc: (english_stemmer.stem(w) for w in analyzer(doc))\n",
        "\n",
        "vectorizer = StemmedTfidfVectorizer(min_df=10, max_df=0.5,\n",
        "                                    stop_words='english', decode_error='ignore'\n",
        "                                    )"
      ],
      "metadata": {
        "id": "-VTIgMd1Aok9"
      },
      "execution_count": null,
      "outputs": []
    },
    {
      "cell_type": "code",
      "source": [
        "vectorized = vectorizer.fit_transform(train_data.data)#####make sure to use fit_transform for the trainind data , but only transform for testing data\n",
        "num_samples, num_features = vectorized.shape\n",
        "print(\"#samples: %d, #features: %d\" % (num_samples, num_features))\n",
        "# samples: 3529, #features: 4712"
      ],
      "metadata": {
        "colab": {
          "base_uri": "https://localhost:8080/"
        },
        "id": "RtHB25peA-Yt",
        "outputId": "9dd93efb-719b-47dc-842c-8a42500be088"
      },
      "execution_count": null,
      "outputs": [
        {
          "output_type": "stream",
          "name": "stdout",
          "text": [
            "#samples: 3529, #features: 4712\n"
          ]
        }
      ]
    },
    {
      "cell_type": "code",
      "source": [
        "from sklearn.cluster import KMeans\n",
        "\n",
        "km = KMeans(n_clusters=num_clusters, n_init=1, verbose=1, random_state=3)\n",
        "clustered = km.fit(vectorized)\n"
      ],
      "metadata": {
        "colab": {
          "base_uri": "https://localhost:8080/"
        },
        "id": "_IlmU8miBNPe",
        "outputId": "52b2ad66-73fe-4b77-ab26-7df436150bd8"
      },
      "execution_count": null,
      "outputs": [
        {
          "output_type": "stream",
          "name": "stdout",
          "text": [
            "Initialization complete\n",
            "Iteration 0, inertia 5686.0525436637.\n",
            "Iteration 1, inertia 3164.8875140123528.\n",
            "Iteration 2, inertia 3132.2077111951467.\n",
            "Iteration 3, inertia 3111.712575878138.\n",
            "Iteration 4, inertia 3098.583773647865.\n",
            "Iteration 5, inertia 3092.1905280374385.\n",
            "Iteration 6, inertia 3087.2770892443127.\n",
            "Iteration 7, inertia 3084.1004773772715.\n",
            "Iteration 8, inertia 3082.7997677507046.\n",
            "Iteration 9, inertia 3082.234382617422.\n",
            "Iteration 10, inertia 3081.9487984162006.\n",
            "Iteration 11, inertia 3081.843333964575.\n",
            "Iteration 12, inertia 3081.790665037127.\n",
            "Iteration 13, inertia 3081.752217763826.\n",
            "Iteration 14, inertia 3081.659718679884.\n",
            "Iteration 15, inertia 3081.616791469508.\n",
            "Iteration 16, inertia 3081.5894842981634.\n",
            "Iteration 17, inertia 3081.57097030357.\n",
            "Converged at iteration 17: strict convergence.\n"
          ]
        }
      ]
    },
    {
      "cell_type": "code",
      "source": [
        "print(\"km.labels_=%s\" % km.labels_)"
      ],
      "metadata": {
        "colab": {
          "base_uri": "https://localhost:8080/"
        },
        "id": "o782h-GoBfC4",
        "outputId": "7cbdbf02-36a1-457a-8672-ad77ca480e17"
      },
      "execution_count": null,
      "outputs": [
        {
          "output_type": "stream",
          "name": "stdout",
          "text": [
            "km.labels_=[48 23 31 ...  6  2 22]\n"
          ]
        }
      ]
    },
    {
      "cell_type": "markdown",
      "source": [
        "Now, let's test this on a new data"
      ],
      "metadata": {
        "id": "_ZJZdCR6LQkd"
      }
    },
    {
      "cell_type": "code",
      "source": [
        "new_post = \\\n",
        "    \"\"\"Disk drive problems. Hi, I have a problem with my hard disk.\n",
        "After 1 year it is working only sporadically now.\n",
        "I tried to format it, but now it doesn't boot any more.\n",
        "Any ideas? Thanks.\n",
        "\"\"\""
      ],
      "metadata": {
        "id": "j_pYLXw0BqVf"
      },
      "execution_count": null,
      "outputs": []
    },
    {
      "cell_type": "markdown",
      "source": [
        "Remember, first you have to convert text to vector using the same vectorizer"
      ],
      "metadata": {
        "id": "yu33IbC_LfmL"
      }
    },
    {
      "cell_type": "code",
      "source": [
        "new_post_vec = vectorizer.transform([new_post])\n",
        "new_post_vec.shape"
      ],
      "metadata": {
        "id": "bl5rxHJrBvgP",
        "colab": {
          "base_uri": "https://localhost:8080/"
        },
        "outputId": "2d1bb5bf-8b52-41d8-b619-41ff0ef2cf86"
      },
      "execution_count": null,
      "outputs": [
        {
          "output_type": "execute_result",
          "data": {
            "text/plain": [
              "(1, 4712)"
            ]
          },
          "metadata": {},
          "execution_count": 19
        }
      ]
    },
    {
      "cell_type": "markdown",
      "source": [
        "Now, test the model"
      ],
      "metadata": {
        "id": "7vgW5WsuLh93"
      }
    },
    {
      "cell_type": "code",
      "source": [
        "new_post_label = km.predict(new_post_vec)[0]\n",
        "\n",
        "new_post_label"
      ],
      "metadata": {
        "colab": {
          "base_uri": "https://localhost:8080/"
        },
        "id": "vZbPsR0nLlb3",
        "outputId": "989f7ed8-9bfa-4b62-be7a-19fc954bf73d"
      },
      "execution_count": null,
      "outputs": [
        {
          "output_type": "execute_result",
          "data": {
            "text/plain": [
              "9"
            ]
          },
          "metadata": {},
          "execution_count": 20
        }
      ]
    },
    {
      "cell_type": "markdown",
      "source": [
        "**Your Turn: Play with diffent examples and build a mental picture of the clusters**"
      ],
      "metadata": {
        "id": "TCg89yfhTCCn"
      }
    },
    {
      "cell_type": "markdown",
      "source": [
        "We can now find the most similar posts, and print the top 3"
      ],
      "metadata": {
        "id": "2xVkfuB9L8Jv"
      }
    },
    {
      "cell_type": "code",
      "source": [
        "similar_indices = (km.labels_ == new_post_label).nonzero()[0]\n",
        "\n",
        "similar = []\n",
        "for i in similar_indices:\n",
        "    dist = sp.linalg.norm((new_post_vec - vectorized[i]).toarray())\n",
        "    similar.append((dist, train_data.data[i]))\n",
        "\n",
        "similar = sorted(similar)\n",
        "print(\"Count similar: %i\" % len(similar))\n",
        "\n",
        "show_at_1 = similar[0]\n",
        "show_at_2 = similar[int(len(similar) / 10)]\n",
        "show_at_3 = similar[int(len(similar) / 2)]\n",
        "\n",
        "print(\"=== #1 ===\")\n",
        "print(show_at_1)\n",
        "print()\n",
        "\n",
        "print(\"=== #2 ===\")\n",
        "print(show_at_2)\n",
        "print()\n",
        "\n",
        "print(\"=== #3 ===\")\n",
        "print(show_at_3)"
      ],
      "metadata": {
        "colab": {
          "base_uri": "https://localhost:8080/"
        },
        "id": "Tdnw4p5RL8-g",
        "outputId": "0bc1ce31-1b38-4dec-95cf-d5169a5ef0c3"
      },
      "execution_count": null,
      "outputs": [
        {
          "output_type": "stream",
          "name": "stdout",
          "text": [
            "Count similar: 56\n",
            "=== #1 ===\n",
            "(1.0378441731334074, \"From: Thomas Dachsel <GERTHD@mvs.sas.com>\\nSubject: BOOT PROBLEM with IDE controller\\nNntp-Posting-Host: sdcmvs.mvs.sas.com\\nOrganization: SAS Institute Inc.\\nLines: 25\\n\\nHi,\\nI've got a Multi I/O card (IDE controller + serial/parallel\\ninterface) and two floppy drives (5 1/4, 3 1/2) and a\\nQuantum ProDrive 80AT connected to it.\\nI was able to format the hard disk, but I could not boot from\\nit. I can boot from drive A: (which disk drive does not matter)\\nbut if I remove the disk from drive A and press the reset switch,\\nthe LED of drive A: continues to glow, and the hard disk is\\nnot accessed at all.\\nI guess this must be a problem of either the Multi I/o card\\nor floppy disk drive settings (jumper configuration?)\\nDoes someone have any hint what could be the reason for it.\\nPlease reply by email to GERTHD@MVS.SAS.COM\\nThanks,\\nThomas\\n+-------------------------------------------------------------------+\\n| Thomas Dachsel                                                    |\\n| Internet: GERTHD@MVS.SAS.COM                                      |\\n| Fidonet:  Thomas_Dachsel@camel.fido.de (2:247/40)                 |\\n| Subnet:   dachsel@rnivh.rni.sub.org (UUCP in Germany, now active) |\\n| Phone:    +49 6221 4150 (work), +49 6203 12274 (home)             |\\n| Fax:      +49 6221 415101                                         |\\n| Snail:    SAS Institute GmbH, P.O.Box 105307, D-W-6900 Heidelberg |\\n| Tagline:  One bad sector can ruin a whole day...                  |\\n+-------------------------------------------------------------------+\\n\")\n",
            "\n",
            "=== #2 ===\n",
            "(1.1503043264096682, 'From: rpao@mts.mivj.ca.us (Roger C. Pao)\\nSubject: Re: Booting from B drive\\nOrganization: MicroTech Software\\nLines: 34\\n\\nglang@slee01.srl.ford.com (Gordon Lang) writes:\\n\\n>David Weisberger (djweisbe@unix.amherst.edu) wrote:\\n>: I have a 5 1/4\" drive as drive A.  How can I make the system boot from\\n>: my 3 1/2\" B drive?  (Optimally, the computer would be able to boot\\n>: from either A or B, checking them in order for a bootable disk.  But\\n>: if I have to switch cables around and simply switch the drives so that\\n>: it can\\'t boot 5 1/4\" disks, that\\'s OK.  Also, boot_b won\\'t do the trick\\n>: for me.)\\n>: \\n>: Thanks,\\n>:   Davebo\\n>We had the same issue plague us for months on our Gateway.  I finally\\n>got tired of it so I permanently interchanged the drives.  The only\\n>reason I didn\\'t do it in the first place was because I had several\\n>bootable 5-1/4\\'s and some 5-1/4 based install disks which expected\\n>the A drive.  I order all new software (and upgrades) to be 3-1/2 and\\n>the number of \"stupid\" install programs that can\\'t handle an alternate\\n>drive are declining with time - the ones I had are now upgraded.  And\\n>as for the bootable 5-1/4\\'s I just cut 3-1/2 replacements.\\n\\n>If switching the drives is not an option, you might be able to wire up\\n>a drive switch to your computer chasis.  I haven\\'t tried it but I think\\n>it would work as long as it is wired carefully.\\n\\nI did this.  I use a relay (Radio Shack 4PDT) instead of a huge\\nswitch.  This way, if the relay breaks, my drives will still work.\\n\\nIt works fine, but you may still need to change the CMOS before the\\ndrive switch will work correctly for some programs.\\n\\nrp93\\n-- \\nRoger C. Pao  {gordius,bagdad}!mts!rpao, rpao@mts.mivj.ca.us\\n')\n",
            "\n",
            "=== #3 ===\n",
            "(1.2793959084781283, 'From: vg@volkmar.Stollmann.DE (Volkmar Grote)\\nSubject: IBM PS/1 vs TEAC FD\\nDistribution: world\\nOrganization: Me? Organized?\\nLines: 21\\n\\nHello,\\n\\nI already tried our national news group without success.\\n\\nI tried to replace a friend\\'s original IBM floppy disk in his PS/1-PC\\nwith a normal TEAC drive.\\nI already identified the power supply on pins 3 (5V) and 6 (12V), shorted\\npin 6 (5.25\"/3.5\" switch) and inserted pullup resistors (2K2) on pins\\n8, 26, 28, 30, and 34.\\nThe computer doesn\\'t complain about a missing FD, but the FD\\'s light\\nstays on all the time. The drive spins up o.k. when I insert a disk,\\nbut I can\\'t access it.\\nThe TEAC works fine in a normal PC.\\n\\nAre there any points I missed?\\n\\nThank you.\\n\\tVolkmar\\n\\n---\\nVolkmar.Grote@Stollmann.DE\\n')\n"
          ]
        }
      ]
    },
    {
      "cell_type": "markdown",
      "source": [
        "**Your Turn**\n",
        "\n",
        "\n",
        "*   different versions of the kmeans algorithm\n",
        "*   using different numbers of features\n",
        "*   using idf or not\n",
        "*   using different feature like BoW or word2vec based\n",
        "*   save required files like vectorizer, model etc into GDrive\n",
        "\n"
      ],
      "metadata": {
        "id": "242gsIutM06u"
      }
    },
    {
      "cell_type": "markdown",
      "source": [
        "**How to deal with Noise**: You will find that the clustering is not perfect: some posts will be clustered with posts to a different newsgroup.\n",
        "\n",
        "For examples"
      ],
      "metadata": {
        "id": "FBi2Py2lNOqF"
      }
    },
    {
      "cell_type": "code",
      "source": [
        "# Create a list of tuples that can be sorted by the length of the post\n",
        "\n",
        "post_group = zip(train_data.data, train_data.target)\n",
        "all = [(len(post[0]), post[0], train_data.target_names[post[1]])\n",
        "       for post in post_group]"
      ],
      "metadata": {
        "id": "hdZd4j3EN-w8"
      },
      "execution_count": null,
      "outputs": []
    },
    {
      "cell_type": "code",
      "source": [
        "graphics = sorted([post for post in all if post[2] == 'comp.graphics'])\n",
        "print(graphics[5])"
      ],
      "metadata": {
        "colab": {
          "base_uri": "https://localhost:8080/"
        },
        "id": "-0Ey1tgjNrc7",
        "outputId": "fb7f883f-974f-4787-8609-a7eeaf760e75"
      },
      "execution_count": null,
      "outputs": [
        {
          "output_type": "stream",
          "name": "stdout",
          "text": [
            "(245, 'From: SITUNAYA@IBM3090.BHAM.AC.UK\\nSubject: test....(sorry)\\nOrganization: The University of Birmingham, United Kingdom\\nLines: 1\\nNNTP-Posting-Host: ibm3090.bham.ac.uk\\n\\n==============================================================================\\n', 'comp.graphics')\n"
          ]
        }
      ]
    },
    {
      "cell_type": "code",
      "source": [
        "noise_post = graphics[5][1]\n",
        "noise_post"
      ],
      "metadata": {
        "colab": {
          "base_uri": "https://localhost:8080/",
          "height": 52
        },
        "id": "2vthfZ9gNksi",
        "outputId": "1be0872e-31bd-4f78-d60c-dfc75e60b541"
      },
      "execution_count": null,
      "outputs": [
        {
          "output_type": "execute_result",
          "data": {
            "text/plain": [
              "'From: SITUNAYA@IBM3090.BHAM.AC.UK\\nSubject: test....(sorry)\\nOrganization: The University of Birmingham, United Kingdom\\nLines: 1\\nNNTP-Posting-Host: ibm3090.bham.ac.uk\\n\\n==============================================================================\\n'"
            ],
            "application/vnd.google.colaboratory.intrinsic+json": {
              "type": "string"
            }
          },
          "metadata": {},
          "execution_count": 24
        }
      ]
    },
    {
      "cell_type": "code",
      "source": [
        "analyzer = vectorizer.build_analyzer()\n",
        "print(list(analyzer(noise_post)))"
      ],
      "metadata": {
        "colab": {
          "base_uri": "https://localhost:8080/"
        },
        "id": "HdKkELaWOQ6G",
        "outputId": "0015c6b7-a3f1-453d-af84-95f9add30693"
      },
      "execution_count": null,
      "outputs": [
        {
          "output_type": "stream",
          "name": "stdout",
          "text": [
            "['situnaya', 'ibm3090', 'bham', 'ac', 'uk', 'subject', 'test', 'sorri', 'organ', 'univers', 'birmingham', 'unit', 'kingdom', 'line', 'nntp', 'post', 'host', 'ibm3090', 'bham', 'ac', 'uk']\n"
          ]
        }
      ]
    },
    {
      "cell_type": "code",
      "source": [
        "useful = set(analyzer(noise_post)).intersection(vectorizer.get_feature_names_out())\n",
        "print(sorted(useful))"
      ],
      "metadata": {
        "colab": {
          "base_uri": "https://localhost:8080/"
        },
        "id": "TTo82yH0OUzo",
        "outputId": "cc741dae-96ea-44f4-90df-5fcb2a452ba4"
      },
      "execution_count": null,
      "outputs": [
        {
          "output_type": "stream",
          "name": "stdout",
          "text": [
            "['ac', 'birmingham', 'host', 'kingdom', 'nntp', 'sorri', 'test', 'uk', 'unit', 'univers']\n"
          ]
        }
      ]
    },
    {
      "cell_type": "code",
      "source": [
        "for term in sorted(useful):\n",
        "    print('IDF(%s)=%.2f' % (term,\n",
        "                            vectorizer._tfidf.idf_[vectorizer.vocabulary_[term]]))"
      ],
      "metadata": {
        "colab": {
          "base_uri": "https://localhost:8080/"
        },
        "id": "VBzvzJs3OVhX",
        "outputId": "d63c3c1a-9134-4d40-d507-c6a82037492b"
      },
      "execution_count": null,
      "outputs": [
        {
          "output_type": "stream",
          "name": "stdout",
          "text": [
            "IDF(ac)=3.51\n",
            "IDF(birmingham)=6.77\n",
            "IDF(host)=1.74\n",
            "IDF(kingdom)=6.68\n",
            "IDF(nntp)=1.77\n",
            "IDF(sorri)=4.14\n",
            "IDF(test)=3.83\n",
            "IDF(uk)=3.70\n",
            "IDF(unit)=4.42\n",
            "IDF(univers)=1.91\n"
          ]
        }
      ]
    },
    {
      "cell_type": "markdown",
      "source": [
        "**Your Turn: Try to find a way to deal with Noisy data**"
      ],
      "metadata": {
        "id": "Hw7X4FhVOlEo"
      }
    },
    {
      "cell_type": "markdown",
      "source": [
        "## Hierarchical clustering\n",
        "\n",
        "The `AgglomerativeClustering` scikit-learn object performs hierarchical\n",
        "clustering 'bottom-up', starting from each object as a separate cluster, and then merging these clusters two at a time.\n",
        "\n",
        "The class supports three different linkage criteria—metrics used to decide which clusters are closer:\n",
        "- Maximum distance\n",
        "- Average distance\n",
        "- Ward distance: this is a criterion that minimizes the sum of square\n",
        "differences."
      ],
      "metadata": {
        "id": "f1kDcAwVOxji"
      }
    },
    {
      "cell_type": "code",
      "source": [
        "import time as time\n",
        "import numpy as np\n",
        "import matplotlib.pyplot as plt\n",
        "import mpl_toolkits.mplot3d.axes3d as p3\n",
        "from sklearn.cluster import AgglomerativeClustering\n",
        "from sklearn.datasets import make_swiss_roll"
      ],
      "metadata": {
        "id": "AaPXAxwHPQ5L"
      },
      "execution_count": null,
      "outputs": []
    },
    {
      "cell_type": "code",
      "source": [
        "# Generate data (swiss roll dataset)\n",
        "n_samples = 1500\n",
        "noise = 0.05\n",
        "X, y = make_swiss_roll(n_samples=n_samples, noise=noise)\n",
        "# Make it thinner\n",
        "X[:, 1] *= .5"
      ],
      "metadata": {
        "id": "_D5NKgnVPZ9i"
      },
      "execution_count": null,
      "outputs": []
    },
    {
      "cell_type": "code",
      "source": [
        "# Compute clustering\n",
        "print(\"Compute unstructured hierarchical clustering...\")\n",
        "st = time.time()\n",
        "ward = AgglomerativeClustering(n_clusters=6, linkage='ward').fit(X)\n",
        "elapsed_time = time.time() - st\n",
        "label = ward.labels_\n",
        "print(\"Elapsed time: %.2fs\" % elapsed_time)\n",
        "print(\"Number of points: %i\" % label.size)"
      ],
      "metadata": {
        "colab": {
          "base_uri": "https://localhost:8080/"
        },
        "id": "QFm1dpmzP4vM",
        "outputId": "bf33f330-938c-4e5b-ffe9-5ffc6fd19528"
      },
      "execution_count": null,
      "outputs": [
        {
          "output_type": "stream",
          "name": "stdout",
          "text": [
            "Compute unstructured hierarchical clustering...\n",
            "Elapsed time: 0.07s\n",
            "Number of points: 1500\n"
          ]
        }
      ]
    },
    {
      "cell_type": "code",
      "source": [
        "# Plot result\n",
        "fig = plt.figure()\n",
        "ax = p3.Axes3D(fig)\n",
        "ax.view_init(7, -80)\n",
        "for l in np.unique(label):\n",
        "    ax.plot3D(X[label == l, 0], X[label == l, 1], X[label == l, 2],\n",
        "              'o', color=plt.cm.jet(np.float(l) / np.max(label + 1)))\n",
        "plt.title('Without connectivity constraints (time %.2fs)' % elapsed_time)\n",
        "plt.show()\n",
        "pylab.clf()"
      ],
      "metadata": {
        "colab": {
          "base_uri": "https://localhost:8080/",
          "height": 419
        },
        "id": "xSf3OGL-P58J",
        "outputId": "f22e1507-3b3f-41e5-f26c-14e79369780e"
      },
      "execution_count": null,
      "outputs": [
        {
          "output_type": "error",
          "ename": "AttributeError",
          "evalue": "module 'numpy' has no attribute 'float'.\n`np.float` was a deprecated alias for the builtin `float`. To avoid this error in existing code, use `float` by itself. Doing this will not modify any behavior and is safe. If you specifically wanted the numpy scalar type, use `np.float64` here.\nThe aliases was originally deprecated in NumPy 1.20; for more details and guidance see the original release note at:\n    https://numpy.org/devdocs/release/1.20.0-notes.html#deprecations",
          "traceback": [
            "\u001b[0;31m---------------------------------------------------------------------------\u001b[0m",
            "\u001b[0;31mAttributeError\u001b[0m                            Traceback (most recent call last)",
            "\u001b[0;32m<ipython-input-32-4ff466fbcaa7>\u001b[0m in \u001b[0;36m<cell line: 5>\u001b[0;34m()\u001b[0m\n\u001b[1;32m      5\u001b[0m \u001b[0;32mfor\u001b[0m \u001b[0ml\u001b[0m \u001b[0;32min\u001b[0m \u001b[0mnp\u001b[0m\u001b[0;34m.\u001b[0m\u001b[0munique\u001b[0m\u001b[0;34m(\u001b[0m\u001b[0mlabel\u001b[0m\u001b[0;34m)\u001b[0m\u001b[0;34m:\u001b[0m\u001b[0;34m\u001b[0m\u001b[0;34m\u001b[0m\u001b[0m\n\u001b[1;32m      6\u001b[0m     ax.plot3D(X[label == l, 0], X[label == l, 1], X[label == l, 2],\n\u001b[0;32m----> 7\u001b[0;31m               'o', color=plt.cm.jet(np.float(l) / np.max(label + 1)))\n\u001b[0m\u001b[1;32m      8\u001b[0m \u001b[0mplt\u001b[0m\u001b[0;34m.\u001b[0m\u001b[0mtitle\u001b[0m\u001b[0;34m(\u001b[0m\u001b[0;34m'Without connectivity constraints (time %.2fs)'\u001b[0m \u001b[0;34m%\u001b[0m \u001b[0melapsed_time\u001b[0m\u001b[0;34m)\u001b[0m\u001b[0;34m\u001b[0m\u001b[0;34m\u001b[0m\u001b[0m\n\u001b[1;32m      9\u001b[0m \u001b[0mplt\u001b[0m\u001b[0;34m.\u001b[0m\u001b[0mshow\u001b[0m\u001b[0;34m(\u001b[0m\u001b[0;34m)\u001b[0m\u001b[0;34m\u001b[0m\u001b[0;34m\u001b[0m\u001b[0m\n",
            "\u001b[0;32m/usr/local/lib/python3.10/dist-packages/numpy/__init__.py\u001b[0m in \u001b[0;36m__getattr__\u001b[0;34m(attr)\u001b[0m\n\u001b[1;32m    317\u001b[0m \u001b[0;34m\u001b[0m\u001b[0m\n\u001b[1;32m    318\u001b[0m         \u001b[0;32mif\u001b[0m \u001b[0mattr\u001b[0m \u001b[0;32min\u001b[0m \u001b[0m__former_attrs__\u001b[0m\u001b[0;34m:\u001b[0m\u001b[0;34m\u001b[0m\u001b[0;34m\u001b[0m\u001b[0m\n\u001b[0;32m--> 319\u001b[0;31m             \u001b[0;32mraise\u001b[0m \u001b[0mAttributeError\u001b[0m\u001b[0;34m(\u001b[0m\u001b[0m__former_attrs__\u001b[0m\u001b[0;34m[\u001b[0m\u001b[0mattr\u001b[0m\u001b[0;34m]\u001b[0m\u001b[0;34m)\u001b[0m\u001b[0;34m\u001b[0m\u001b[0;34m\u001b[0m\u001b[0m\n\u001b[0m\u001b[1;32m    320\u001b[0m \u001b[0;34m\u001b[0m\u001b[0m\n\u001b[1;32m    321\u001b[0m         \u001b[0;32mif\u001b[0m \u001b[0mattr\u001b[0m \u001b[0;34m==\u001b[0m \u001b[0;34m'testing'\u001b[0m\u001b[0;34m:\u001b[0m\u001b[0;34m\u001b[0m\u001b[0;34m\u001b[0m\u001b[0m\n",
            "\u001b[0;31mAttributeError\u001b[0m: module 'numpy' has no attribute 'float'.\n`np.float` was a deprecated alias for the builtin `float`. To avoid this error in existing code, use `float` by itself. Doing this will not modify any behavior and is safe. If you specifically wanted the numpy scalar type, use `np.float64` here.\nThe aliases was originally deprecated in NumPy 1.20; for more details and guidance see the original release note at:\n    https://numpy.org/devdocs/release/1.20.0-notes.html#deprecations"
          ]
        },
        {
          "output_type": "display_data",
          "data": {
            "text/plain": [
              "<Figure size 640x480 with 0 Axes>"
            ]
          },
          "metadata": {}
        }
      ]
    },
    {
      "cell_type": "code",
      "source": [
        "# Define the structure A of the data. Here a 10 nearest neighbors\n",
        "from sklearn.neighbors import kneighbors_graph\n",
        "connectivity = kneighbors_graph(X, n_neighbors=10, include_self=False)"
      ],
      "metadata": {
        "id": "lc0pfqmnQDPe"
      },
      "execution_count": null,
      "outputs": []
    },
    {
      "cell_type": "code",
      "source": [
        "# Compute clustering\n",
        "print(\"Compute structured hierarchical clustering...\")\n",
        "st = time.time()\n",
        "ward = AgglomerativeClustering(n_clusters=6, connectivity=connectivity,\n",
        "                               linkage='ward').fit(X)\n",
        "elapsed_time = time.time() - st\n",
        "label = ward.labels_\n",
        "print(\"Elapsed time: %.2fs\" % elapsed_time)\n",
        "print(\"Number of points: %i\" % label.size)"
      ],
      "metadata": {
        "id": "FFPpZlqRQF28"
      },
      "execution_count": null,
      "outputs": []
    },
    {
      "cell_type": "code",
      "source": [
        "# Plot result\n",
        "fig = plt.figure()\n",
        "ax = p3.Axes3D(fig)\n",
        "ax.view_init(7, -80)\n",
        "for l in np.unique(label):\n",
        "    ax.plot3D(X[label == l, 0], X[label == l, 1], X[label == l, 2],\n",
        "              'o', color=plt.cm.jet(float(l) / np.max(label + 1)))\n",
        "plt.title('With connectivity constraints (time %.2fs)' % elapsed_time)\n",
        "\n",
        "plt.show()\n",
        "pylab.clf()"
      ],
      "metadata": {
        "id": "St6yKWWLQH3t"
      },
      "execution_count": null,
      "outputs": []
    },
    {
      "cell_type": "markdown",
      "source": [
        "**Your Turn: Above figures should be in 3D, you should find way to display figure in 3D and then analyse the difference in both**"
      ],
      "metadata": {
        "id": "ryN4Nw5ASPl_"
      }
    },
    {
      "cell_type": "markdown",
      "source": [
        "## Data Exploration\n",
        "\n",
        "This maybe part of you Assignment. Here, I will provide hint, not solution."
      ],
      "metadata": {
        "id": "DurWgdcJTyVn"
      }
    },
    {
      "cell_type": "markdown",
      "source": [
        "Let's first mount the GDrive and get the path"
      ],
      "metadata": {
        "id": "6v5KmJCAC99m"
      }
    },
    {
      "cell_type": "code",
      "source": [
        "from google.colab import drive\n",
        "drive.mount('/content/gdrive') # To mount the GDrive, this will ask permission for access"
      ],
      "metadata": {
        "id": "ah_TYlwq0bQD"
      },
      "execution_count": null,
      "outputs": []
    },
    {
      "cell_type": "code",
      "source": [
        "GOOGLE_DRIVE_PATH_AFTER_MYDRIVE = os.path.join('./CE807-24-SP/Lab03/') # Make sure to update with your student_id and student_id is an integer\n",
        "GOOGLE_DRIVE_PATH = os.path.join('gdrive', 'MyDrive', GOOGLE_DRIVE_PATH_AFTER_MYDRIVE)\n",
        "print('List files: ', os.listdir(GOOGLE_DRIVE_PATH))"
      ],
      "metadata": {
        "id": "7i2V_q1ODSsv"
      },
      "execution_count": null,
      "outputs": []
    },
    {
      "cell_type": "code",
      "source": [
        "data_dir =  os.path.join(GOOGLE_DRIVE_PATH,'data')\n"
      ],
      "metadata": {
        "id": "OWBeCMSBCJh1"
      },
      "execution_count": null,
      "outputs": []
    },
    {
      "cell_type": "code",
      "source": [
        "data_file =  os.path.join(GOOGLE_DRIVE_PATH,'train.csv')"
      ],
      "metadata": {
        "id": "Xieh4pVKW5F2"
      },
      "execution_count": null,
      "outputs": []
    },
    {
      "cell_type": "markdown",
      "source": [
        "**Your Turn**\n",
        "\n",
        "*   Download file from https://drive.google.com/file/d/1xz1lI8aXMGZ1t96ZAX_PyJeQkyZBADb0/view?usp=sharing and save it in './CE807-24-SU/Lab03/data/'\n",
        "*  Read the csv file and perform different data exploration\n",
        "*  you could also use different methods to analyse data, as in https://towardsdatascience.com/nlp-part-3-exploratory-data-analysis-of-text-data-1caa8ab3f79d\n",
        "* Use clustering with different cluster size to analyse the data   \n",
        "\n"
      ],
      "metadata": {
        "id": "o5h6lA4NUD5O"
      }
    }
  ]
}