{
  "nbformat": 4,
  "nbformat_minor": 0,
  "metadata": {
    "kernelspec": {
      "name": "python3",
      "display_name": "Python 3"
    },
    "colab": {
      "provenance": [],
      "include_colab_link": true
    },
    "accelerator": "GPU",
    "gpuClass": "standard"
  },
  "cells": [
    {
      "cell_type": "markdown",
      "metadata": {
        "id": "view-in-github",
        "colab_type": "text"
      },
      "source": [
        "<a href=\"https://colab.research.google.com/github/Guliko24/CE807_Text_Analytics/blob/main/Lab08/lab08.ipynb\" target=\"_parent\"><img src=\"https://colab.research.google.com/assets/colab-badge.svg\" alt=\"Open In Colab\"/></a>"
      ]
    },
    {
      "cell_type": "markdown",
      "metadata": {
        "id": "H6oqGiIXvrMl"
      },
      "source": [
        "# Lab 08- Building blocks of NN\n",
        "\n",
        "In this notebook, we work on a toy NLP task. Following resources have been used in preparation of this notebook:\n",
        "* [\"Word Window Classification\" tutorial notebook](https://web.stanford.edu/class/archive/cs/cs224n/cs224n.1204/materials/ww_classifier.ipynb) by Matt Lamm, from Winter 2020 offering of CS224N\n",
        "* Official PyTorch Documentation on [Deep Learning with PyTorch: A 60 Minute Blitz](https://pytorch.org/tutorials/beginner/deep_learning_60min_blitz.html) by Soumith Chintala\n",
        "* PyTorch Tutorial Notebook, [Build Basic Generative Adversarial Networks (GANs) | Coursera](https://www.coursera.org/learn/build-basic-generative-adversarial-networks-gans) by Sharon Zhou, offered on Coursera\n",
        "* Official PyTorch Sentiment Analysis [Tutorial](https://pytorch.org/tutorials/beginner/text_sentiment_ngrams_tutorial.html)\n",
        "\n",
        "Before starting copy the `lab08.ipynb` into your GDrive in `CE807-24-SP/Lab08/` and copy [`train,csv`, `valid.csv`, `test.csv`] from the `lab05`\n",
        "\n"
      ]
    },
    {
      "cell_type": "code",
      "metadata": {
        "id": "u0ukr7quvrMx"
      },
      "source": [
        "import torch\n",
        "import torch.nn as nn\n",
        "\n",
        "# Import pprint, module we use for making our print statements prettier\n",
        "import pprint\n",
        "pp = pprint.PrettyPrinter()"
      ],
      "execution_count": 1,
      "outputs": []
    },
    {
      "cell_type": "markdown",
      "metadata": {
        "id": "k10ZRdcBwDP3"
      },
      "source": [
        "We are all set to start our tutorial. Let's dive in!"
      ]
    },
    {
      "cell_type": "markdown",
      "metadata": {
        "id": "pYLWqKIoaOyd"
      },
      "source": [
        "## Neural Network Module\n",
        "\n",
        "So far we have looked into the tensors, their properties and basic operations on tensors. We will use predefined blocks in the `torch.nn` module of `PyTorch`. We will then put together these blocks to create complex networks. Let's start by importing this module with an alias so that we don't have to type `torch` every time we use it.\n",
        "\n",
        "Think NN as Lego block and we will see different lego blocks and how to combine it."
      ]
    },
    {
      "cell_type": "code",
      "metadata": {
        "id": "qUmrDpbhV4Tn"
      },
      "source": [
        "import torch\n",
        "import torch.nn as nn"
      ],
      "execution_count": 2,
      "outputs": []
    },
    {
      "cell_type": "markdown",
      "metadata": {
        "id": "joGvRWjEbak0"
      },
      "source": [
        "### **Linear Layer**\n",
        "We can use `nn.Linear(H_in, H_out)` to create a a linear layer. This will take a matrix of `(N, *, H_in)` dimensions and output a matrix of `(N, *, H_out)`. The `*` denotes that there could be arbitrary number of dimensions in between. The linear layer performs the operation `Ax+b`, where `A` and `b` are initialized randomly. If we don't want the linear layer to learn the bias parameters, we can initialize our layer with `bias=False`."
      ]
    },
    {
      "cell_type": "code",
      "metadata": {
        "colab": {
          "base_uri": "https://localhost:8080/"
        },
        "id": "6XfnKI4-a5j9",
        "outputId": "88241efe-0aed-40b8-f4f3-3c7ce440bc0a"
      },
      "source": [
        "# Create the inputs\n",
        "input = torch.ones(2,3,4)\n",
        "# N* H_in -> N*H_out\n",
        "\n",
        "\n",
        "# Make a linear layers transforming N,*,H_in dimensinal inputs to N,*,H_out\n",
        "# dimensional outputs\n",
        "linear = nn.Linear(4, 2) ##### here the 4 columns are linearly reduced to 2 and the new tensor is (2,2)\n",
        "linear_output = linear(input)\n",
        "print(input.shape)\n",
        "\n",
        "print(linear_output.shape)\n",
        "\n",
        "#in sentiment analysis , i can reduce a large vector into 2 classes"
      ],
      "execution_count": 3,
      "outputs": [
        {
          "output_type": "stream",
          "name": "stdout",
          "text": [
            "torch.Size([2, 3, 4])\n",
            "torch.Size([2, 3, 2])\n"
          ]
        }
      ]
    },
    {
      "cell_type": "code",
      "source": [
        "input"
      ],
      "metadata": {
        "colab": {
          "base_uri": "https://localhost:8080/"
        },
        "id": "obAkKey0Gs8t",
        "outputId": "1adfe7e1-749f-4790-fd4a-90d3c2dc2edf"
      },
      "execution_count": 4,
      "outputs": [
        {
          "output_type": "execute_result",
          "data": {
            "text/plain": [
              "tensor([[[1., 1., 1., 1.],\n",
              "         [1., 1., 1., 1.],\n",
              "         [1., 1., 1., 1.]],\n",
              "\n",
              "        [[1., 1., 1., 1.],\n",
              "         [1., 1., 1., 1.],\n",
              "         [1., 1., 1., 1.]]])"
            ]
          },
          "metadata": {},
          "execution_count": 4
        }
      ]
    },
    {
      "cell_type": "code",
      "source": [
        "linear_output"
      ],
      "metadata": {
        "colab": {
          "base_uri": "https://localhost:8080/"
        },
        "id": "EZ3on5dMGl9_",
        "outputId": "539c1be7-33b0-4191-edaf-1d859d446e93"
      },
      "execution_count": 5,
      "outputs": [
        {
          "output_type": "execute_result",
          "data": {
            "text/plain": [
              "tensor([[[ 0.2081, -0.4345],\n",
              "         [ 0.2081, -0.4345],\n",
              "         [ 0.2081, -0.4345]],\n",
              "\n",
              "        [[ 0.2081, -0.4345],\n",
              "         [ 0.2081, -0.4345],\n",
              "         [ 0.2081, -0.4345]]], grad_fn=<ViewBackward0>)"
            ]
          },
          "metadata": {},
          "execution_count": 5
        }
      ]
    },
    {
      "cell_type": "code",
      "metadata": {
        "colab": {
          "base_uri": "https://localhost:8080/"
        },
        "id": "0_9XKtAFYpdI",
        "outputId": "5b964a38-b16c-416f-fc9e-668a973f04aa"
      },
      "source": [
        "list(linear.parameters()) #y =  Wx + b\n",
        "\n",
        "#here it randomly created w and b"
      ],
      "execution_count": 51,
      "outputs": [
        {
          "output_type": "execute_result",
          "data": {
            "text/plain": [
              "[Parameter containing:\n",
              " tensor([[ 0.2787, -0.4403,  0.1815,  0.2074],\n",
              "         [-0.4668,  0.3468,  0.1456, -0.4095]], requires_grad=True),\n",
              " Parameter containing:\n",
              " tensor([-0.0191, -0.0506], requires_grad=True)]"
            ]
          },
          "metadata": {},
          "execution_count": 51
        }
      ]
    },
    {
      "cell_type": "markdown",
      "source": [
        "Data of shape [batch_size, feature_dim] # 4\n",
        "[batch_size, output_dim] # 2\n",
        "\n",
        "linear layer of shape (feature_dim, output_dim)"
      ],
      "metadata": {
        "id": "4JC4UEc6DugH"
      }
    },
    {
      "cell_type": "markdown",
      "metadata": {
        "id": "jAXCCu9keUlW"
      },
      "source": [
        "### **Other Module Layers**\n",
        "There are several other preconfigured layers in the `nn` module. Some commonly used examples are `nn.RNN`. `nn.LSTM`, `nn.Transformer`, `nn.embedding`, `nn.dropout`, `nn.Conv2d`, `nn.ConvTranspose2d`, `nn.BatchNorm1d`, `nn.BatchNorm2d`, `nn.Upsample` and `nn.MaxPool2d` among many others. You should explore these. For now, the only important thing to remember is that we can treat each of these layers as plug and play components."
      ]
    },
    {
      "cell_type": "markdown",
      "metadata": {
        "id": "yslDOK66fYWn"
      },
      "source": [
        "### **Activation Function Layer**\n",
        "We can also use the `nn` module to apply activations functions to our tensors. Activation functions are used to add non-linearity to our network. Some examples of activations functions are `nn.ReLU()`, `nn.Sigmoid()` and `nn.LeakyReLU()`. Activation functions operate on each element seperately, so the shape of the tensors we get as an output are the same as the ones we pass in."
      ]
    },
    {
      "cell_type": "code",
      "metadata": {
        "colab": {
          "base_uri": "https://localhost:8080/"
        },
        "id": "IrJP5CveeOON",
        "outputId": "933f379a-1aba-4569-c005-5a692cedd485"
      },
      "source": [
        "linear_output"
      ],
      "execution_count": 7,
      "outputs": [
        {
          "output_type": "execute_result",
          "data": {
            "text/plain": [
              "tensor([[[ 0.2081, -0.4345],\n",
              "         [ 0.2081, -0.4345],\n",
              "         [ 0.2081, -0.4345]],\n",
              "\n",
              "        [[ 0.2081, -0.4345],\n",
              "         [ 0.2081, -0.4345],\n",
              "         [ 0.2081, -0.4345]]], grad_fn=<ViewBackward0>)"
            ]
          },
          "metadata": {},
          "execution_count": 7
        }
      ]
    },
    {
      "cell_type": "code",
      "metadata": {
        "colab": {
          "base_uri": "https://localhost:8080/"
        },
        "id": "W9v5FjQtd4Ck",
        "outputId": "250ec825-b7be-4f5d-9a52-73c7a70c35e6"
      },
      "source": [
        "sigmoid = nn.Sigmoid()\n",
        "output = sigmoid(linear_output)\n",
        "output"
      ],
      "execution_count": 8,
      "outputs": [
        {
          "output_type": "execute_result",
          "data": {
            "text/plain": [
              "tensor([[[0.5518, 0.3931],\n",
              "         [0.5518, 0.3931],\n",
              "         [0.5518, 0.3931]],\n",
              "\n",
              "        [[0.5518, 0.3931],\n",
              "         [0.5518, 0.3931],\n",
              "         [0.5518, 0.3931]]], grad_fn=<SigmoidBackward0>)"
            ]
          },
          "metadata": {},
          "execution_count": 8
        }
      ]
    },
    {
      "cell_type": "markdown",
      "metadata": {
        "id": "RiYTthJwhEYT"
      },
      "source": [
        "### **Putting the Layers Together**\n",
        "So far we have seen that we can create layers and pass the output of one as the input of the next. Instead of creating intermediate tensors and passing them around, we can use `nn.Sequentual`, which does exactly that."
      ]
    },
    {
      "cell_type": "code",
      "metadata": {
        "colab": {
          "base_uri": "https://localhost:8080/"
        },
        "id": "xtJeOqLxhBLY",
        "outputId": "d95791d5-aff5-4045-c410-05f43b057c0d"
      },
      "source": [
        "block = nn.Sequential(\n",
        "    nn.Linear(4, 2),\n",
        "    nn.Sigmoid()\n",
        ")\n",
        "\n",
        "input = torch.ones(2,3,4)\n",
        "output = block(input)\n",
        "output"
      ],
      "execution_count": 9,
      "outputs": [
        {
          "output_type": "execute_result",
          "data": {
            "text/plain": [
              "tensor([[[0.4831, 0.5242],\n",
              "         [0.4831, 0.5242],\n",
              "         [0.4831, 0.5242]],\n",
              "\n",
              "        [[0.4831, 0.5242],\n",
              "         [0.4831, 0.5242],\n",
              "         [0.4831, 0.5242]]], grad_fn=<SigmoidBackward0>)"
            ]
          },
          "metadata": {},
          "execution_count": 9
        }
      ]
    },
    {
      "cell_type": "markdown",
      "metadata": {
        "id": "GkJ81p3GUVPM"
      },
      "source": [
        "### Custom Modules\n",
        "\n",
        "Instead of using the predefined modules, we can also build our own by extending the `nn.Module` class. For example, we can build a the `nn.Linear` (which also extends `nn.Module`) on our own using the tensor introduced earlier! We can also build new, more complex modules, such as a custom neural network. You will be practicing these in the later assignment.\n",
        "\n",
        "To create a custom module, the first thing we have to do is to extend the `nn.Module`. We can then initialize our parameters in the `__init__` function, starting with a call to the `__init__` function of the super class. All the class attributes we define which are `nn` module objects are treated as parameters, which can be learned during the training. Tensors are not parameters, but they can be turned into parameters if they are wrapped in `nn.Parameter` class.\n",
        "\n",
        "All classes extending `nn.Module` are also expected to implement a `forward(x)` function, where `x` is a tensor. This is the function that is called when a parameter is passed to our module, such as in `model(x)`."
      ]
    },
    {
      "cell_type": "code",
      "metadata": {
        "id": "J2P7eZiMj32_"
      },
      "source": [
        "class MultilayerPerceptron(nn.Module):\n",
        "\n",
        "  def __init__(self, input_size, hidden_size, output_size):\n",
        "    # Call to the __init__ function of the super class\n",
        "    super(MultilayerPerceptron, self).__init__()\n",
        "\n",
        "    # Bookkeeping: Saving the initialization parameters\n",
        "    self.input_size = input_size\n",
        "    self.hidden_size = hidden_size\n",
        "    self.output_size = output_size\n",
        "\n",
        "    # Defining of our model\n",
        "    # There isn't anything specific about the naming of `self.model`. It could\n",
        "    # be something arbitrary.\n",
        "    self.model = nn.Sequential(\n",
        "        nn.Linear(self.input_size, self.hidden_size),\n",
        "        nn.ReLU(),\n",
        "        nn.Linear(self.hidden_size, self.output_size),\n",
        "    )\n",
        "\n",
        "  def forward(self, x):\n",
        "    output = self.model(x)\n",
        "    return output"
      ],
      "execution_count": 10,
      "outputs": []
    },
    {
      "cell_type": "markdown",
      "metadata": {
        "id": "b2DrfLiBVjNT"
      },
      "source": [
        "Here is an alternative way to define the same class. You can see that we can replace `nn.Sequential` by defining the individual layers in the `__init__` method and connecting the in the `forward` method.\n",
        "\n",
        "**You should look explore this on your time. We will not use that for now. Very useful for later.**"
      ]
    },
    {
      "cell_type": "code",
      "metadata": {
        "id": "9-lqhsqwViIk"
      },
      "source": [
        "class MultilayerPerceptronOther(nn.Module):\n",
        "\n",
        "  def __init__(self, input_size, hidden_size):\n",
        "    # Call to the __init__ function of the super class\n",
        "    super(MultilayerPerceptronOther, self).__init__()\n",
        "\n",
        "    # Bookkeeping: Saving the initialization parameters\n",
        "    self.input_size = input_size\n",
        "    self.hidden_size = hidden_size\n",
        "    self.output_size=output_size\n",
        "\n",
        "    # Defining of our layers## when you do this way then modifying each layer can be done here although this is not the popular way of writing a code\n",
        "    self.linear = nn.Linear(self.input_size, self.hidden_size)\n",
        "    self.relu = nn.ReLU()\n",
        "    self.linear2 = nn.Linear(self.hidden_size, self.output_size)\n",
        "    self.sigmoid = nn.Sigmoid()\n",
        "\n",
        "  def forward(self, x):\n",
        "    linear = self.linear(x)\n",
        "    relu = self.relu(linear)\n",
        "    linear2 = self.linear2(relu)\n",
        "\n",
        "\n",
        "    output = self.sigmoid(linear2)\n",
        "    return output"
      ],
      "execution_count": 54,
      "outputs": []
    },
    {
      "cell_type": "markdown",
      "metadata": {
        "id": "YQelcFo5bXgU"
      },
      "source": [
        "Now that we have defined our class, we can instantiate it and see what it does."
      ]
    },
    {
      "cell_type": "code",
      "metadata": {
        "colab": {
          "base_uri": "https://localhost:8080/"
        },
        "id": "cXi0T0FZbV0y",
        "outputId": "3a98243e-d4ab-400f-d5ff-80e1edb58920"
      },
      "source": [
        "# Make a sample input\n",
        "input = torch.randn(2, 5)#### ex.2 sentences with 5 vocabs each. in practice vectorizer will assign it\n",
        "print(input)\n",
        "\n",
        "# Create our model\n",
        "model = MultilayerPerceptronOther(5, 3)\n",
        "\n",
        "# view your model\n",
        "print(model)\n",
        "\n",
        "# Pass our input through our model\n",
        "out= model(input)\n",
        "print(out)"
      ],
      "execution_count": 55,
      "outputs": [
        {
          "output_type": "stream",
          "name": "stdout",
          "text": [
            "tensor([[-1.9230,  0.4782,  1.6176,  0.7878, -1.7590],\n",
            "        [ 0.2071,  1.3469, -0.9991, -0.0467, -1.2783]])\n",
            "MultilayerPerceptronOther(\n",
            "  (linear): Linear(in_features=5, out_features=3, bias=True)\n",
            "  (relu): ReLU()\n",
            "  (linear2): Linear(in_features=3, out_features=2, bias=True)\n",
            "  (sigmoid): Sigmoid()\n",
            ")\n",
            "tensor([[0.5107, 0.4819],\n",
            "        [0.4779, 0.4817]], grad_fn=<SigmoidBackward0>)\n"
          ]
        }
      ]
    },
    {
      "cell_type": "markdown",
      "metadata": {
        "id": "tCCbjc-Fb2-B"
      },
      "source": [
        "We can inspect the parameters of our model with `named_parameters()` and `parameters()` methods."
      ]
    },
    {
      "cell_type": "code",
      "metadata": {
        "colab": {
          "base_uri": "https://localhost:8080/"
        },
        "id": "7d23soYIb2WZ",
        "outputId": "61c5ba18-5ad0-471a-bae5-c0c0f9bb91f4"
      },
      "source": [
        "list(model.named_parameters())"
      ],
      "execution_count": 56,
      "outputs": [
        {
          "output_type": "execute_result",
          "data": {
            "text/plain": [
              "[('linear.weight',\n",
              "  Parameter containing:\n",
              "  tensor([[ 0.0349, -0.3513, -0.0706,  0.1802, -0.0018],\n",
              "          [-0.3174, -0.2573, -0.2898,  0.0943,  0.3882],\n",
              "          [ 0.3254, -0.2324,  0.4276,  0.4453, -0.0173]], requires_grad=True)),\n",
              " ('linear.bias',\n",
              "  Parameter containing:\n",
              "  tensor([ 0.2166, -0.1114, -0.1002], requires_grad=True)),\n",
              " ('linear2.weight',\n",
              "  Parameter containing:\n",
              "  tensor([[ 0.3380, -0.2888,  0.5388],\n",
              "          [ 0.3218,  0.4531, -0.0139]], requires_grad=True)),\n",
              " ('linear2.bias',\n",
              "  Parameter containing:\n",
              "  tensor([-0.0884, -0.0731], requires_grad=True))]"
            ]
          },
          "metadata": {},
          "execution_count": 56
        }
      ]
    },
    {
      "cell_type": "markdown",
      "metadata": {
        "id": "x5JegycOdMFy"
      },
      "source": [
        "### Optimization\n",
        "We have showed how gradients are calculated with the `backward()` function. Having the gradients isn't enought for our models to learn. We also need to know how to update the parameters of our models. This is where the optomozers comes in. `torch.optim` module contains several optimizers that we can use. Some popular examples are `optim.SGD` and `optim.Adam`. When initializing optimizers, we pass our model parameters, which can be accessed with `model.parameters()`, telling the optimizers which values it will be optimizing. Optimizers also has a learning rate (`lr`) parameter, which determines how big of an update will be made in every step. Different optimizers have different hyperparameters as well."
      ]
    },
    {
      "cell_type": "code",
      "metadata": {
        "id": "W0F-TvV0kk-I"
      },
      "source": [
        "import torch.optim as optim"
      ],
      "execution_count": 14,
      "outputs": []
    },
    {
      "cell_type": "markdown",
      "metadata": {
        "id": "wgak6o5dlQWF"
      },
      "source": [
        "After we have our optimization function, we can define a `loss` that we want to optimize for. We can either define the loss ourselves, or use one of the predefined loss function in `PyTorch`, such as `nn.BCELoss()`. Let's put everything together now! We will start by creating some dummy data."
      ]
    },
    {
      "cell_type": "code",
      "metadata": {
        "colab": {
          "base_uri": "https://localhost:8080/"
        },
        "id": "dGYFiaT_vXBn",
        "outputId": "1c4a0c7c-b55b-4cfa-b785-92791d77e880"
      },
      "source": [
        "# Create the y data\n",
        "y = torch.ones(10, 5)\n",
        "\n",
        "# Add some noise to our goal y to generate our x\n",
        "# We want out model to predict our original data, albeit the noise\n",
        "x = y + torch.randn_like(y)\n",
        "x"
      ],
      "execution_count": 15,
      "outputs": [
        {
          "output_type": "execute_result",
          "data": {
            "text/plain": [
              "tensor([[ 0.2786,  1.8921,  0.7995, -1.2886,  0.0257],\n",
              "        [-0.2344,  1.7342,  1.0817,  0.0888,  2.8343],\n",
              "        [ 1.1760,  0.8958,  1.2854,  1.6205, -0.3008],\n",
              "        [ 0.7822, -1.2502,  2.5650,  1.4337,  1.4476],\n",
              "        [ 0.8445,  1.8184,  3.0637,  1.3483,  0.8513],\n",
              "        [ 0.3399,  1.1210,  1.0093,  1.4824,  0.9893],\n",
              "        [ 1.9022,  0.0725,  0.5891,  2.0505,  1.0934],\n",
              "        [ 1.5009, -0.5597,  0.4042,  0.7613, -0.0666],\n",
              "        [ 1.4914,  0.9149,  2.7942,  1.1217,  0.5490],\n",
              "        [ 0.8789,  1.4303,  1.3690,  0.7378,  4.1539]])"
            ]
          },
          "metadata": {},
          "execution_count": 15
        }
      ]
    },
    {
      "cell_type": "markdown",
      "metadata": {
        "id": "BEsiOdpWvfLj"
      },
      "source": [
        "Now, we can define our model, optimizer and the loss function."
      ]
    },
    {
      "cell_type": "code",
      "metadata": {
        "colab": {
          "base_uri": "https://localhost:8080/"
        },
        "id": "2oA2XsdsbN8p",
        "outputId": "94e018dd-b749-494f-af3c-7c2b5dc8f5db"
      },
      "source": [
        "# Instantiate the model\n",
        "model = MultilayerPerceptronOther(5, 3)\n",
        "\n",
        "# Define the optimizer\n",
        "adam = optim.Adam(model.parameters(), lr=1e-1)\n",
        "\n",
        "# Define loss using a predefined loss function\n",
        "loss_function = nn.BCELoss()\n",
        "\n",
        "# Calculate how our model is doing now\n",
        "y_pred = model(x)\n",
        "loss_function(y_pred, y).item()"
      ],
      "execution_count": 16,
      "outputs": [
        {
          "output_type": "execute_result",
          "data": {
            "text/plain": [
              "0.6406251788139343"
            ]
          },
          "metadata": {},
          "execution_count": 16
        }
      ]
    },
    {
      "cell_type": "markdown",
      "metadata": {
        "id": "gtxU7Y8ZufSR"
      },
      "source": [
        "Let's see if we can have our model achieve a smaller loss. Now that we have everything we need, we can setup our training loop."
      ]
    },
    {
      "cell_type": "code",
      "metadata": {
        "colab": {
          "base_uri": "https://localhost:8080/"
        },
        "id": "ogl6-Ctmuek6",
        "outputId": "f0cfed08-7c5d-4d24-9500-a4629a331cb9"
      },
      "source": [
        "# Set the number of epoch, which determines the number of training iterations\n",
        "n_epoch = 10\n",
        "\n",
        "for epoch in range(n_epoch):\n",
        "  # Set the gradients to 0\n",
        "  adam.zero_grad()\n",
        "\n",
        "  # Get the model predictions\n",
        "  y_pred = model(x)\n",
        "\n",
        "  # Get the loss\n",
        "  loss = loss_function(y_pred, y)\n",
        "\n",
        "  # Print stats\n",
        "  print(f\"Epoch {epoch}: traing loss: {loss}\")\n",
        "\n",
        "  # Compute the gradients\n",
        "  loss.backward()\n",
        "\n",
        "  # Take a step to optimize the weights\n",
        "  adam.step()\n"
      ],
      "execution_count": 17,
      "outputs": [
        {
          "output_type": "stream",
          "name": "stdout",
          "text": [
            "Epoch 0: traing loss: 0.6406251788139343\n",
            "Epoch 1: traing loss: 0.48480308055877686\n",
            "Epoch 2: traing loss: 0.359578013420105\n",
            "Epoch 3: traing loss: 0.255191445350647\n",
            "Epoch 4: traing loss: 0.1731002926826477\n",
            "Epoch 5: traing loss: 0.11153435707092285\n",
            "Epoch 6: traing loss: 0.06772509217262268\n",
            "Epoch 7: traing loss: 0.03912103548645973\n",
            "Epoch 8: traing loss: 0.022084558382630348\n",
            "Epoch 9: traing loss: 0.012538430280983448\n"
          ]
        }
      ]
    },
    {
      "cell_type": "markdown",
      "metadata": {
        "id": "4nXApd82wlsF"
      },
      "source": [
        "You can see that our loss is decreasing. Let's check the predictions of our model now and see if they are close to our original `y`, which was all `1s`."
      ]
    },
    {
      "cell_type": "code",
      "metadata": {
        "colab": {
          "base_uri": "https://localhost:8080/"
        },
        "id": "ZrMJ8AmqeCY-",
        "outputId": "17362305-a178-4673-8092-3b49034b2b12"
      },
      "source": [
        "list(model.parameters())"
      ],
      "execution_count": 18,
      "outputs": [
        {
          "output_type": "execute_result",
          "data": {
            "text/plain": [
              "[Parameter containing:\n",
              " tensor([[-0.4208, -0.3934, -0.3607,  0.0577,  0.1004],\n",
              "         [-0.5230, -0.6468, -0.3240, -0.2652, -0.0835],\n",
              "         [ 1.2747,  0.5732,  0.8060,  0.5988,  1.2854]], requires_grad=True),\n",
              " Parameter containing:\n",
              " tensor([-0.1881, -0.6383,  1.2423], requires_grad=True),\n",
              " Parameter containing:\n",
              " tensor([[-0.5468,  0.1247,  1.2182],\n",
              "         [ 0.3323,  0.1235,  0.5095],\n",
              "         [ 0.4330,  0.5799,  1.2415],\n",
              "         [ 0.2845,  0.7340,  1.2838],\n",
              "         [ 0.3317,  0.3691,  1.1488]], requires_grad=True),\n",
              " Parameter containing:\n",
              " tensor([0.8807, 1.0150, 1.1187, 0.6302, 0.8505], requires_grad=True)]"
            ]
          },
          "metadata": {},
          "execution_count": 18
        }
      ]
    },
    {
      "cell_type": "code",
      "metadata": {
        "colab": {
          "base_uri": "https://localhost:8080/"
        },
        "id": "gRqE7P9EtvuS",
        "outputId": "41b32fe3-c1f8-42ff-e46f-5e0fc3e870f4"
      },
      "source": [
        "# See how our model performs on the training data\n",
        "y_pred = model(x)\n",
        "y_pred"
      ],
      "execution_count": 19,
      "outputs": [
        {
          "output_type": "execute_result",
          "data": {
            "text/plain": [
              "tensor([[0.9826, 0.9116, 0.9870, 0.9812, 0.9786],\n",
              "        [0.9999, 0.9870, 0.9999, 0.9999, 0.9998],\n",
              "        [0.9989, 0.9706, 0.9992, 0.9990, 0.9984],\n",
              "        [0.9998, 0.9856, 0.9999, 0.9998, 0.9997],\n",
              "        [1.0000, 0.9930, 1.0000, 1.0000, 0.9999],\n",
              "        [0.9993, 0.9761, 0.9995, 0.9994, 0.9990],\n",
              "        [0.9999, 0.9889, 0.9999, 0.9999, 0.9998],\n",
              "        [0.9944, 0.9434, 0.9959, 0.9943, 0.9927],\n",
              "        [0.9999, 0.9913, 1.0000, 1.0000, 0.9999],\n",
              "        [1.0000, 0.9979, 1.0000, 1.0000, 1.0000]], grad_fn=<SigmoidBackward0>)"
            ]
          },
          "metadata": {},
          "execution_count": 19
        }
      ]
    },
    {
      "cell_type": "code",
      "metadata": {
        "colab": {
          "base_uri": "https://localhost:8080/"
        },
        "id": "IJng31_Pi2R6",
        "outputId": "85c15320-b4f8-4f75-bfec-7a2baba27bff"
      },
      "source": [
        "# Create test data and check how our model performs on it\n",
        "x2 = y + torch.randn_like(y)\n",
        "y_pred = model(x2)\n",
        "y_pred"
      ],
      "execution_count": 20,
      "outputs": [
        {
          "output_type": "execute_result",
          "data": {
            "text/plain": [
              "tensor([[0.9995, 0.9788, 0.9997, 0.9996, 0.9993],\n",
              "        [0.8592, 0.8027, 0.8874, 0.8331, 0.8488],\n",
              "        [0.9912, 0.9323, 0.9935, 0.9908, 0.9887],\n",
              "        [0.9572, 0.8751, 0.9674, 0.9516, 0.9503],\n",
              "        [0.9948, 0.9450, 0.9962, 0.9947, 0.9931],\n",
              "        [0.9974, 0.9581, 0.9981, 0.9974, 0.9964],\n",
              "        [0.9997, 0.9839, 0.9998, 0.9998, 0.9996],\n",
              "        [0.9723, 0.9237, 0.9888, 0.9821, 0.9805],\n",
              "        [0.9867, 0.9203, 0.9901, 0.9858, 0.9834],\n",
              "        [0.9992, 0.9747, 0.9995, 0.9993, 0.9989]], grad_fn=<SigmoidBackward0>)"
            ]
          },
          "metadata": {},
          "execution_count": 20
        }
      ]
    },
    {
      "cell_type": "markdown",
      "metadata": {
        "id": "8WNk6oIZw2xo"
      },
      "source": [
        "Great! Looks like our model almost perfectly learned to filter out the noise from the `x` that we passed in!"
      ]
    },
    {
      "cell_type": "markdown",
      "metadata": {
        "id": "P8rUNk_1xG1v"
      },
      "source": [
        "# Text Classification\n",
        "\n",
        "Until this part of the notebook, we have learned the fundamentals of PyTorch and built a basic network solving a toy dataset. Now we will attempt to solve sentiment analysis, we will use part of IMDB dataset https://www.kaggle.com/datasets/columbine/imdb-dataset-sentiment-analysis-in-csv-format.\n",
        "\n",
        "Here are the things we will learn:\n",
        "\n",
        "1. Data: Creating a Dataset of Batched Tensors\n",
        "2. Modeling\n",
        "3. Training\n",
        "4. Prediction\n",
        "\n",
        "In this section, our goal will be to train a model that will predict the sentiment of a sentence, called `Sentiment Classification`.\n",
        "\n",
        "Let's dive in!"
      ]
    },
    {
      "cell_type": "markdown",
      "metadata": {
        "id": "_amzuUx8BJXI"
      },
      "source": [
        "## Data\n",
        "\n",
        "In NLP tasks, the corpus would generally be a `.txt`, `.json` or `.csv` file where each row corresponds to a sentence or a tabular datapoint. We are using `.csv` format.\n",
        "\n",
        "Before we start working on the code, let's mount the Gdrive and get path of the GDrive. Make sure that you have all files in the `Lab07` folder."
      ]
    },
    {
      "cell_type": "code",
      "source": [
        "%load_ext autoreload\n",
        "%autoreload 2"
      ],
      "metadata": {
        "id": "D-TAf39IQcIH"
      },
      "execution_count": 21,
      "outputs": []
    },
    {
      "cell_type": "code",
      "source": [
        "from google.colab import drive\n",
        "drive.mount('/content/gdrive', force_remount=True)"
      ],
      "metadata": {
        "id": "NuQL6BKKQc_W",
        "colab": {
          "base_uri": "https://localhost:8080/"
        },
        "outputId": "599d38ff-6f07-4830-b164-3b594f2bdfe6"
      },
      "execution_count": 22,
      "outputs": [
        {
          "output_type": "stream",
          "name": "stdout",
          "text": [
            "Mounted at /content/gdrive\n"
          ]
        }
      ]
    },
    {
      "cell_type": "code",
      "source": [
        "import os\n",
        "\n",
        "# TODO: Fill in the Google Drive path where you uploaded the assignment\n",
        "# Example: If you create a 2020FA folder and put all the files under Lab07 folder\n",
        "# GOOGLE_DRIVE_PATH_AFTER_MYDRIVE = 'Lab08'\n",
        "GOOGLE_DRIVE_PATH_AFTER_MYDRIVE = './CE807-24-SU/Lab08/'\n",
        "GOOGLE_DRIVE_PATH = os.path.join('gdrive', 'MyDrive', GOOGLE_DRIVE_PATH_AFTER_MYDRIVE)\n",
        "GOOGLE_DRIVE_DATA_PATH = os.path.join(GOOGLE_DRIVE_PATH, 'data')\n",
        "print(os.listdir(GOOGLE_DRIVE_PATH))\n",
        "print(os.listdir(GOOGLE_DRIVE_DATA_PATH))"
      ],
      "metadata": {
        "colab": {
          "base_uri": "https://localhost:8080/"
        },
        "id": "ft7By6hlQznA",
        "outputId": "6392673b-55a9-41f3-e666-4d6ec82ca66c"
      },
      "execution_count": 23,
      "outputs": [
        {
          "output_type": "stream",
          "name": "stdout",
          "text": [
            "['data', 'lab08.ipynb']\n",
            "['valid.csv', 'test.csv', 'sample.csv', 'train.csv']\n"
          ]
        }
      ]
    },
    {
      "cell_type": "markdown",
      "source": [
        "**Note the from last lab, instead of coping files in the current working directory, we are using semi-automatically getting the PATH and adding PATH in the while reading the files. This reduces the coping time.**"
      ],
      "metadata": {
        "id": "PJbucR8bfroJ"
      }
    },
    {
      "cell_type": "code",
      "metadata": {
        "id": "mDiI1PLMw10z",
        "colab": {
          "base_uri": "https://localhost:8080/"
        },
        "outputId": "6c28a7df-05ea-4d9c-e6f3-2a2f76c0c104"
      },
      "source": [
        "# Let's read the train file\n",
        "\n",
        "import pandas as pd\n",
        "\n",
        "train_file = os.path.join(GOOGLE_DRIVE_DATA_PATH, 'train.csv')\n",
        "train_data = pd.read_csv(train_file)\n",
        "train_data.shape"
      ],
      "execution_count": 24,
      "outputs": [
        {
          "output_type": "execute_result",
          "data": {
            "text/plain": [
              "(40000, 2)"
            ]
          },
          "metadata": {},
          "execution_count": 24
        }
      ]
    },
    {
      "cell_type": "code",
      "source": [
        "train_data.head(100)\n"
      ],
      "metadata": {
        "colab": {
          "base_uri": "https://localhost:8080/",
          "height": 424
        },
        "id": "vmwig_WoRWcC",
        "outputId": "e18ec009-28d8-4afc-9f1f-301ef3ad5bfe"
      },
      "execution_count": 25,
      "outputs": [
        {
          "output_type": "execute_result",
          "data": {
            "text/plain": [
              "                                                 text  label\n",
              "0   I grew up (b. 1965) watching and loving the Th...      0\n",
              "1   When I put this movie in my DVD player, and sa...      0\n",
              "2   Why do people who do not know what a particula...      0\n",
              "3   Even though I have great interest in Biblical ...      0\n",
              "4   Im a die hard Dads Army fan and nothing will e...      1\n",
              "..                                                ...    ...\n",
              "95  ...I saw this movie when it first came out in ...      1\n",
              "96  Released in December of 1957, Sayonara went on...      1\n",
              "97  War, Inc. - Corporations take over war in the ...      0\n",
              "98  What is your freaking problem? Do you have not...      1\n",
              "99  Dick and Jane Harper (Jim Carrey, Téa Leoni) w...      0\n",
              "\n",
              "[100 rows x 2 columns]"
            ],
            "text/html": [
              "\n",
              "  <div id=\"df-d2520b41-c55a-43f9-8fc9-755ceecb49f9\" class=\"colab-df-container\">\n",
              "    <div>\n",
              "<style scoped>\n",
              "    .dataframe tbody tr th:only-of-type {\n",
              "        vertical-align: middle;\n",
              "    }\n",
              "\n",
              "    .dataframe tbody tr th {\n",
              "        vertical-align: top;\n",
              "    }\n",
              "\n",
              "    .dataframe thead th {\n",
              "        text-align: right;\n",
              "    }\n",
              "</style>\n",
              "<table border=\"1\" class=\"dataframe\">\n",
              "  <thead>\n",
              "    <tr style=\"text-align: right;\">\n",
              "      <th></th>\n",
              "      <th>text</th>\n",
              "      <th>label</th>\n",
              "    </tr>\n",
              "  </thead>\n",
              "  <tbody>\n",
              "    <tr>\n",
              "      <th>0</th>\n",
              "      <td>I grew up (b. 1965) watching and loving the Th...</td>\n",
              "      <td>0</td>\n",
              "    </tr>\n",
              "    <tr>\n",
              "      <th>1</th>\n",
              "      <td>When I put this movie in my DVD player, and sa...</td>\n",
              "      <td>0</td>\n",
              "    </tr>\n",
              "    <tr>\n",
              "      <th>2</th>\n",
              "      <td>Why do people who do not know what a particula...</td>\n",
              "      <td>0</td>\n",
              "    </tr>\n",
              "    <tr>\n",
              "      <th>3</th>\n",
              "      <td>Even though I have great interest in Biblical ...</td>\n",
              "      <td>0</td>\n",
              "    </tr>\n",
              "    <tr>\n",
              "      <th>4</th>\n",
              "      <td>Im a die hard Dads Army fan and nothing will e...</td>\n",
              "      <td>1</td>\n",
              "    </tr>\n",
              "    <tr>\n",
              "      <th>...</th>\n",
              "      <td>...</td>\n",
              "      <td>...</td>\n",
              "    </tr>\n",
              "    <tr>\n",
              "      <th>95</th>\n",
              "      <td>...I saw this movie when it first came out in ...</td>\n",
              "      <td>1</td>\n",
              "    </tr>\n",
              "    <tr>\n",
              "      <th>96</th>\n",
              "      <td>Released in December of 1957, Sayonara went on...</td>\n",
              "      <td>1</td>\n",
              "    </tr>\n",
              "    <tr>\n",
              "      <th>97</th>\n",
              "      <td>War, Inc. - Corporations take over war in the ...</td>\n",
              "      <td>0</td>\n",
              "    </tr>\n",
              "    <tr>\n",
              "      <th>98</th>\n",
              "      <td>What is your freaking problem? Do you have not...</td>\n",
              "      <td>1</td>\n",
              "    </tr>\n",
              "    <tr>\n",
              "      <th>99</th>\n",
              "      <td>Dick and Jane Harper (Jim Carrey, Téa Leoni) w...</td>\n",
              "      <td>0</td>\n",
              "    </tr>\n",
              "  </tbody>\n",
              "</table>\n",
              "<p>100 rows × 2 columns</p>\n",
              "</div>\n",
              "    <div class=\"colab-df-buttons\">\n",
              "\n",
              "  <div class=\"colab-df-container\">\n",
              "    <button class=\"colab-df-convert\" onclick=\"convertToInteractive('df-d2520b41-c55a-43f9-8fc9-755ceecb49f9')\"\n",
              "            title=\"Convert this dataframe to an interactive table.\"\n",
              "            style=\"display:none;\">\n",
              "\n",
              "  <svg xmlns=\"http://www.w3.org/2000/svg\" height=\"24px\" viewBox=\"0 -960 960 960\">\n",
              "    <path d=\"M120-120v-720h720v720H120Zm60-500h600v-160H180v160Zm220 220h160v-160H400v160Zm0 220h160v-160H400v160ZM180-400h160v-160H180v160Zm440 0h160v-160H620v160ZM180-180h160v-160H180v160Zm440 0h160v-160H620v160Z\"/>\n",
              "  </svg>\n",
              "    </button>\n",
              "\n",
              "  <style>\n",
              "    .colab-df-container {\n",
              "      display:flex;\n",
              "      gap: 12px;\n",
              "    }\n",
              "\n",
              "    .colab-df-convert {\n",
              "      background-color: #E8F0FE;\n",
              "      border: none;\n",
              "      border-radius: 50%;\n",
              "      cursor: pointer;\n",
              "      display: none;\n",
              "      fill: #1967D2;\n",
              "      height: 32px;\n",
              "      padding: 0 0 0 0;\n",
              "      width: 32px;\n",
              "    }\n",
              "\n",
              "    .colab-df-convert:hover {\n",
              "      background-color: #E2EBFA;\n",
              "      box-shadow: 0px 1px 2px rgba(60, 64, 67, 0.3), 0px 1px 3px 1px rgba(60, 64, 67, 0.15);\n",
              "      fill: #174EA6;\n",
              "    }\n",
              "\n",
              "    .colab-df-buttons div {\n",
              "      margin-bottom: 4px;\n",
              "    }\n",
              "\n",
              "    [theme=dark] .colab-df-convert {\n",
              "      background-color: #3B4455;\n",
              "      fill: #D2E3FC;\n",
              "    }\n",
              "\n",
              "    [theme=dark] .colab-df-convert:hover {\n",
              "      background-color: #434B5C;\n",
              "      box-shadow: 0px 1px 3px 1px rgba(0, 0, 0, 0.15);\n",
              "      filter: drop-shadow(0px 1px 2px rgba(0, 0, 0, 0.3));\n",
              "      fill: #FFFFFF;\n",
              "    }\n",
              "  </style>\n",
              "\n",
              "    <script>\n",
              "      const buttonEl =\n",
              "        document.querySelector('#df-d2520b41-c55a-43f9-8fc9-755ceecb49f9 button.colab-df-convert');\n",
              "      buttonEl.style.display =\n",
              "        google.colab.kernel.accessAllowed ? 'block' : 'none';\n",
              "\n",
              "      async function convertToInteractive(key) {\n",
              "        const element = document.querySelector('#df-d2520b41-c55a-43f9-8fc9-755ceecb49f9');\n",
              "        const dataTable =\n",
              "          await google.colab.kernel.invokeFunction('convertToInteractive',\n",
              "                                                    [key], {});\n",
              "        if (!dataTable) return;\n",
              "\n",
              "        const docLinkHtml = 'Like what you see? Visit the ' +\n",
              "          '<a target=\"_blank\" href=https://colab.research.google.com/notebooks/data_table.ipynb>data table notebook</a>'\n",
              "          + ' to learn more about interactive tables.';\n",
              "        element.innerHTML = '';\n",
              "        dataTable['output_type'] = 'display_data';\n",
              "        await google.colab.output.renderOutput(dataTable, element);\n",
              "        const docLink = document.createElement('div');\n",
              "        docLink.innerHTML = docLinkHtml;\n",
              "        element.appendChild(docLink);\n",
              "      }\n",
              "    </script>\n",
              "  </div>\n",
              "\n",
              "\n",
              "<div id=\"df-f57c7ae9-2b02-43f2-ac1b-8f96853b86cb\">\n",
              "  <button class=\"colab-df-quickchart\" onclick=\"quickchart('df-f57c7ae9-2b02-43f2-ac1b-8f96853b86cb')\"\n",
              "            title=\"Suggest charts\"\n",
              "            style=\"display:none;\">\n",
              "\n",
              "<svg xmlns=\"http://www.w3.org/2000/svg\" height=\"24px\"viewBox=\"0 0 24 24\"\n",
              "     width=\"24px\">\n",
              "    <g>\n",
              "        <path d=\"M19 3H5c-1.1 0-2 .9-2 2v14c0 1.1.9 2 2 2h14c1.1 0 2-.9 2-2V5c0-1.1-.9-2-2-2zM9 17H7v-7h2v7zm4 0h-2V7h2v10zm4 0h-2v-4h2v4z\"/>\n",
              "    </g>\n",
              "</svg>\n",
              "  </button>\n",
              "\n",
              "<style>\n",
              "  .colab-df-quickchart {\n",
              "      --bg-color: #E8F0FE;\n",
              "      --fill-color: #1967D2;\n",
              "      --hover-bg-color: #E2EBFA;\n",
              "      --hover-fill-color: #174EA6;\n",
              "      --disabled-fill-color: #AAA;\n",
              "      --disabled-bg-color: #DDD;\n",
              "  }\n",
              "\n",
              "  [theme=dark] .colab-df-quickchart {\n",
              "      --bg-color: #3B4455;\n",
              "      --fill-color: #D2E3FC;\n",
              "      --hover-bg-color: #434B5C;\n",
              "      --hover-fill-color: #FFFFFF;\n",
              "      --disabled-bg-color: #3B4455;\n",
              "      --disabled-fill-color: #666;\n",
              "  }\n",
              "\n",
              "  .colab-df-quickchart {\n",
              "    background-color: var(--bg-color);\n",
              "    border: none;\n",
              "    border-radius: 50%;\n",
              "    cursor: pointer;\n",
              "    display: none;\n",
              "    fill: var(--fill-color);\n",
              "    height: 32px;\n",
              "    padding: 0;\n",
              "    width: 32px;\n",
              "  }\n",
              "\n",
              "  .colab-df-quickchart:hover {\n",
              "    background-color: var(--hover-bg-color);\n",
              "    box-shadow: 0 1px 2px rgba(60, 64, 67, 0.3), 0 1px 3px 1px rgba(60, 64, 67, 0.15);\n",
              "    fill: var(--button-hover-fill-color);\n",
              "  }\n",
              "\n",
              "  .colab-df-quickchart-complete:disabled,\n",
              "  .colab-df-quickchart-complete:disabled:hover {\n",
              "    background-color: var(--disabled-bg-color);\n",
              "    fill: var(--disabled-fill-color);\n",
              "    box-shadow: none;\n",
              "  }\n",
              "\n",
              "  .colab-df-spinner {\n",
              "    border: 2px solid var(--fill-color);\n",
              "    border-color: transparent;\n",
              "    border-bottom-color: var(--fill-color);\n",
              "    animation:\n",
              "      spin 1s steps(1) infinite;\n",
              "  }\n",
              "\n",
              "  @keyframes spin {\n",
              "    0% {\n",
              "      border-color: transparent;\n",
              "      border-bottom-color: var(--fill-color);\n",
              "      border-left-color: var(--fill-color);\n",
              "    }\n",
              "    20% {\n",
              "      border-color: transparent;\n",
              "      border-left-color: var(--fill-color);\n",
              "      border-top-color: var(--fill-color);\n",
              "    }\n",
              "    30% {\n",
              "      border-color: transparent;\n",
              "      border-left-color: var(--fill-color);\n",
              "      border-top-color: var(--fill-color);\n",
              "      border-right-color: var(--fill-color);\n",
              "    }\n",
              "    40% {\n",
              "      border-color: transparent;\n",
              "      border-right-color: var(--fill-color);\n",
              "      border-top-color: var(--fill-color);\n",
              "    }\n",
              "    60% {\n",
              "      border-color: transparent;\n",
              "      border-right-color: var(--fill-color);\n",
              "    }\n",
              "    80% {\n",
              "      border-color: transparent;\n",
              "      border-right-color: var(--fill-color);\n",
              "      border-bottom-color: var(--fill-color);\n",
              "    }\n",
              "    90% {\n",
              "      border-color: transparent;\n",
              "      border-bottom-color: var(--fill-color);\n",
              "    }\n",
              "  }\n",
              "</style>\n",
              "\n",
              "  <script>\n",
              "    async function quickchart(key) {\n",
              "      const quickchartButtonEl =\n",
              "        document.querySelector('#' + key + ' button');\n",
              "      quickchartButtonEl.disabled = true;  // To prevent multiple clicks.\n",
              "      quickchartButtonEl.classList.add('colab-df-spinner');\n",
              "      try {\n",
              "        const charts = await google.colab.kernel.invokeFunction(\n",
              "            'suggestCharts', [key], {});\n",
              "      } catch (error) {\n",
              "        console.error('Error during call to suggestCharts:', error);\n",
              "      }\n",
              "      quickchartButtonEl.classList.remove('colab-df-spinner');\n",
              "      quickchartButtonEl.classList.add('colab-df-quickchart-complete');\n",
              "    }\n",
              "    (() => {\n",
              "      let quickchartButtonEl =\n",
              "        document.querySelector('#df-f57c7ae9-2b02-43f2-ac1b-8f96853b86cb button');\n",
              "      quickchartButtonEl.style.display =\n",
              "        google.colab.kernel.accessAllowed ? 'block' : 'none';\n",
              "    })();\n",
              "  </script>\n",
              "</div>\n",
              "    </div>\n",
              "  </div>\n"
            ],
            "application/vnd.google.colaboratory.intrinsic+json": {
              "type": "dataframe",
              "variable_name": "train_data",
              "summary": "{\n  \"name\": \"train_data\",\n  \"rows\": 40000,\n  \"fields\": [\n    {\n      \"column\": \"text\",\n      \"properties\": {\n        \"dtype\": \"string\",\n        \"num_unique_values\": 39723,\n        \"samples\": [\n          \"There are similarities between Ray Lawrence's \\\"Jindabyne\\\" and his last movie \\\"Lantana\\\" \\u0096 a dead body and its repercussions for already dysfunctional lives. But whereas \\\"Lantana\\\" offered some hope and resolution, \\\"Jindabyne\\\" leaves everything unresolved in a bleak way that will leave most viewers unsatisfied, perhaps even cheated.<br /><br />The storyline - the aftermath of a fisherman's discovery of a corpse floating in a remote river - is based on a short story by Raymond Carver. It became an element in Robert Altman's classic 1993 ensemble \\\"Short Cuts\\\". Lawrence uses this theme for an exploration and exposition of relationships within a small Australian community under stress. The movie poses some moral questions \\\"Would you let the discovery of a dead body ruin your good weekend?\\\" and more poignantly for Australians \\\"Would it make any difference if the dead person was an aboriginal?\\\" The acting, especially by Gabriel Byrne and Laura Linney, is commendable. And there are elements of mysticism reinforced by haunting music, not unlike \\\"Picnic at Hanging Rock\\\".<br /><br />If all this sounds like the basis for a great movie - be prepared for a let down, the pace is very slow and the murder is shown near the beginning, thereby eliminating the element of mystery. And so we are left with these desolate lives and a blank finale.\",\n          \"Hammer House of Horror: Witching Time is set in rural England on Woodstock farm where stressed musician David Winter (Jon Finch) lives with his actress wife Mary (Prunella Gee) & is currently composing the music for a horror film. One night while looking for his dog Billy David finds a mysterious woman in his barn, calling herself Lucinda Jessop (Patricia Quinn) she claims to be a witch who has transported herself from 300 years in the past to now. Obviously rather sceptical David has a hard time believing her so he locks her in a room in his farmhouse & calls his doctor Charles (Ian McCulloch) to come examine her, however once he arrives & they enter the room Lucinda has disappeared. Charles puts it down to David drinking too much but over the next few day strange & disturbing things begin to happen to David & Mary...<br /><br />Witching Time was episode 1 from the short lived British anthology horror series produced by Hammer studios for TV & originally aired here in the UK during September 1980, the first of two Hammer House of Horror episodes to be directed by Don Leaver (episode 13 The Mark of Satan being the other) I actually rather liked this. As a series Hammer House of Horror dealt with various different themes & were all unconnected to each other except in name & unsurprisingly Watching Time is a sinister & effective little tale about a witch, the script by Anthony Read benefits from it's slight 50 odd minute duration & moves along at a nice pace. The character's are pretty good as is the dialogue, there are some nice scenes here & I liked the way it never quite reveals whether David & Mary are going crazy or not. I think it's a well structured, entertaining & reasonably creepy horror themed TV show that I enjoyed more than I thought I would.<br /><br />Being made for British TV meant the boys at Hammer had a lower budget than usual, if that was even possible, & as such there is no gorgeous period settings here as in their most well know Frankenstein & Dracula films although the contemporary English setting does give it a certain atmosphere that you can relate to a bit more. Another TV based restriction is that the exploitation levels are lower than you might hope for, there's some nudity & gore but not much although I didn't mind too much as the story here is pretty good. It's well made for what it is & Hammer's experience on their feature films probably helped make these look pretty good, the acting is good as well with genre favourite Ian McCulloch making a bit-part appearance.<br /><br />Witching Time is a good start to the Hammer House of Horror series, as a 50 minute piece of British TV it's pretty damned good, now why don't they make show's like this over here anymore?\",\n          \"What a great cast for this movie. The timing was excellent and there were so many clever lines-several times I was still laughing minutes after they were delivered. I found Manna From Heaven to have some surprising moments and while there were things I was thinking would happen, the way they came together was anything but predictable. This movie is about hope and righting wrongs. I left the theater feeling inspired to do the right thing. Bravo to the Five Sisters.\"\n        ],\n        \"semantic_type\": \"\",\n        \"description\": \"\"\n      }\n    },\n    {\n      \"column\": \"label\",\n      \"properties\": {\n        \"dtype\": \"number\",\n        \"std\": 0,\n        \"min\": 0,\n        \"max\": 1,\n        \"num_unique_values\": 2,\n        \"samples\": [\n          1,\n          0\n        ],\n        \"semantic_type\": \"\",\n        \"description\": \"\"\n      }\n    }\n  ]\n}"
            }
          },
          "metadata": {},
          "execution_count": 25
        }
      ]
    },
    {
      "cell_type": "code",
      "source": [
        "# For sake of simplicity let's use only 10% data points\n",
        "train_data = train_data.sample(frac=0.1).reset_index(drop=True) # Shuffling and selecting 10% of data\n",
        "train_data.shape"
      ],
      "metadata": {
        "colab": {
          "base_uri": "https://localhost:8080/"
        },
        "id": "O_xNpfhhRf8S",
        "outputId": "d2539670-9e56-45e4-a6da-55fa80f65f81"
      },
      "execution_count": 26,
      "outputs": [
        {
          "output_type": "execute_result",
          "data": {
            "text/plain": [
              "(4000, 2)"
            ]
          },
          "metadata": {},
          "execution_count": 26
        }
      ]
    },
    {
      "cell_type": "markdown",
      "metadata": {
        "id": "t33Uke9AE22s"
      },
      "source": [
        "## Preprocessing\n",
        "\n",
        "To make it easier for our models to learn, we usually apply a few preprocessing steps to our data. This is especially important when dealing with text data. Here are some examples of text preprocessing:\n",
        "* **Tokenization**: Tokenizing the sentences into words.\n",
        "* **Lowercasing**: Changing all the letters to be lowercase.\n",
        "* **Noise removal:** Removing special characters (such as punctuations).\n",
        "* **Stop words removal**: Removing commonly used words.\n",
        "\n",
        "Which preprocessing steps are necessary is determined by the task at hand. For example, although it is useful to remove special characters in some tasks, for others they may be important (for example, if we are dealing with multiple languages). For our task, we will lowercase our words and tokenize.\n",
        "\n",
        "**We are not going to apply any preprocessing steps. You should explore which steps in needed.**\n"
      ]
    },
    {
      "cell_type": "code",
      "metadata": {
        "id": "fTGn8ANTzZXT"
      },
      "source": [
        "import numpy\n",
        "from sklearn.feature_extraction.text import CountVectorizer"
      ],
      "execution_count": 27,
      "outputs": []
    },
    {
      "cell_type": "code",
      "source": [
        "count_vectorizer = CountVectorizer(stop_words='english',max_features=5000)\n",
        "train_values = count_vectorizer.fit_transform(train_data['text'].values)\n",
        "train_labels = train_data['label'].values"
      ],
      "metadata": {
        "id": "rcyK5nPsSeR-"
      },
      "execution_count": 28,
      "outputs": []
    },
    {
      "cell_type": "code",
      "source": [
        "type(train_values), type(train_labels)"
      ],
      "metadata": {
        "colab": {
          "base_uri": "https://localhost:8080/"
        },
        "id": "Xtw6D_owS8YV",
        "outputId": "eaeb8434-f9c9-4fef-9938-8480529b78ee"
      },
      "execution_count": 29,
      "outputs": [
        {
          "output_type": "execute_result",
          "data": {
            "text/plain": [
              "(scipy.sparse._csr.csr_matrix, numpy.ndarray)"
            ]
          },
          "metadata": {},
          "execution_count": 29
        }
      ]
    },
    {
      "cell_type": "markdown",
      "source": [
        "Pytorch needs data into the `Tensor`. Let's convert it.\n",
        "Remember, text representation (here, Conunt Vectorized) needs to be in `float` and label in `int` format."
      ],
      "metadata": {
        "id": "h7zoCj3onukX"
      }
    },
    {
      "cell_type": "code",
      "source": [
        "train_values = torch.tensor(train_values.toarray()).float()\n",
        "\n",
        "train_labels = torch.tensor(train_labels)\n"
      ],
      "metadata": {
        "id": "-g-69BogTI1R"
      },
      "execution_count": 30,
      "outputs": []
    },
    {
      "cell_type": "markdown",
      "source": [
        "## Batching Sentences\n",
        "\n",
        "We have learned about batches in class. Waiting our whole training corpus to be processed before making an update is constly. On the other hand, updating the parameters after every training example causes the loss to be less stable between updates. To combat these issues, we instead update our parameters after training on a batch of data. This allows us to get a better estimate of the gradient of the global loss. In this section, we will learn how to structure our data into batches using the `torch.util.data.DataLoader` class.\n",
        "\n",
        "We will be calling the `DataLoader` class as follows: `DataLoader(data, batch_size=batch_size, shuffle=True, collate_fn=collate_fn)`.  The `batch_size` parameter determines the number of examples per batch. In every epoch, we will be iterating over all the batches using the `DataLoader`. The order of batches is deterministic by default, but we can ask `DataLoader` to shuffle the batches by setting the `shuffle` parameter to `True`. This way we ensure that we don't encounter a bad batch multiple times.\n",
        "\n",
        "**Note:** We are not exploring `collate_fn` you must explore that. It would be very useful and needed in the excercise/next labs.\n",
        "\n",
        "If provided, `DataLoader` passes the batches it prepares to the `collate_fn`. We can write a custom function to pass to the `collate_fn` parameter in order to print stats about our batch or perform extra processing. In our case, we will not use the `collate_fn`, you should explore how `collate_fn` works and will be useful in the following labs."
      ],
      "metadata": {
        "id": "GzoSMsZvT8Go"
      }
    },
    {
      "cell_type": "code",
      "source": [
        "from torch.utils.data import Dataset, DataLoader, TensorDataset"
      ],
      "metadata": {
        "id": "tQbEsJdYKJge"
      },
      "execution_count": 31,
      "outputs": []
    },
    {
      "cell_type": "code",
      "source": [
        "train_dataset = TensorDataset(train_values, train_labels)\n",
        "\n",
        "train_loader = DataLoader(train_dataset, batch_size=8,shuffle=True)"
      ],
      "metadata": {
        "id": "2l4FGtsQS2SB"
      },
      "execution_count": 32,
      "outputs": []
    },
    {
      "cell_type": "markdown",
      "source": [],
      "metadata": {
        "id": "KeSTKqY9JeWN"
      }
    },
    {
      "cell_type": "markdown",
      "metadata": {
        "id": "k4jzo5tp0Hza"
      },
      "source": [
        "For each training example we have, we should also have a corresponding sentiment label. Recall that the goal of our model was to determine sentiment of a give sentence."
      ]
    },
    {
      "cell_type": "markdown",
      "metadata": {
        "id": "dS1WuQO0Khxx"
      },
      "source": [
        "Now, we can see the `DataLoader` in action."
      ]
    },
    {
      "cell_type": "code",
      "source": [
        "for i, batch in enumerate(train_loader):\n",
        "  inputs = batch[0]\n",
        "  labels = batch[1]\n",
        "  print(i,inputs.shape, labels.shape)\n",
        "\n",
        "  print(\"Batched Input:\")\n",
        "  print(inputs)\n",
        "  print(\"Batched Labels:\")\n",
        "  print(labels)\n",
        "\n",
        "  # Let's see only 3 batchs\n",
        "  if i > 3:\n",
        "    break"
      ],
      "metadata": {
        "colab": {
          "base_uri": "https://localhost:8080/"
        },
        "id": "bOvcAQP5UlOV",
        "outputId": "b4c648e2-3ddf-469e-e3de-ff64ee4a3544"
      },
      "execution_count": 33,
      "outputs": [
        {
          "output_type": "stream",
          "name": "stdout",
          "text": [
            "0 torch.Size([8, 5000]) torch.Size([8])\n",
            "Batched Input:\n",
            "tensor([[0., 0., 1.,  ..., 0., 0., 0.],\n",
            "        [0., 0., 0.,  ..., 0., 0., 0.],\n",
            "        [0., 0., 0.,  ..., 0., 0., 0.],\n",
            "        ...,\n",
            "        [0., 0., 0.,  ..., 0., 0., 0.],\n",
            "        [0., 0., 0.,  ..., 0., 0., 0.],\n",
            "        [0., 0., 0.,  ..., 0., 0., 0.]])\n",
            "Batched Labels:\n",
            "tensor([0, 1, 0, 0, 0, 0, 0, 0])\n",
            "1 torch.Size([8, 5000]) torch.Size([8])\n",
            "Batched Input:\n",
            "tensor([[0., 0., 0.,  ..., 0., 0., 0.],\n",
            "        [0., 0., 0.,  ..., 0., 0., 0.],\n",
            "        [0., 0., 0.,  ..., 0., 0., 0.],\n",
            "        ...,\n",
            "        [0., 0., 0.,  ..., 0., 0., 0.],\n",
            "        [0., 0., 0.,  ..., 0., 0., 0.],\n",
            "        [0., 0., 0.,  ..., 0., 0., 0.]])\n",
            "Batched Labels:\n",
            "tensor([1, 0, 0, 1, 1, 1, 1, 0])\n",
            "2 torch.Size([8, 5000]) torch.Size([8])\n",
            "Batched Input:\n",
            "tensor([[0., 0., 0.,  ..., 0., 0., 0.],\n",
            "        [0., 0., 0.,  ..., 0., 0., 0.],\n",
            "        [0., 0., 1.,  ..., 0., 0., 0.],\n",
            "        ...,\n",
            "        [0., 0., 0.,  ..., 0., 0., 0.],\n",
            "        [0., 0., 0.,  ..., 1., 0., 0.],\n",
            "        [0., 0., 0.,  ..., 0., 0., 0.]])\n",
            "Batched Labels:\n",
            "tensor([1, 1, 1, 0, 1, 1, 1, 1])\n",
            "3 torch.Size([8, 5000]) torch.Size([8])\n",
            "Batched Input:\n",
            "tensor([[0., 0., 0.,  ..., 0., 0., 0.],\n",
            "        [0., 0., 0.,  ..., 0., 0., 0.],\n",
            "        [0., 0., 0.,  ..., 0., 0., 0.],\n",
            "        ...,\n",
            "        [0., 0., 0.,  ..., 0., 0., 0.],\n",
            "        [0., 0., 0.,  ..., 0., 0., 0.],\n",
            "        [0., 0., 0.,  ..., 0., 0., 0.]])\n",
            "Batched Labels:\n",
            "tensor([0, 0, 1, 1, 1, 0, 1, 0])\n",
            "4 torch.Size([8, 5000]) torch.Size([8])\n",
            "Batched Input:\n",
            "tensor([[0., 0., 0.,  ..., 0., 0., 0.],\n",
            "        [0., 0., 0.,  ..., 0., 0., 0.],\n",
            "        [0., 0., 0.,  ..., 0., 0., 0.],\n",
            "        ...,\n",
            "        [0., 1., 0.,  ..., 0., 0., 0.],\n",
            "        [0., 0., 0.,  ..., 0., 0., 0.],\n",
            "        [0., 0., 0.,  ..., 0., 0., 0.]])\n",
            "Batched Labels:\n",
            "tensor([0, 1, 0, 0, 0, 0, 0, 1])\n"
          ]
        }
      ]
    },
    {
      "cell_type": "markdown",
      "source": [
        "The batched input tensors you see above will be passed into our model."
      ],
      "metadata": {
        "id": "Gt6SsvocVR2g"
      }
    },
    {
      "cell_type": "markdown",
      "metadata": {
        "id": "XlDbOpeoSKxd"
      },
      "source": [
        "## Model\n",
        "\n",
        "Now that we have prepared our data, we are ready to build our model. We have learned how to write custom `nn.Module` classes. We will do the same here and put everything we have learned so far together."
      ]
    },
    {
      "cell_type": "code",
      "metadata": {
        "id": "JLTU4h76NLYm"
      },
      "source": [
        "class MultilayerPerceptron(nn.Module):\n",
        "\n",
        "  def __init__(self, input_size, hidden_size, output_size):\n",
        "    # Call to the __init__ function of the super class\n",
        "    super(MultilayerPerceptron, self).__init__()\n",
        "\n",
        "    # Bookkeeping: Saving the initialization parameters\n",
        "    self.input_size = input_size\n",
        "    self.hidden_size = hidden_size\n",
        "    self.output_size = output_size\n",
        "\n",
        "    # Defining of our model\n",
        "    # There isn't anything specific about the naming of `self.model`. It could\n",
        "    # be something arbitrary.\n",
        "    self.model = nn.Sequential(\n",
        "        nn.Linear(self.input_size, self.hidden_size),\n",
        "        nn.ReLU(),\n",
        "        # nn.Linear(self.hidden_size, self.hidden_size),\n",
        "        # nn.ReLU(),\n",
        "        nn.Linear(self.hidden_size, self.output_size),\n",
        "\n",
        "    )\n",
        "\n",
        "  def forward(self, x):\n",
        "    output = self.model(x)\n",
        "    return output"
      ],
      "execution_count": 34,
      "outputs": []
    },
    {
      "cell_type": "markdown",
      "source": [
        "We need to perform processing on the GPU, so let's check we have GPU access or not. If output is `cpu`, go to `RunTime` and change it to `GPU`"
      ],
      "metadata": {
        "id": "pC6LHma3ZEB_"
      }
    },
    {
      "cell_type": "code",
      "source": [
        "import torch\n",
        "\n",
        "if torch.cuda.is_available():\n",
        "  device = torch.device(\"cuda\")\n",
        "else:\n",
        "  device = torch.device(\"cpu\")\n",
        "device"
      ],
      "metadata": {
        "colab": {
          "base_uri": "https://localhost:8080/"
        },
        "id": "ilt8DiqQLYS1",
        "outputId": "46d14a89-3559-410c-b1ec-b2d60d338795"
      },
      "execution_count": 35,
      "outputs": [
        {
          "output_type": "execute_result",
          "data": {
            "text/plain": [
              "device(type='cuda')"
            ]
          },
          "metadata": {},
          "execution_count": 35
        }
      ]
    },
    {
      "cell_type": "markdown",
      "metadata": {
        "id": "Avy1fnyAvEcd"
      },
      "source": [
        "## Training\n",
        "\n",
        "We are now ready to put everything together. Let's start with preparing our data and intializing our model. We can then intialize our optimizer and define our loss function."
      ]
    },
    {
      "cell_type": "code",
      "source": [
        "def prepare_dataset(PATH, file_name, sample_flag=False,count_vectorizer=None):\n",
        "  # Prepare the data\n",
        "  file_path = os.path.join(PATH, file_name)\n",
        "  data = pd.read_csv(file_path)\n",
        "  if sample_flag:\n",
        "    # For sake of simplicity let's use only 10% data points\n",
        "    data = data.sample(frac=0.1).reset_index(drop=True) # Shuffling dataset\n",
        "\n",
        "  if count_vectorizer == None:\n",
        "    count_vectorizer = CountVectorizer(stop_words='english',max_features=5000)\n",
        "    values = count_vectorizer.fit_transform(data['text'].values) #TODO: This is the best way to do this, because you need to use same vectorization menthod\n",
        "  else:\n",
        "    values = count_vectorizer.transform(data['text'].values)\n",
        "\n",
        "  labels = data['label'].values\n",
        "\n",
        "  # Convert into Tensor\n",
        "  values = torch.tensor(values.toarray()).float()\n",
        "  labels = torch.tensor(labels)\n",
        "\n",
        "  dataset = TensorDataset(values, labels)\n",
        "  input_size = values.shape[1]\n",
        "  return dataset, input_size, count_vectorizer"
      ],
      "metadata": {
        "id": "rwx_kx0tiM2Q"
      },
      "execution_count": 36,
      "outputs": []
    },
    {
      "cell_type": "markdown",
      "metadata": {
        "id": "pHxpxDkFHfQE"
      },
      "source": [
        "Unlike our earlier example, this time instead of passing all of our training data to the model at once in each epoch, we will be utilizing batches. Hence, in each training epoch iteration, we also iterate over the batches."
      ]
    },
    {
      "cell_type": "code",
      "metadata": {
        "id": "bInu1VqjHsfj"
      },
      "source": [
        "train_dataset, input_size, count_vectorizer = prepare_dataset(GOOGLE_DRIVE_DATA_PATH, 'train.csv',sample_flag=True)\n",
        "\n",
        "batch_size = 16\n",
        "shuffle = True\n",
        "\n",
        "# Instantiate a DataLoader\n",
        "train_loader = DataLoader(train_dataset, batch_size=batch_size,shuffle=shuffle) # In training always make shuffle True\n",
        "\n"
      ],
      "execution_count": 37,
      "outputs": []
    },
    {
      "cell_type": "markdown",
      "source": [
        "Now we initialize the Model and Optimizers"
      ],
      "metadata": {
        "id": "H0UYyVTNXLDN"
      }
    },
    {
      "cell_type": "code",
      "source": [
        "# Number of Epochs\n",
        "epochs = 5\n",
        "\n",
        "# Define loss using a predefined loss function\n",
        "loss_function = nn.CrossEntropyLoss()\n",
        "\n",
        "# Initialize a model\n",
        "input_size = input_size # TODO: This needs to be automatically get using the train dataset\n",
        "hidden_size = 5000\n",
        "output_size = 2 # TODO: This needs to be automatically get using the train dataset\n",
        "\n",
        "model = MultilayerPerceptron(input_size=input_size,hidden_size=hidden_size, output_size=output_size )\n",
        "model = model.to(device)\n",
        "\n",
        "# Define the optimizer\n",
        "lr = 3e-4\n",
        "# Remember your optimizer has to come after model definition\n",
        "optimizer = optim.Adam(model.parameters(), lr=lr)\n"
      ],
      "metadata": {
        "id": "Nn9e0EEtXKIm"
      },
      "execution_count": 38,
      "outputs": []
    },
    {
      "cell_type": "markdown",
      "source": [
        "We could print the model to see it's *structure*"
      ],
      "metadata": {
        "id": "n1P2V4JQXdpw"
      }
    },
    {
      "cell_type": "code",
      "source": [
        "print(model)"
      ],
      "metadata": {
        "colab": {
          "base_uri": "https://localhost:8080/"
        },
        "id": "3V3ay5ZxXkMe",
        "outputId": "840b6f21-d442-48a5-f6b4-da134a1c1a38"
      },
      "execution_count": 39,
      "outputs": [
        {
          "output_type": "stream",
          "name": "stdout",
          "text": [
            "MultilayerPerceptron(\n",
            "  (model): Sequential(\n",
            "    (0): Linear(in_features=5000, out_features=5000, bias=True)\n",
            "    (1): ReLU()\n",
            "    (2): Linear(in_features=5000, out_features=2, bias=True)\n",
            "  )\n",
            ")\n"
          ]
        }
      ]
    },
    {
      "cell_type": "markdown",
      "source": [
        "We could print the model to see it's *parameters*"
      ],
      "metadata": {
        "id": "TFnK6yb9idRu"
      }
    },
    {
      "cell_type": "code",
      "source": [
        "list(model.named_parameters())"
      ],
      "metadata": {
        "colab": {
          "base_uri": "https://localhost:8080/"
        },
        "id": "8cgTOIoLif7x",
        "outputId": "e53f034f-04bb-4f72-fde5-b364f1ade31c"
      },
      "execution_count": 40,
      "outputs": [
        {
          "output_type": "execute_result",
          "data": {
            "text/plain": [
              "[('model.0.weight',\n",
              "  Parameter containing:\n",
              "  tensor([[-0.0110,  0.0088, -0.0136,  ...,  0.0078, -0.0126,  0.0100],\n",
              "          [ 0.0057,  0.0072,  0.0048,  ...,  0.0076, -0.0056,  0.0085],\n",
              "          [-0.0069,  0.0050,  0.0086,  ...,  0.0007, -0.0077,  0.0082],\n",
              "          ...,\n",
              "          [ 0.0033,  0.0028, -0.0010,  ..., -0.0030,  0.0113, -0.0043],\n",
              "          [-0.0070,  0.0122, -0.0116,  ..., -0.0071, -0.0101,  0.0093],\n",
              "          [-0.0111, -0.0036,  0.0052,  ..., -0.0098, -0.0125,  0.0099]],\n",
              "         device='cuda:0', requires_grad=True)),\n",
              " ('model.0.bias',\n",
              "  Parameter containing:\n",
              "  tensor([ 0.0052, -0.0036, -0.0086,  ...,  0.0097, -0.0134,  0.0124],\n",
              "         device='cuda:0', requires_grad=True)),\n",
              " ('model.2.weight',\n",
              "  Parameter containing:\n",
              "  tensor([[-0.0091, -0.0096,  0.0063,  ...,  0.0093,  0.0064, -0.0026],\n",
              "          [-0.0060, -0.0089, -0.0026,  ..., -0.0036,  0.0125,  0.0061]],\n",
              "         device='cuda:0', requires_grad=True)),\n",
              " ('model.2.bias',\n",
              "  Parameter containing:\n",
              "  tensor([-0.0016,  0.0123], device='cuda:0', requires_grad=True))]"
            ]
          },
          "metadata": {},
          "execution_count": 40
        }
      ]
    },
    {
      "cell_type": "markdown",
      "source": [
        "Training Contained 2 loops\n",
        "\n",
        "\n",
        "*   Batch Processing: Take one batch on input and update the model parameters\n",
        "*   Epoch Processing: All traning data needs to be processed `n` number of epochs\n",
        "\n",
        "In practice, we sum all loss in an epoch and monitor it in each epochs. In practice, our training loss decreases as training progresses.\n",
        "\n"
      ],
      "metadata": {
        "id": "Pg-9g7dDXpLV"
      }
    },
    {
      "cell_type": "code",
      "metadata": {
        "id": "QL9IDgIOvHca"
      },
      "source": [
        "# Function that will be called in every epoch\n",
        "def train_epoch(loss_function, optimizer, model, data_loader):\n",
        "\n",
        "  # Keep track of the total loss for the batch\n",
        "  total_loss = 0\n",
        "  for i, batch in enumerate(data_loader):\n",
        "    # We could move whole data to GPU but it will take lots of space so only move one batch at a time\n",
        "    batch_inputs = batch[0].to(device)\n",
        "    batch_labels = batch[1].to(device)\n",
        "    # print(batch_inputs.shape)\n",
        "     # Clear the gradients\n",
        "    optimizer.zero_grad()\n",
        "    # Run a forward pass\n",
        "    outputs = model.forward(batch_inputs)\n",
        "    # Compute the batch loss\n",
        "    loss = loss_function(outputs, batch_labels)\n",
        "    # Calculate the gradients\n",
        "    loss.backward()\n",
        "    # Update the parameteres\n",
        "    optimizer.step()\n",
        "    total_loss += loss.item()\n",
        "\n",
        "  return total_loss"
      ],
      "execution_count": 41,
      "outputs": []
    },
    {
      "cell_type": "code",
      "source": [
        "# Function containing our main training loop\n",
        "def train(loss_function, optimizer, model, data_loader, num_epochs=5):\n",
        "\n",
        "  # Iterate through each epoch and call our train_epoch function\n",
        "  for epoch in range(num_epochs):\n",
        "    epoch_loss = train_epoch(loss_function, optimizer, model, data_loader)\n",
        "    print('epoch_loss', epoch_loss)"
      ],
      "metadata": {
        "id": "J2ogTL3WsEzr"
      },
      "execution_count": 42,
      "outputs": []
    },
    {
      "cell_type": "markdown",
      "metadata": {
        "id": "cjf75cnzJ4n6"
      },
      "source": [
        "Let's start training!"
      ]
    },
    {
      "cell_type": "code",
      "metadata": {
        "colab": {
          "base_uri": "https://localhost:8080/"
        },
        "id": "Kav8kwVBJ6XW",
        "outputId": "673a69ae-a7c4-4060-f8ce-93a4f6a67742"
      },
      "source": [
        "print('Start')\n",
        "# print(list(model.parameters()))\n",
        "\n",
        "train(loss_function, optimizer, model, train_loader, num_epochs=epochs)\n",
        "\n",
        "print('End')"
      ],
      "execution_count": 43,
      "outputs": [
        {
          "output_type": "stream",
          "name": "stdout",
          "text": [
            "Start\n",
            "epoch_loss 105.95724188536406\n",
            "epoch_loss 24.900978152640164\n",
            "epoch_loss 4.912369846919319\n",
            "epoch_loss 0.8976526413898682\n",
            "epoch_loss 0.3457113619078882\n",
            "End\n"
          ]
        }
      ]
    },
    {
      "cell_type": "markdown",
      "metadata": {
        "id": "T-k7Pav4LdQJ"
      },
      "source": [
        "## Prediction\n",
        "\n",
        "Let's see how well our model is at making predictions. We can start by creating our test data."
      ]
    },
    {
      "cell_type": "code",
      "metadata": {
        "id": "-v5X69a2Lkbm"
      },
      "source": [
        "# Load test Data\n",
        "test_dataset, c , _ = prepare_dataset(GOOGLE_DRIVE_DATA_PATH, 'test.csv',sample_flag=True,count_vectorizer=count_vectorizer)\n",
        "\n",
        "# Instantiate a DataLoader\n",
        "# in practice you need to keep shuffle false at the testing time, so that you could easily match data with predicted label\n",
        "test_loader = DataLoader(test_dataset, batch_size=8,shuffle=False)"
      ],
      "execution_count": 44,
      "outputs": []
    },
    {
      "cell_type": "code",
      "source": [
        "# Model in evaluation state\n",
        "model.eval()"
      ],
      "metadata": {
        "colab": {
          "base_uri": "https://localhost:8080/"
        },
        "id": "DXOF5o7DSY21",
        "outputId": "f196ef10-71e6-451a-9d6e-1482b8ec57eb"
      },
      "execution_count": 45,
      "outputs": [
        {
          "output_type": "execute_result",
          "data": {
            "text/plain": [
              "MultilayerPerceptron(\n",
              "  (model): Sequential(\n",
              "    (0): Linear(in_features=5000, out_features=5000, bias=True)\n",
              "    (1): ReLU()\n",
              "    (2): Linear(in_features=5000, out_features=2, bias=True)\n",
              "  )\n",
              ")"
            ]
          },
          "metadata": {},
          "execution_count": 45
        }
      ]
    },
    {
      "cell_type": "markdown",
      "metadata": {
        "id": "HlBa8xaNMZgv"
      },
      "source": [
        "Let's loop over our test examples to see how well we are doing."
      ]
    },
    {
      "cell_type": "code",
      "metadata": {
        "id": "dGYn8CAoMTjX"
      },
      "source": [
        "all_gt_labels = []\n",
        "all_predict_labels = []\n",
        "\n",
        "for i, batch in enumerate(test_loader):\n",
        "    batch_inputs = batch[0].to(device)\n",
        "    batch_labels = batch[1].to(device)\n",
        "\n",
        "    outputs = model.forward(batch_inputs) # Remember you have probability here, need to get labels\n",
        "    out_labels = torch.argmax(outputs, dim=1).detach()\n",
        "\n",
        "    # Let's save both GT and Prected labels for the Acuracy, F1-Score Calculation\n",
        "    all_gt_labels.extend(batch_labels.tolist())\n",
        "    all_predict_labels.extend(out_labels.tolist())\n",
        "    # print(out_labels)\n",
        "    # break"
      ],
      "execution_count": 46,
      "outputs": []
    },
    {
      "cell_type": "code",
      "source": [
        "len(all_gt_labels), len(all_predict_labels)"
      ],
      "metadata": {
        "colab": {
          "base_uri": "https://localhost:8080/"
        },
        "id": "acXXsasJUnCo",
        "outputId": "16cb3092-0e94-494e-a1b6-dfa71d091a0e"
      },
      "execution_count": 47,
      "outputs": [
        {
          "output_type": "execute_result",
          "data": {
            "text/plain": [
              "(500, 500)"
            ]
          },
          "metadata": {},
          "execution_count": 47
        }
      ]
    },
    {
      "cell_type": "code",
      "source": [
        "from sklearn.metrics import confusion_matrix, f1_score, accuracy_score"
      ],
      "metadata": {
        "id": "fGWKTa2WUEu2"
      },
      "execution_count": 48,
      "outputs": []
    },
    {
      "cell_type": "code",
      "source": [
        "test_f1 = f1_score(all_gt_labels, all_predict_labels, average='macro')\n",
        "test_acc = accuracy_score(all_gt_labels, all_predict_labels)\n",
        "\n",
        "print(\"F1 Score : \", test_f1)\n",
        "print(\"Accuracy Score : \", test_acc)"
      ],
      "metadata": {
        "colab": {
          "base_uri": "https://localhost:8080/"
        },
        "id": "s70_4PxYV6OW",
        "outputId": "e60401a6-5e47-4d97-dc8f-f04829b1741f"
      },
      "execution_count": 49,
      "outputs": [
        {
          "output_type": "stream",
          "name": "stdout",
          "text": [
            "F1 Score :  0.8555469953775038\n",
            "Accuracy Score :  0.856\n"
          ]
        }
      ]
    },
    {
      "cell_type": "code",
      "source": [
        "print('Confusion Matrix')\n",
        "print(confusion_matrix(all_gt_labels, all_predict_labels))"
      ],
      "metadata": {
        "colab": {
          "base_uri": "https://localhost:8080/"
        },
        "id": "qkLAGMa6WWmN",
        "outputId": "b54cf1e6-6bda-48cf-eec9-0369afd99975"
      },
      "execution_count": 50,
      "outputs": [
        {
          "output_type": "stream",
          "name": "stdout",
          "text": [
            "Confusion Matrix\n",
            "[[228  33]\n",
            " [ 39 200]]\n"
          ]
        }
      ]
    },
    {
      "cell_type": "markdown",
      "source": [
        "# Excercise\n",
        "\n",
        "\n",
        "\n",
        "*   **Add Extra Hidden Layer**: Currently we have only one hidden/linear layer in the model. Modify it, by adding one more hidden/linear layer. You might have to incorporate another activation function also.\n",
        "*   **Use Of Validation Set**: We have not used Validation set you should use validation set and monitors loss over epochs and stop training when loss keep increasing for continious 3 epochs\n",
        "*   **Save output**: In practice, we need each test sentences and it's predicted output and ground truth label. Find a way to save model's output in a `csv` file having columns `text`, `label` (for ground truth) and `prediction` (for predcited output).\n",
        "*   **Loss vs Epoch Plot**: It is always good practice to plot training and validation loss in a plot with respect to epoch to visually analyze the training process. Plot it, where epoch is X-axis and loss is Y-axis\n",
        "*   **Using Embedding Layer**: Current setup in not optimal because vocabulary size is large and needs a very large projection. We could reduce this by adding an Embedding layer. Incorporate Embedding layer into your code. Emedding could learned by two different ways\n",
        "  * Learn from scratch\n",
        "  * Use pre-trained embedding like `word2vec`\n",
        "\n",
        "  Implement both, take inspiration from https://colab.research.google.com/drive/1WUy4G2SsoLelrZDkO2I0v9tHx9x27NJK?usp=sharing#scrollTo=4wv875jUYtBD\n",
        "\n",
        "\n",
        "\n",
        "\n",
        "**Note that all excercises are very important and will help you in the Assignment 2. I will ask submission in particular format and these help you in getting that.**\n"
      ],
      "metadata": {
        "id": "lnYoAmyCZ7UE"
      }
    },
    {
      "cell_type": "markdown",
      "source": [
        "NOTE: here countvectorizer was used for preprocessing the data. You CANNOT use countvectrize in RNN.\n",
        "\n",
        "in the above examples you could use word2vec, check the above link\n",
        "\n",
        "\n",
        "use validation set to check the model. if the loss increasing in 3 epochs of the validation set then stop the training.\n",
        "\n",
        "introduce a line of code whihc says if the next epoch loss is bigger then the previous one then stop the loop.\n",
        "\n",
        "another example of problem is when performance start falling after each epoch on teh validation test then you overfit the training model."
      ],
      "metadata": {
        "id": "Cxmt2eOO8PVj"
      }
    }
  ]
}