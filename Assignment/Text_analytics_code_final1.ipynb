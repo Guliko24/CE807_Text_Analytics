{
  "cells": [
    {
      "cell_type": "markdown",
      "metadata": {
        "id": "view-in-github",
        "colab_type": "text"
      },
      "source": [
        "<a href=\"https://colab.research.google.com/github/Guliko24/CE807_Text_Analytics/blob/main/Assignment/Text_analytics_code_final1.ipynb\" target=\"_parent\"><img src=\"https://colab.research.google.com/assets/colab-badge.svg\" alt=\"Open In Colab\"/></a>"
      ]
    },
    {
      "cell_type": "markdown",
      "metadata": {
        "id": "VgzEm1gDYBUp"
      },
      "source": [
        "# Student ID: 2323017\n",
        "\n",
        "**You student_id is your 7/8 digit faser number.**\n",
        "\n",
        "This is a sample format for CE807: Assignment . You must follow the format.\n",
        "The code will have three broad sections, and additional section, if needed,\n",
        "\n",
        "\n",
        "1.   Common Codes\n",
        "2.   Method/model 1 Specific Codes\n",
        "3.   Method/model 2 Specific Codes\n",
        "4.   Other Method/model Codes, if any\n",
        "\n",
        "**You must have `train_unsup`, `test_unsup` for Unsupervised method  and `train_dis`, `test_dis` for Discriminatuve method to perform full training and testing. This will be evaluated automatically, without this your code will fail and no marked.**\n",
        "\n",
        "You code should be proverly indended, print as much as possible, follow standard coding (https://peps.python.org/pep-0008/) and documentaion (https://colab.research.google.com/github/jakevdp/PythonDataScienceHandbook/blob/master/notebooks/01.01-Help-And-Documentation.ipynb) practices.\n",
        "\n",
        "Before each `code block/function`, you must have a `text block` which explain what code block/function is going to do. For each function/class, you need to properly document what are it's input, functionality and output.\n",
        "\n",
        "If you are using any non-standard library, you must have command to install that, for example `pip install datasets`.\n",
        "\n",
        "You must print `train`, `validation` and `test` performance measures.\n",
        "\n",
        "You must also print `train` and `validation` loss in each `epoch`, wherever you are using `epoch`, say in any deep learning algorithms.\n",
        "\n",
        "Your code must\n",
        "\n",
        "*   To reproducibality of the results you must use a `seed`, you have to set seed in `torch`, `numpy` etc, use same seed everywhere **and your Student ID should be your seed**.\n",
        "*   read dataset from './data/number/', where number is last digit of your student_id folder which will have 3 files [`train.csv`, `val.csv`, `test.csv`]\n",
        "*   save model after finishing the training in './model/student_id/Model_Unsup/' and './model/student_id/Model_Dis/' for Unsupervised and Discriminative model respectively.\n",
        "*   at testing time you will load models from './model/student_id/Model_Unsup/' and './model/student_id/Model_Dis/'  for Unsupervised and Discriminative model respectively. Your output file based on the test file will be named “test.csv” and you will add/modify “out_label_model_unsup” and “out_label_model_dis” column in the existing columns from test.csv. These outputs will be generated from your trained models.\n",
        "*  after testing, your output file will be named “test.csv” and you will add/modify “out_label_model_unsup” and “out_label_model_Dis” column in the existing columns from test.csv. These outputs will be generated from your trained models.\n",
        "\n",
        "\n",
        "\n",
        "\n",
        "**Install and import all required libraries first before starting to code.**\n",
        "\n",
        "\n",
        "\n",
        "\n",
        "\n",
        "\n"
      ]
    },
    {
      "cell_type": "markdown",
      "metadata": {
        "id": "_3ZWJlO6JOqY"
      },
      "source": [
        "Let's install all require libraries. For example, `transformers`"
      ]
    },
    {
      "cell_type": "code",
      "execution_count": 1,
      "metadata": {
        "colab": {
          "base_uri": "https://localhost:8080/"
        },
        "id": "81A_4_dKJV4Y",
        "outputId": "11470dae-4778-45e3-feba-4731d1da1e35"
      },
      "outputs": [
        {
          "output_type": "stream",
          "name": "stdout",
          "text": [
            "Requirement already satisfied: transformers in /usr/local/lib/python3.10/dist-packages (4.42.4)\n",
            "Requirement already satisfied: filelock in /usr/local/lib/python3.10/dist-packages (from transformers) (3.15.4)\n",
            "Requirement already satisfied: huggingface-hub<1.0,>=0.23.2 in /usr/local/lib/python3.10/dist-packages (from transformers) (0.23.5)\n",
            "Requirement already satisfied: numpy<2.0,>=1.17 in /usr/local/lib/python3.10/dist-packages (from transformers) (1.26.4)\n",
            "Requirement already satisfied: packaging>=20.0 in /usr/local/lib/python3.10/dist-packages (from transformers) (24.1)\n",
            "Requirement already satisfied: pyyaml>=5.1 in /usr/local/lib/python3.10/dist-packages (from transformers) (6.0.1)\n",
            "Requirement already satisfied: regex!=2019.12.17 in /usr/local/lib/python3.10/dist-packages (from transformers) (2024.5.15)\n",
            "Requirement already satisfied: requests in /usr/local/lib/python3.10/dist-packages (from transformers) (2.31.0)\n",
            "Requirement already satisfied: safetensors>=0.4.1 in /usr/local/lib/python3.10/dist-packages (from transformers) (0.4.3)\n",
            "Requirement already satisfied: tokenizers<0.20,>=0.19 in /usr/local/lib/python3.10/dist-packages (from transformers) (0.19.1)\n",
            "Requirement already satisfied: tqdm>=4.27 in /usr/local/lib/python3.10/dist-packages (from transformers) (4.66.4)\n",
            "Requirement already satisfied: fsspec>=2023.5.0 in /usr/local/lib/python3.10/dist-packages (from huggingface-hub<1.0,>=0.23.2->transformers) (2024.6.1)\n",
            "Requirement already satisfied: typing-extensions>=3.7.4.3 in /usr/local/lib/python3.10/dist-packages (from huggingface-hub<1.0,>=0.23.2->transformers) (4.12.2)\n",
            "Requirement already satisfied: charset-normalizer<4,>=2 in /usr/local/lib/python3.10/dist-packages (from requests->transformers) (3.3.2)\n",
            "Requirement already satisfied: idna<4,>=2.5 in /usr/local/lib/python3.10/dist-packages (from requests->transformers) (3.7)\n",
            "Requirement already satisfied: urllib3<3,>=1.21.1 in /usr/local/lib/python3.10/dist-packages (from requests->transformers) (2.0.7)\n",
            "Requirement already satisfied: certifi>=2017.4.17 in /usr/local/lib/python3.10/dist-packages (from requests->transformers) (2024.7.4)\n"
          ]
        }
      ],
      "source": [
        "!pip install transformers"
      ]
    },
    {
      "cell_type": "markdown",
      "metadata": {
        "id": "U5XEt6asIi3Q"
      },
      "source": [
        "Let's import all require libraries.\n",
        "For example, `numpy`"
      ]
    },
    {
      "cell_type": "code",
      "execution_count": 2,
      "metadata": {
        "id": "TKEZRYhIImbg"
      },
      "outputs": [],
      "source": [
        "import numpy as np\n",
        "import os\n",
        "import pickle\n",
        "import pandas as pd"
      ]
    },
    {
      "cell_type": "markdown",
      "metadata": {
        "id": "pd5kSsAPZoE6"
      },
      "source": [
        "**Let's put your student id as a variable, that you will use different places**"
      ]
    },
    {
      "cell_type": "code",
      "execution_count": 3,
      "metadata": {
        "id": "rqP6pp_3ZkVy"
      },
      "outputs": [],
      "source": [
        "student_id = 2323017 # this is my student ID corresponding to hmamay"
      ]
    },
    {
      "cell_type": "markdown",
      "metadata": {
        "id": "RiLUrQ-3zC6V"
      },
      "source": [
        "Let's set `seed` for all libraries like `torch`, `numpy` etc as my student id"
      ]
    },
    {
      "cell_type": "code",
      "execution_count": 4,
      "metadata": {
        "id": "TYUn2tj3zCFq"
      },
      "outputs": [],
      "source": [
        "# set same seeds for all libraries\n",
        "#numpy seed\n",
        "np.random.seed(student_id)"
      ]
    },
    {
      "cell_type": "markdown",
      "metadata": {
        "id": "HsbefEImzAUf"
      },
      "source": [
        "train_unsup()\n",
        "test_unsup()\n",
        "train_dis()\n",
        "test_dis()"
      ]
    },
    {
      "cell_type": "markdown",
      "metadata": {
        "id": "Dlj_VQrkbLgM"
      },
      "source": [
        "# Common Codes\n",
        "\n",
        "In this section you will write all common codes, for examples\n",
        "\n",
        "\n",
        "*   Data read\n",
        "*   Command Line argument reading\n",
        "*   Performance Matrics\n",
        "*   Print Dataset Statistics\n",
        "*   Saving model and output\n",
        "*   Loading Model and output\n",
        "*   etc\n",
        "\n",
        "\n"
      ]
    },
    {
      "cell_type": "markdown",
      "metadata": {
        "id": "uOESFmIPn_nr"
      },
      "source": [
        "**Let's first allow the GDrive access and set data and model paths**\n",
        "\n",
        "For examples,\n",
        "\n",
        "student_id = 12345670\n",
        "\n",
        "set GOOGLE_DRIVE_PATH_AFTER_MYDRIVE = ‘./CE807-24-SP/Assignment/’ in your GDrive\n",
        "\n",
        "now set all global variable,\n",
        "\n",
        "\n",
        "Sample output directory and file structure: https://drive.google.com/drive/folders/1ZCVOBjsxu3bnXRk8tUVkL97Bm1MmS_gE?usp=sharing   "
      ]
    },
    {
      "cell_type": "code",
      "execution_count": 5,
      "metadata": {
        "colab": {
          "base_uri": "https://localhost:8080/"
        },
        "id": "L1kvIe1NbDoS",
        "outputId": "33bd3cfc-0ab9-46d7-d698-23fa949fbb9c"
      },
      "outputs": [
        {
          "output_type": "stream",
          "name": "stdout",
          "text": [
            "Mounted at /content/gdrive\n"
          ]
        }
      ],
      "source": [
        "# Mount Google Drive\n",
        "from google.colab import drive\n",
        "drive.mount('/content/gdrive', force_remount=True)"
      ]
    },
    {
      "cell_type": "code",
      "execution_count": 6,
      "metadata": {
        "colab": {
          "base_uri": "https://localhost:8080/"
        },
        "id": "8_vXkfWmi9mA",
        "outputId": "507cb10b-c6d8-4baa-8c56-3f0cebbdb1da"
      },
      "outputs": [
        {
          "output_type": "stream",
          "name": "stdout",
          "text": [
            "List files:  ['data', 'model', '.ipynb_checkpoints', '__pycache__', 'sentiment_analysis.py', 'output_test.csv', 'Text_analytics_code.ipynb']\n"
          ]
        }
      ],
      "source": [
        "# Add your code to initialize GDrive and data and models paths\n",
        "\n",
        "GOOGLE_DRIVE_PATH_AFTER_MYDRIVE = '/content/gdrive/MyDrive/CE807-24-SU/Assignment_StudentID_2323017'\n",
        "GOOGLE_DRIVE_PATH = os.path.join('gdrive', 'MyDrive', GOOGLE_DRIVE_PATH_AFTER_MYDRIVE)\n",
        "print('List files: ', os.listdir(GOOGLE_DRIVE_PATH))"
      ]
    },
    {
      "cell_type": "code",
      "execution_count": 7,
      "metadata": {
        "colab": {
          "base_uri": "https://localhost:8080/"
        },
        "id": "6zfnVsceCtF5",
        "outputId": "7993f7dd-0fa8-4460-fc2f-1d6ac5907848"
      },
      "outputs": [
        {
          "output_type": "stream",
          "name": "stdout",
          "text": [
            "Model Discriminative directory:  /content/gdrive/MyDrive/CE807-24-SU/Assignment_StudentID_2323017/model/model_dis\n",
            "Model Unsupervised directory:  /content/gdrive/MyDrive/CE807-24-SU/Assignment_StudentID_2323017/model/model_unsup\n"
          ]
        }
      ],
      "source": [
        "# Set up model paths\n",
        "MODEL_PATH = os.path.join(GOOGLE_DRIVE_PATH, 'model')\n",
        "MODEL_Dis_DIRECTORY = os.path.join(MODEL_PATH, 'model_dis')  # Model Discriminative directory\n",
        "MODEL_Unsup_DIRECTORY = os.path.join(MODEL_PATH, 'model_unsup')  # Model Unsupervised directory\n",
        "print('Model Discriminative directory: ', MODEL_Dis_DIRECTORY)\n",
        "print('Model Unsupervised directory: ', MODEL_Unsup_DIRECTORY)"
      ]
    },
    {
      "cell_type": "code",
      "execution_count": 8,
      "metadata": {
        "colab": {
          "base_uri": "https://localhost:8080/"
        },
        "id": "ogH0pxjJznUb",
        "outputId": "c3966262-890c-4e98-ce27-579f426796c2"
      },
      "outputs": [
        {
          "output_type": "stream",
          "name": "stdout",
          "text": [
            "Train file:  /content/gdrive/MyDrive/CE807-24-SU/Assignment_StudentID_2323017/data/37/train.csv\n",
            "Validation file:  /content/gdrive/MyDrive/CE807-24-SU/Assignment_StudentID_2323017/data/37/valid.csv\n",
            "Test file:  /content/gdrive/MyDrive/CE807-24-SU/Assignment_StudentID_2323017/data/37/test.csv\n"
          ]
        }
      ],
      "source": [
        "DATA_PATH = os.path.join(GOOGLE_DRIVE_PATH, 'data', '37') # 37 is a dataset allocated to my StudetnID\n",
        "train_file = os.path.join(DATA_PATH, 'train.csv')\n",
        "print('Train file: ', train_file)\n",
        "\n",
        "val_file = os.path.join(DATA_PATH, 'valid.csv')\n",
        "print('Validation file: ', val_file)\n",
        "\n",
        "test_file = os.path.join(DATA_PATH, 'test.csv')\n",
        "print('Test file: ', test_file)"
      ]
    },
    {
      "cell_type": "code",
      "execution_count": 16,
      "metadata": {
        "colab": {
          "base_uri": "https://localhost:8080/",
          "height": 206
        },
        "id": "V7EDx2hO0AD0",
        "outputId": "7af87ab6-5208-4709-b7d5-85cc54568eaf"
      },
      "outputs": [
        {
          "output_type": "execute_result",
          "data": {
            "text/plain": [
              "  sentiment                                               text\n",
              "0  positive                                        Works great\n",
              "1  negative  I drive an SUV and these do not fit on my back...\n",
              "2  positive                    It does what is supposed to be.\n",
              "3  positive  I use this on my 2006 bmw m5.  works like a ch...\n",
              "4  positive  …wasn’t what I thought it could do… thinking t..."
            ],
            "text/html": [
              "\n",
              "  <div id=\"df-995ecb26-02d6-4ca7-8ba7-b5d33532a42a\" class=\"colab-df-container\">\n",
              "    <div>\n",
              "<style scoped>\n",
              "    .dataframe tbody tr th:only-of-type {\n",
              "        vertical-align: middle;\n",
              "    }\n",
              "\n",
              "    .dataframe tbody tr th {\n",
              "        vertical-align: top;\n",
              "    }\n",
              "\n",
              "    .dataframe thead th {\n",
              "        text-align: right;\n",
              "    }\n",
              "</style>\n",
              "<table border=\"1\" class=\"dataframe\">\n",
              "  <thead>\n",
              "    <tr style=\"text-align: right;\">\n",
              "      <th></th>\n",
              "      <th>sentiment</th>\n",
              "      <th>text</th>\n",
              "    </tr>\n",
              "  </thead>\n",
              "  <tbody>\n",
              "    <tr>\n",
              "      <th>0</th>\n",
              "      <td>positive</td>\n",
              "      <td>Works great</td>\n",
              "    </tr>\n",
              "    <tr>\n",
              "      <th>1</th>\n",
              "      <td>negative</td>\n",
              "      <td>I drive an SUV and these do not fit on my back...</td>\n",
              "    </tr>\n",
              "    <tr>\n",
              "      <th>2</th>\n",
              "      <td>positive</td>\n",
              "      <td>It does what is supposed to be.</td>\n",
              "    </tr>\n",
              "    <tr>\n",
              "      <th>3</th>\n",
              "      <td>positive</td>\n",
              "      <td>I use this on my 2006 bmw m5.  works like a ch...</td>\n",
              "    </tr>\n",
              "    <tr>\n",
              "      <th>4</th>\n",
              "      <td>positive</td>\n",
              "      <td>…wasn’t what I thought it could do… thinking t...</td>\n",
              "    </tr>\n",
              "  </tbody>\n",
              "</table>\n",
              "</div>\n",
              "    <div class=\"colab-df-buttons\">\n",
              "\n",
              "  <div class=\"colab-df-container\">\n",
              "    <button class=\"colab-df-convert\" onclick=\"convertToInteractive('df-995ecb26-02d6-4ca7-8ba7-b5d33532a42a')\"\n",
              "            title=\"Convert this dataframe to an interactive table.\"\n",
              "            style=\"display:none;\">\n",
              "\n",
              "  <svg xmlns=\"http://www.w3.org/2000/svg\" height=\"24px\" viewBox=\"0 -960 960 960\">\n",
              "    <path d=\"M120-120v-720h720v720H120Zm60-500h600v-160H180v160Zm220 220h160v-160H400v160Zm0 220h160v-160H400v160ZM180-400h160v-160H180v160Zm440 0h160v-160H620v160ZM180-180h160v-160H180v160Zm440 0h160v-160H620v160Z\"/>\n",
              "  </svg>\n",
              "    </button>\n",
              "\n",
              "  <style>\n",
              "    .colab-df-container {\n",
              "      display:flex;\n",
              "      gap: 12px;\n",
              "    }\n",
              "\n",
              "    .colab-df-convert {\n",
              "      background-color: #E8F0FE;\n",
              "      border: none;\n",
              "      border-radius: 50%;\n",
              "      cursor: pointer;\n",
              "      display: none;\n",
              "      fill: #1967D2;\n",
              "      height: 32px;\n",
              "      padding: 0 0 0 0;\n",
              "      width: 32px;\n",
              "    }\n",
              "\n",
              "    .colab-df-convert:hover {\n",
              "      background-color: #E2EBFA;\n",
              "      box-shadow: 0px 1px 2px rgba(60, 64, 67, 0.3), 0px 1px 3px 1px rgba(60, 64, 67, 0.15);\n",
              "      fill: #174EA6;\n",
              "    }\n",
              "\n",
              "    .colab-df-buttons div {\n",
              "      margin-bottom: 4px;\n",
              "    }\n",
              "\n",
              "    [theme=dark] .colab-df-convert {\n",
              "      background-color: #3B4455;\n",
              "      fill: #D2E3FC;\n",
              "    }\n",
              "\n",
              "    [theme=dark] .colab-df-convert:hover {\n",
              "      background-color: #434B5C;\n",
              "      box-shadow: 0px 1px 3px 1px rgba(0, 0, 0, 0.15);\n",
              "      filter: drop-shadow(0px 1px 2px rgba(0, 0, 0, 0.3));\n",
              "      fill: #FFFFFF;\n",
              "    }\n",
              "  </style>\n",
              "\n",
              "    <script>\n",
              "      const buttonEl =\n",
              "        document.querySelector('#df-995ecb26-02d6-4ca7-8ba7-b5d33532a42a button.colab-df-convert');\n",
              "      buttonEl.style.display =\n",
              "        google.colab.kernel.accessAllowed ? 'block' : 'none';\n",
              "\n",
              "      async function convertToInteractive(key) {\n",
              "        const element = document.querySelector('#df-995ecb26-02d6-4ca7-8ba7-b5d33532a42a');\n",
              "        const dataTable =\n",
              "          await google.colab.kernel.invokeFunction('convertToInteractive',\n",
              "                                                    [key], {});\n",
              "        if (!dataTable) return;\n",
              "\n",
              "        const docLinkHtml = 'Like what you see? Visit the ' +\n",
              "          '<a target=\"_blank\" href=https://colab.research.google.com/notebooks/data_table.ipynb>data table notebook</a>'\n",
              "          + ' to learn more about interactive tables.';\n",
              "        element.innerHTML = '';\n",
              "        dataTable['output_type'] = 'display_data';\n",
              "        await google.colab.output.renderOutput(dataTable, element);\n",
              "        const docLink = document.createElement('div');\n",
              "        docLink.innerHTML = docLinkHtml;\n",
              "        element.appendChild(docLink);\n",
              "      }\n",
              "    </script>\n",
              "  </div>\n",
              "\n",
              "\n",
              "<div id=\"df-5327b04d-2ca8-40cd-81b6-ae1375731ee4\">\n",
              "  <button class=\"colab-df-quickchart\" onclick=\"quickchart('df-5327b04d-2ca8-40cd-81b6-ae1375731ee4')\"\n",
              "            title=\"Suggest charts\"\n",
              "            style=\"display:none;\">\n",
              "\n",
              "<svg xmlns=\"http://www.w3.org/2000/svg\" height=\"24px\"viewBox=\"0 0 24 24\"\n",
              "     width=\"24px\">\n",
              "    <g>\n",
              "        <path d=\"M19 3H5c-1.1 0-2 .9-2 2v14c0 1.1.9 2 2 2h14c1.1 0 2-.9 2-2V5c0-1.1-.9-2-2-2zM9 17H7v-7h2v7zm4 0h-2V7h2v10zm4 0h-2v-4h2v4z\"/>\n",
              "    </g>\n",
              "</svg>\n",
              "  </button>\n",
              "\n",
              "<style>\n",
              "  .colab-df-quickchart {\n",
              "      --bg-color: #E8F0FE;\n",
              "      --fill-color: #1967D2;\n",
              "      --hover-bg-color: #E2EBFA;\n",
              "      --hover-fill-color: #174EA6;\n",
              "      --disabled-fill-color: #AAA;\n",
              "      --disabled-bg-color: #DDD;\n",
              "  }\n",
              "\n",
              "  [theme=dark] .colab-df-quickchart {\n",
              "      --bg-color: #3B4455;\n",
              "      --fill-color: #D2E3FC;\n",
              "      --hover-bg-color: #434B5C;\n",
              "      --hover-fill-color: #FFFFFF;\n",
              "      --disabled-bg-color: #3B4455;\n",
              "      --disabled-fill-color: #666;\n",
              "  }\n",
              "\n",
              "  .colab-df-quickchart {\n",
              "    background-color: var(--bg-color);\n",
              "    border: none;\n",
              "    border-radius: 50%;\n",
              "    cursor: pointer;\n",
              "    display: none;\n",
              "    fill: var(--fill-color);\n",
              "    height: 32px;\n",
              "    padding: 0;\n",
              "    width: 32px;\n",
              "  }\n",
              "\n",
              "  .colab-df-quickchart:hover {\n",
              "    background-color: var(--hover-bg-color);\n",
              "    box-shadow: 0 1px 2px rgba(60, 64, 67, 0.3), 0 1px 3px 1px rgba(60, 64, 67, 0.15);\n",
              "    fill: var(--button-hover-fill-color);\n",
              "  }\n",
              "\n",
              "  .colab-df-quickchart-complete:disabled,\n",
              "  .colab-df-quickchart-complete:disabled:hover {\n",
              "    background-color: var(--disabled-bg-color);\n",
              "    fill: var(--disabled-fill-color);\n",
              "    box-shadow: none;\n",
              "  }\n",
              "\n",
              "  .colab-df-spinner {\n",
              "    border: 2px solid var(--fill-color);\n",
              "    border-color: transparent;\n",
              "    border-bottom-color: var(--fill-color);\n",
              "    animation:\n",
              "      spin 1s steps(1) infinite;\n",
              "  }\n",
              "\n",
              "  @keyframes spin {\n",
              "    0% {\n",
              "      border-color: transparent;\n",
              "      border-bottom-color: var(--fill-color);\n",
              "      border-left-color: var(--fill-color);\n",
              "    }\n",
              "    20% {\n",
              "      border-color: transparent;\n",
              "      border-left-color: var(--fill-color);\n",
              "      border-top-color: var(--fill-color);\n",
              "    }\n",
              "    30% {\n",
              "      border-color: transparent;\n",
              "      border-left-color: var(--fill-color);\n",
              "      border-top-color: var(--fill-color);\n",
              "      border-right-color: var(--fill-color);\n",
              "    }\n",
              "    40% {\n",
              "      border-color: transparent;\n",
              "      border-right-color: var(--fill-color);\n",
              "      border-top-color: var(--fill-color);\n",
              "    }\n",
              "    60% {\n",
              "      border-color: transparent;\n",
              "      border-right-color: var(--fill-color);\n",
              "    }\n",
              "    80% {\n",
              "      border-color: transparent;\n",
              "      border-right-color: var(--fill-color);\n",
              "      border-bottom-color: var(--fill-color);\n",
              "    }\n",
              "    90% {\n",
              "      border-color: transparent;\n",
              "      border-bottom-color: var(--fill-color);\n",
              "    }\n",
              "  }\n",
              "</style>\n",
              "\n",
              "  <script>\n",
              "    async function quickchart(key) {\n",
              "      const quickchartButtonEl =\n",
              "        document.querySelector('#' + key + ' button');\n",
              "      quickchartButtonEl.disabled = true;  // To prevent multiple clicks.\n",
              "      quickchartButtonEl.classList.add('colab-df-spinner');\n",
              "      try {\n",
              "        const charts = await google.colab.kernel.invokeFunction(\n",
              "            'suggestCharts', [key], {});\n",
              "      } catch (error) {\n",
              "        console.error('Error during call to suggestCharts:', error);\n",
              "      }\n",
              "      quickchartButtonEl.classList.remove('colab-df-spinner');\n",
              "      quickchartButtonEl.classList.add('colab-df-quickchart-complete');\n",
              "    }\n",
              "    (() => {\n",
              "      let quickchartButtonEl =\n",
              "        document.querySelector('#df-5327b04d-2ca8-40cd-81b6-ae1375731ee4 button');\n",
              "      quickchartButtonEl.style.display =\n",
              "        google.colab.kernel.accessAllowed ? 'block' : 'none';\n",
              "    })();\n",
              "  </script>\n",
              "</div>\n",
              "\n",
              "    </div>\n",
              "  </div>\n"
            ],
            "application/vnd.google.colaboratory.intrinsic+json": {
              "type": "dataframe",
              "variable_name": "train_df",
              "summary": "{\n  \"name\": \"train_df\",\n  \"rows\": 3681,\n  \"fields\": [\n    {\n      \"column\": \"sentiment\",\n      \"properties\": {\n        \"dtype\": \"category\",\n        \"num_unique_values\": 2,\n        \"samples\": [\n          \"negative\",\n          \"positive\"\n        ],\n        \"semantic_type\": \"\",\n        \"description\": \"\"\n      }\n    },\n    {\n      \"column\": \"text\",\n      \"properties\": {\n        \"dtype\": \"string\",\n        \"num_unique_values\": 3543,\n        \"samples\": [\n          \"It is what it is\",\n          \"Love the sound but muffler was dented and it was a pain in the a$& to install because these parts are not spot on as far as fitment. Amazon would only refund 5% for the damage which really sucks since I paid over $1000 for this thing!\"\n        ],\n        \"semantic_type\": \"\",\n        \"description\": \"\"\n      }\n    }\n  ]\n}"
            }
          },
          "metadata": {},
          "execution_count": 16
        }
      ],
      "source": [
        "# Read train Data\n",
        "train_df = pd.read_csv(train_file)\n",
        "train_df.head()"
      ]
    },
    {
      "cell_type": "code",
      "execution_count": 17,
      "metadata": {
        "colab": {
          "base_uri": "https://localhost:8080/"
        },
        "id": "v0iekwoY0Tsy",
        "outputId": "74ed012a-3c91-49c3-9bdf-c813ef06c281"
      },
      "outputs": [
        {
          "output_type": "execute_result",
          "data": {
            "text/plain": [
              "(454, 2)"
            ]
          },
          "metadata": {},
          "execution_count": 17
        }
      ],
      "source": [
        "# Read Validation Data\n",
        "val_df = pd.read_csv(val_file)\n",
        "val_df.head()\n",
        "val_df.shape"
      ]
    },
    {
      "cell_type": "code",
      "execution_count": 18,
      "metadata": {
        "colab": {
          "base_uri": "https://localhost:8080/"
        },
        "id": "XnaBbn2P0Z5E",
        "outputId": "a31fa953-8459-4f83-e34e-bb6e6c1dc75d"
      },
      "outputs": [
        {
          "output_type": "execute_result",
          "data": {
            "text/plain": [
              "(409, 3)"
            ]
          },
          "metadata": {},
          "execution_count": 18
        }
      ],
      "source": [
        "# Read Test Data\n",
        "test_df = pd.read_csv(test_file)\n",
        "test_df.head()\n",
        "test_df.shape"
      ]
    },
    {
      "cell_type": "markdown",
      "metadata": {
        "id": "XjE4mpEOdk6D"
      },
      "source": [
        "Let's update the environment to be able to call functions saved in .py\n",
        "---\n",
        "\n"
      ]
    },
    {
      "cell_type": "code",
      "execution_count": 9,
      "metadata": {
        "id": "5y9Kw_Gcd3hY"
      },
      "outputs": [],
      "source": [
        "%load_ext autoreload\n",
        "%autoreload 2\n"
      ]
    },
    {
      "cell_type": "code",
      "execution_count": 11,
      "metadata": {
        "id": "OtEcor4Md-OQ"
      },
      "outputs": [],
      "source": [
        "import os\n",
        "import sys\n",
        "sys.path.append(GOOGLE_DRIVE_PATH)\n",
        "from sentiment_analysis import preprocess_text\n"
      ]
    },
    {
      "cell_type": "code",
      "execution_count": 12,
      "metadata": {
        "id": "QFAP8TeT6yrD"
      },
      "outputs": [],
      "source": [
        "def read_data(file_name):\n",
        "  df = pd.read_csv(file_name)\n",
        "  print(file_name, 'has', len(df),'data points')\n",
        "  return df"
      ]
    },
    {
      "cell_type": "markdown",
      "source": [
        "# **Data Clean up and encoding of target values from categorical to numeric**"
      ],
      "metadata": {
        "id": "GQL_8kI_gJH5"
      }
    },
    {
      "cell_type": "code",
      "execution_count": 19,
      "metadata": {
        "id": "3XmEL3qo7qY1",
        "colab": {
          "base_uri": "https://localhost:8080/"
        },
        "outputId": "0a801d0b-c20a-4508-8611-77e5232610c4"
      },
      "outputs": [
        {
          "output_type": "stream",
          "name": "stderr",
          "text": [
            "<ipython-input-19-ac49e16f4c8b>:7: SettingWithCopyWarning: \n",
            "A value is trying to be set on a copy of a slice from a DataFrame.\n",
            "Try using .loc[row_indexer,col_indexer] = value instead\n",
            "\n",
            "See the caveats in the documentation: https://pandas.pydata.org/pandas-docs/stable/user_guide/indexing.html#returning-a-view-versus-a-copy\n",
            "  train_df['sentiment_encoded'] = train_df['sentiment'].map({'negative': 0, 'positive': 1})\n"
          ]
        }
      ],
      "source": [
        "#let's modify all the data sets by removing empty rows and encoding the tartget_column='sentiment'\n",
        "# Remove rows with NaNs in both 'text' and 'label' columns\n",
        "train_df = train_df.dropna(subset=['text', 'sentiment'])\n",
        "val_df = val_df.dropna(subset=['text', 'sentiment'])\n",
        "\n",
        "#encode the sentiments\n",
        "train_df['sentiment_encoded'] = train_df['sentiment'].map({'negative': 0, 'positive': 1})\n",
        "val_df['sentiment_encoded'] = val_df['sentiment'].map({'negative': 0, 'positive': 1})\n"
      ]
    },
    {
      "cell_type": "markdown",
      "metadata": {
        "id": "47ywe8jGSKhL"
      },
      "source": [
        "**METHOD UNSEPERVISED START**\n",
        "\n",
        "---\n",
        "\n",
        "\n",
        "In this section you will write all details of your Method 1.\n",
        "\n",
        "You will have to enter multiple `code` and `text` cell.\n",
        "\n",
        "Your code should follow the standard ML pipeline\n",
        "\n",
        "\n",
        "*   Data reading\n",
        "*   Data clearning, if any\n",
        "*   Convert data to vector/tokenization/vectorization\n",
        "*   Model Declaration/Initialization/building\n",
        "*   Training and validation of the model using training and validation dataset\n",
        "*   Save the trained model\n",
        "*   Load and Test the model on testing set\n",
        "*   Save the output of the model\n",
        "\n",
        "\n",
        "You could add any other step(s) based on your method's requirement.\n",
        "\n",
        "After finishing the above, you need to usd splited data as defined in the assignment and then do the same for all 4 sets. Your code should not be copy-pasted 4 time, make use of `function`.\n"
      ]
    },
    {
      "cell_type": "markdown",
      "source": [],
      "metadata": {
        "id": "2wdGjj88grRe"
      }
    },
    {
      "cell_type": "code",
      "execution_count": 17,
      "metadata": {
        "id": "6W5H-VeKi7-z"
      },
      "outputs": [],
      "source": [
        "# Your Code(s)"
      ]
    },
    {
      "cell_type": "markdown",
      "metadata": {
        "id": "1sA3OWlVbnoY"
      },
      "source": [
        "## Training Unsupervised Method Code\n",
        "Your test code should be a stand alone code that must take `train_file`, `val_file`,  and `model_dir` as input. You could have other things as also input, but these three are must. You would load both files, and train using the `train_file` and validating using the `val_file`. You will `print` / `display`/ `plot` all performance metrics, loss(if available) and save the output model in the `model_dir`.\n",
        "\n",
        "Note that at the testing time, you need to use the same pre-processing and model. So, it would be good that you make those as seperate function/pipeline whichever it the best suited for your method. Don't copy-paste same code twice, make it a fucntion/class whichever is best."
      ]
    },
    {
      "cell_type": "code",
      "execution_count": 18,
      "metadata": {
        "id": "fkJ5LiXoipcX"
      },
      "outputs": [],
      "source": [
        "# Your Code(s)"
      ]
    },
    {
      "cell_type": "markdown",
      "metadata": {
        "id": "qyJ_xv12Uy9c"
      },
      "source": [
        "## Testing Method Unsupervised Code\n",
        "Your test code should be a stand alone code that must take `test_file`, `model_file` and `output_dir` as input. You could have other things as also input, but these three are must. You would load both files, and generate output based on inputs. Then you will `print` / `display`/ `plot` all performance metrics, and save the output file in the `output_dir`  "
      ]
    },
    {
      "cell_type": "code",
      "execution_count": 19,
      "metadata": {
        "id": "UZs5nzA4ivqT"
      },
      "outputs": [],
      "source": [
        "# Your Code(s)"
      ]
    },
    {
      "cell_type": "markdown",
      "metadata": {
        "id": "ue3xIDFGSXNH"
      },
      "source": [
        "## Method Unsupervised End\n"
      ]
    },
    {
      "cell_type": "markdown",
      "metadata": {
        "id": "o5jNIHneSfzg"
      },
      "source": [
        "# Method Discriminative Start\n",
        "\n",
        "In this section you will write all details of your Method 2.\n",
        "\n",
        "You will have to enter multiple `code` and `text` cell.\n",
        "\n",
        "Your code should follow the standard ML pipeline\n",
        "\n",
        "\n",
        "*   Data reading\n",
        "*   Data clearning, if any\n",
        "*   Convert data to vector/tokenization/vectorization\n",
        "*   Model Declaration/Initialization/building\n",
        "*   Training and validation of the model using training and validation dataset\n",
        "*   Save the trained model\n",
        "*   Load and Test the model on testing set\n",
        "*   Save the output of the model\n",
        "\n",
        "You could add any other step(s) based on your method's requirement.\n",
        "\n",
        "After finishing the above, you need to usd splited data as defined in the assignment and then do the same for all 4 sets. Your code should not be copy-pasted 4 time, make use of `function`.\n"
      ]
    },
    {
      "cell_type": "markdown",
      "source": [
        "============================================================================\n",
        "==============================================================================\n",
        "I have tried and validated two discriminative methods, namely SVM and DistilBert. After comparing their classification reports and confusion matrices, I chose to proceed with SVM as my Discriminative Model"
      ],
      "metadata": {
        "id": "Mh_V8NWJgyqz"
      }
    },
    {
      "cell_type": "markdown",
      "metadata": {
        "id": "AdbayX22t_QS"
      },
      "source": [
        "# **Discriminative model SVM**"
      ]
    },
    {
      "cell_type": "markdown",
      "metadata": {
        "id": "zAkC0CWAc1BY"
      },
      "source": [
        "## Training Method Discriminative Code\n",
        "Your test code should be a stand alone code that must take `train_file`, `val_file`,  and `model_dir` as input. You could have other things as also input, but these three are must. You would load both files, and train using the `train_file` and validating using the `val_file`. You will `print` / `display`/ `plot` all performance metrics, loss(if available) and save the output model in the `model_dir`.\n",
        "\n",
        "Note that at the testing time, you need to use the same pre-processing and model. So, it would be good that you make those as seperate function/pipeline whichever it the best suited for your method. Don't copy-paste same code twice, make it a fucntion/class whichever is best."
      ]
    },
    {
      "cell_type": "code",
      "execution_count": 33,
      "metadata": {
        "id": "V1BL_w7Ai0pa"
      },
      "outputs": [],
      "source": [
        "\n",
        "import os\n",
        "import pickle\n",
        "from sklearn.feature_extraction.text import TfidfVectorizer\n",
        "from sklearn.svm import SVC\n",
        "from sklearn.metrics import f1_score, confusion_matrix, classification_report\n",
        "import matplotlib.pyplot as plt\n",
        "import seaborn as sns\n",
        "from imblearn.over_sampling import SMOTE\n",
        "\n",
        "model_dir=MODEL_Dis_DIRECTORY\n",
        "def train_dis(train_df, val_df, model_dir):\n",
        "    \"\"\"\n",
        "    Trains a text classifier using SVM on the provided training DataFrame and validates on the validation DataFrame.\n",
        "    Saves the best model and vocab in the model_dir.\n",
        "\n",
        "    Args:\n",
        "        train_df: DataFrame containing training data with 'text', 'sentiment' and 'encoded_sentiment' columns\n",
        "        val_df: DataFrame containing validation data with 'text', 'sentiment' and 'encoded_sentiment' columns\n",
        "        model_dir: Directory to save the trained model and vocabulary\n",
        "    \"\"\"\n",
        "\n",
        "    #encode the sentiments\n",
        "    train_df['sentiment_encoded'] = train_df['sentiment'].map({'negative': 0, 'positive': 1})\n",
        "    val_df['sentiment_encoded'] = val_df['sentiment'].map({'negative': 0, 'positive': 1})\n",
        "\n",
        "    # Remove rows with NaNs in both 'text' and 'label' columns\n",
        "    train_df = train_df.dropna(subset=['text', 'sentiment'])\n",
        "    val_df = val_df.dropna(subset=['text', 'sentiment'])\n",
        "\n",
        "    # Preprocess the data\n",
        "    train_df['text'] = train_df['text'].apply(preprocess_text)\n",
        "    val_df['text'] = val_df['text'].apply(preprocess_text)\n",
        "\n",
        "   # Check if preprocessed texts are empty\n",
        "    train_df = train_df[train_df['text'].str.strip() != '']\n",
        "    val_df = val_df[val_df['text'].str.strip() != '']\n",
        "\n",
        "    if train_df.empty:\n",
        "        raise ValueError(\"Training data is empty after preprocessing. Adjust preprocessing steps.\")\n",
        "\n",
        "    if val_df.empty:\n",
        "        raise ValueError(\"Validation data is empty after preprocessing. Adjust preprocessing steps.\")\n",
        "\n",
        "    print('Training set has', len(train_df), 'data points')\n",
        "    print('Validation set has', len(val_df), 'data points')\n",
        "\n",
        "    # Create vocabulary using TF-IDF vectorizer\n",
        "    tfidf_vectorizer = TfidfVectorizer()\n",
        "    counts = tfidf_vectorizer.fit_transform(train_df['text'].values)\n",
        "    targets = train_df['sentiment_encoded'].values\n",
        "    print(f\"Feature matrix shape: {counts.shape}\")\n",
        "    print(f\"Number of targets: {len(targets)}\")\n",
        "    if counts.shape[0] != len(targets):\n",
        "        raise ValueError(f\"Feature matrix has {counts.shape[0]} samples, but target has {len(targets)} samples. Check preprocessing steps.\")\n",
        "\n",
        "\n",
        "    # Apply SMOTE to balance the classes\n",
        "    smote = SMOTE(random_state=student_id)\n",
        "    counts_resampled, targets_resampled = smote.fit_resample(counts, train_df['sentiment_encoded'].values)\n",
        "\n",
        "    # Ensure SMOTE output is valid\n",
        "    print(f\"SMOTE feature matrix shape: {counts_resampled.shape}\")\n",
        "    print(f\"Number of SMOTE targets: {len(targets_resampled)}\")\n",
        "\n",
        "\n",
        "    # SVM classifier\n",
        "    classifier = SVC(kernel='linear', probability=True)  # You can choose other kernels like 'rbf', 'poly', etc.\n",
        "    targets = train_df['sentiment_encoded'].values\n",
        "\n",
        "    # Train the classifier\n",
        "    print('Start training')\n",
        "    classifier.fit(counts_resampled, targets_resampled)\n",
        "    print('Done training')\n",
        "\n",
        "    model_file = os.path.join(model_dir, 'model.sav')\n",
        "    pickle.dump(classifier, open(model_file, 'wb'))\n",
        "    print('Saved model to', model_file)\n",
        "\n",
        "    vocab_file = os.path.join(model_dir, 'vocab.sav')\n",
        "    pickle.dump(tfidf_vectorizer, open(vocab_file, 'wb'))\n",
        "    print('Saved vocab to', vocab_file)\n",
        "\n",
        "    # Testing on the validation data\n",
        "    #val_counts = tfidf_vectorizer.transform(val_df['text'])\n",
        "    #predictions = classifier.predict(val_counts)\n",
        "    #print('Validation Done')\n",
        "    #target = val_df['sentiment_encoded']\n",
        "\n",
        "    #score = f1_score(target, predictions, average='macro')\n",
        "\n",
        "    #print('Macro F1 Score on Validation set:', score)\n",
        "\n",
        "    return\n"
      ]
    },
    {
      "cell_type": "code",
      "execution_count": 27,
      "metadata": {
        "colab": {
          "base_uri": "https://localhost:8080/"
        },
        "id": "ay8zxM1pveKI",
        "outputId": "e24a169f-97dd-4ef2-c01e-eaec968b9e87"
      },
      "outputs": [
        {
          "output_type": "stream",
          "name": "stdout",
          "text": [
            "Training set has 3666 data points\n",
            "Validation set has 454 data points\n",
            "Feature matrix shape: (3666, 8257)\n",
            "Number of targets: 3666\n",
            "SMOTE feature matrix shape: (6034, 8257)\n",
            "Number of SMOTE targets: 6034\n",
            "Start training\n",
            "Done training\n",
            "Saved model to /content/gdrive/MyDrive/CE807-24-SU/Assignment_StudentID_2323017/model/model_dis/model.sav\n",
            "Saved vocab to /content/gdrive/MyDrive/CE807-24-SU/Assignment_StudentID_2323017/model/model_dis/vocab.sav\n"
          ]
        }
      ],
      "source": [
        "#Let's now train and test our SVM model on the data we have and save the model and then validate it\n",
        "#on the validation file\n",
        "train_dis(train_df, val_df, model_dir )\n",
        "\n"
      ]
    },
    {
      "cell_type": "markdown",
      "source": [
        "## Validating the Discriminative Model (SVM) on validation data\n",
        "\n",
        "The saved model was loaded from saved directory and applied to the validation set. The validation set was pre-processed the same way as training data, the saved tokenizer was also applied in the same way. The output of the validation data is then saved into an output file for further analysis and task 3."
      ],
      "metadata": {
        "id": "rLBEBKjjjaPd"
      }
    },
    {
      "cell_type": "code",
      "execution_count": 46,
      "metadata": {
        "id": "6Ht7rklMvExV"
      },
      "outputs": [],
      "source": [
        "model_dir=MODEL_Dis_DIRECTORY\n",
        "\n",
        "def test_model(val_df, model_dir):\n",
        "    \"\"\"\n",
        "    Loads the saved model and vocabulary, then tests it on the validation data.\n",
        "\n",
        "    Args:\n",
        "        val_df: Validation dataframe define earliere\n",
        "        model_dir: Model directory where the model and vocabulary are saved\n",
        "    \"\"\"\n",
        "\n",
        "\n",
        "    #val_df is already \"cleaned up\" in previsou sections: this include\n",
        "    # 1- removal of NaN rows both in 'text' and 'sentiment column'\n",
        "    # 2 -encoding sentiments as 'negative': 0, 'positive': 1 and creating an additional column 'sentiments_encoded'\n",
        "\n",
        "\n",
        "    # Preprocess the text data\n",
        "    val_df['text'] = val_df['text'].apply(preprocess_text)\n",
        "\n",
        "    # Check if preprocessed texts are empty\n",
        "    val_df = val_df[val_df['text'].str.strip() != '']\n",
        "\n",
        "    if val_df.empty:\n",
        "        raise ValueError(\"Validation data is empty after preprocessing. Adjust preprocessing steps.\")\n",
        "\n",
        "\n",
        "    # Load the saved model and vocabulary\n",
        "    model_file = os.path.join(model_dir, 'model.sav')\n",
        "    vocab_file = os.path.join(model_dir, 'vocab.sav')\n",
        "\n",
        "    classifier = pickle.load(open(model_file, 'rb'))\n",
        "    tfidf_vectorizer = pickle.load(open(vocab_file, 'rb'))\n",
        "    print('Loaded model and vocabulary from', model_dir)\n",
        "\n",
        "    # Testing on the validation data\n",
        "    val_counts = tfidf_vectorizer.transform(val_df['text'])\n",
        "    predictions = classifier.predict(val_counts)\n",
        "    target = val_df['sentiment_encoded']\n",
        "\n",
        "    # Save predictions and true labels to a CSV file\n",
        "    output_file = '/content/gdrive/MyDrive/CE807-24-SU/Assignment_StudentID_2323017/model/model_dis/validation_results.csv'\n",
        "    results_df = val_df[['text', 'sentiment_encoded']].copy()\n",
        "    results_df['predictions'] = predictions\n",
        "    results_df.to_csv(output_file, index=False)\n",
        "    print(f\"Saved validation results to {output_file}\")\n",
        "\n",
        "   # Compute confusion matrix\n",
        "    cm = confusion_matrix(target, predictions)\n",
        "    class_names = [str(cls) for cls in classifier.classes_]\n",
        "    plot_confusion_matrix(cm, class_names)\n",
        "\n",
        "    # Print classification report\n",
        "    report = classification_report(target, predictions, target_names=class_names)\n",
        "    print(\"Classification Report:\")\n",
        "    print(report)\n",
        "\n",
        "    # Calculate and print Macro F1 Score\n",
        "    score = f1_score(target, predictions, average='macro')\n",
        "    print('Macro F1 Score on Validation set:', score)\n",
        "\n",
        "\n",
        "    return"
      ]
    },
    {
      "cell_type": "code",
      "execution_count": 44,
      "metadata": {
        "id": "K-KwOXCPYlkQ"
      },
      "outputs": [],
      "source": [
        "def plot_confusion_matrix(cm, labels):\n",
        "    plt.figure(figsize=(10, 7))\n",
        "    sns.heatmap(cm, annot=True, fmt='d', cmap='Blues', xticklabels=labels, yticklabels=labels)\n",
        "    plt.xlabel('Predicted')\n",
        "    plt.ylabel('Actual')\n",
        "    plt.show()"
      ]
    },
    {
      "cell_type": "code",
      "execution_count": 47,
      "metadata": {
        "colab": {
          "base_uri": "https://localhost:8080/",
          "height": 845
        },
        "id": "58uJgqBJVdJ2",
        "outputId": "22edf97c-181c-4f5f-be4b-a99adcaed45e"
      },
      "outputs": [
        {
          "output_type": "stream",
          "name": "stdout",
          "text": [
            "Loaded model and vocabulary from /content/gdrive/MyDrive/CE807-24-SU/Assignment_StudentID_2323017/model/model_dis\n",
            "Saved validation results to /content/gdrive/MyDrive/CE807-24-SU/Assignment_StudentID_2323017/model/model_dis/validation_results.csv\n"
          ]
        },
        {
          "output_type": "display_data",
          "data": {
            "text/plain": [
              "<Figure size 1000x700 with 2 Axes>"
            ],
            "image/png": "[encoded data removed]"
          },
          "metadata": {}
        },
        {
          "output_type": "stream",
          "name": "stdout",
          "text": [
            "Classification Report:\n",
            "              precision    recall  f1-score   support\n",
            "\n",
            "           0       0.53      0.60      0.56        80\n",
            "           1       0.91      0.89      0.90       374\n",
            "\n",
            "    accuracy                           0.84       454\n",
            "   macro avg       0.72      0.74      0.73       454\n",
            "weighted avg       0.85      0.84      0.84       454\n",
            "\n",
            "Macro F1 Score on Validation set: 0.732217439821457\n"
          ]
        }
      ],
      "source": [
        "#Initialize and test the saved model on the validation set, i.e fine tune it\n",
        "test_model(val_df, model_dir)"
      ]
    },
    {
      "cell_type": "markdown",
      "metadata": {
        "id": "LVi2vGeZc5Fp"
      },
      "source": [
        "## Testing Method Discriminative Code\n",
        "below is the test code, which takes test.df and predicts the outcome using the model file saved previously."
      ]
    },
    {
      "cell_type": "code",
      "source": [
        "def test_dis(test_df, model_dir):\n",
        "    \"\"\"\n",
        "    Applies the saved model to an unseen, unlabeled test DataFrame and saves the predictions to a predefined CSV file.\n",
        "\n",
        "    Args:\n",
        "        test_df: Unlabeled test dataframe with 'text' column\n",
        "        model_dir: Model directory where the model and vocabulary are saved\n",
        "    \"\"\"\n",
        "\n",
        "    # Preprocess the test data\n",
        "    test_df['text'] = test_df['text'].apply(preprocess_text)\n",
        "\n",
        "    # Check if preprocessed texts are empty\n",
        "    test_df = test_df[test_df['text'].str.strip() != '']\n",
        "\n",
        "    if test_df.empty:\n",
        "        raise ValueError(\"Test data is empty after preprocessing. Adjust preprocessing steps.\")\n",
        "\n",
        "    # Load the saved model and vocabulary\n",
        "    try:\n",
        "        model_file = os.path.join(model_dir, 'model.sav')\n",
        "        vocab_file = os.path.join(model_dir, 'vocab.sav')\n",
        "\n",
        "        classifier = pickle.load(open(model_file, 'rb'))\n",
        "        tfidf_vectorizer = pickle.load(open(vocab_file, 'rb'))\n",
        "        print('Loaded model and vocabulary from', model_dir)\n",
        "    except Exception as e:\n",
        "        raise RuntimeError(f\"Error loading model or vocabulary: {e}\")\n",
        "\n",
        "    # Transform the test data using the TF-IDF vectorizer\n",
        "    test_counts = tfidf_vectorizer.transform(test_df['text'])\n",
        "    predictions = classifier.predict(test_counts)\n",
        "\n",
        "    # Save predictions to a predefined CSV file\n",
        "    output_file = '/content/gdrive/MyDrive/CE807-24-SU/Assignment_StudentID_2323017/output_test.csv'\n",
        "    results_df = test_df[['text']].copy()\n",
        "    results_df['output_model_dis'] = predictions\n",
        "    results_df.to_csv(output_file, index=False)\n",
        "    print(f\"Saved test predictions to {output_file}\")\n",
        "\n",
        "    return\n"
      ],
      "metadata": {
        "id": "Na_uam5asb4Y"
      },
      "execution_count": 60,
      "outputs": []
    },
    {
      "cell_type": "code",
      "source": [
        "test_dis(test_df,model_dir)"
      ],
      "metadata": {
        "colab": {
          "base_uri": "https://localhost:8080/"
        },
        "id": "IAgAU1LIsdol",
        "outputId": "40f9c348-629a-4047-c1d6-14272d93906a"
      },
      "execution_count": 61,
      "outputs": [
        {
          "output_type": "stream",
          "name": "stdout",
          "text": [
            "Loaded model and vocabulary from /content/gdrive/MyDrive/CE807-24-SU/Assignment_StudentID_2323017/model/model_dis\n",
            "Saved test predictions to /content/gdrive/MyDrive/CE807-24-SU/Assignment_StudentID_2323017/output_test.csv\n"
          ]
        }
      ]
    },
    {
      "cell_type": "markdown",
      "source": [],
      "metadata": {
        "id": "Bjr0Gblxsdfz"
      }
    },
    {
      "cell_type": "markdown",
      "metadata": {
        "id": "4gNwyxXNSmVb"
      },
      "source": [
        "## Discriminative Method  End\n"
      ]
    },
    {
      "cell_type": "markdown",
      "metadata": {
        "id": "rmaJfJkVwSDW"
      },
      "source": [
        "# Other Method/model Start"
      ]
    },
    {
      "cell_type": "markdown",
      "metadata": {
        "id": "rAM5g3XJtkxf"
      },
      "source": [
        "I have trained 2 models, starting with SVM then proceeding to DistilBERT. Both are discriminative models. After assessing the evaluation of the models, I decided to proceed with SVM (above), but also keeping the DistilBert below for information"
      ]
    },
    {
      "cell_type": "markdown",
      "metadata": {
        "id": "a8nVewBqw2Ch"
      },
      "source": [
        "I ran the model on raw/unprocessed data and it failed to train. So let's pre-proces and modify the code and evaluate."
      ]
    },
    {
      "cell_type": "markdown",
      "metadata": {
        "id": "lnmM72F7evig"
      },
      "source": [
        "# **Other Discriminative Model** **DistilBERT**"
      ]
    },
    {
      "cell_type": "code",
      "execution_count": 29,
      "metadata": {
        "id": "Aghxen_se-Vc"
      },
      "outputs": [],
      "source": [
        "import os\n",
        "import pandas as pd\n",
        "import torch\n",
        "from torch.utils.data import DataLoader, Dataset\n",
        "from transformers import DistilBertTokenizer, DistilBertForSequenceClassification, AdamW, get_linear_schedule_with_warmup\n",
        "from sklearn.metrics import classification_report, f1_score, confusion_matrix\n",
        "import seaborn as sns\n",
        "import matplotlib.pyplot as plt\n",
        "from tqdm import tqdm\n",
        "\n",
        "# Define a Dataset class\n",
        "class SentimentDataset(Dataset):\n",
        "    def __init__(self, dataframe, tokenizer, max_len):\n",
        "        self.data = dataframe\n",
        "        self.tokenizer = tokenizer\n",
        "        self.max_len = max_len\n",
        "\n",
        "    def __len__(self):\n",
        "        return len(self.data)\n",
        "\n",
        "    def __getitem__(self, index):\n",
        "        text = self.data.iloc[index]['text']\n",
        "        sentiment = self.data.iloc[index]['sentiment_encoded']\n",
        "\n",
        "        encoding = self.tokenizer.encode_plus(\n",
        "            text,\n",
        "            add_special_tokens=True,\n",
        "            max_length=self.max_len,\n",
        "            truncation=True,\n",
        "            return_token_type_ids=False,\n",
        "            padding='max_length',\n",
        "            return_attention_mask=True,\n",
        "            return_tensors='pt',\n",
        "        )\n",
        "\n",
        "        return {\n",
        "            'input_ids': encoding['input_ids'].flatten(),\n",
        "            'attention_mask': encoding['attention_mask'].flatten(),\n",
        "            'labels': torch.tensor(sentiment, dtype=torch.long)\n",
        "        }"
      ]
    },
    {
      "cell_type": "code",
      "execution_count": 31,
      "metadata": {
        "colab": {
          "base_uri": "https://localhost:8080/",
          "height": 371,
          "referenced_widgets": [
            "8b13aa3ed1c84d33bd947a16f75ff6e2",
            "09f23259cd064414ac59ab1b9146d312",
            "fb7cec0c9adb4d33ad81aac447072d5e",
            "0d462f1e97854fbf81d84cc73b597000",
            "30d638179d164620a7e1fd4375f06238",
            "0a196cdcd1bf4dbeb970c529cd5ac930",
            "b7004afe00da4d4abd76b71faa1390fa",
            "ba5955e57b7a44948d928b67dc991d23",
            "2c739a6800d84590865cd68079314566",
            "a3ec6b69d67c4b4f8e8b5c2ac649066f",
            "59e29e9e60034c2cbf45066edd434a0b",
            "ae9b400f1d4c4fb2a0e1032a35a5802e",
            "ee5fabc60c3d40ec8937f74b69526114",
            "b204fe70d15e4694ab124281f56225ee",
            "37431b7768f640c2b1d5bb9814f99f63",
            "f065a28953234dce8881f5ac751596cf",
            "851e4ef2db32494a95688aec7e3bd16b",
            "7a5dc276651b47068e057b7734eea7f4",
            "4a2ad7fddf69493db92c5ffd79a54936",
            "74c1bdbdaeb64c658d57adb44a19c10f",
            "b39a80e0de1c4f9e9c0eb61d634f5bb3",
            "061d9b0ff0c84c829154644b28e8492c",
            "bb19a184e25344bf9512630c4fc80b13",
            "71f8cf97134047b9a15ae43bb9df685d",
            "8fc164f17b03420daaa8d4bf0c0ea873",
            "f933c3e849fc42da8ddd6b95e4369e6d",
            "7e98ac9914c940a8b685530218476b58",
            "a415ac1fd7c34cb48c3c94e6312fd732",
            "4559d6e84239425cac03076efab73352",
            "0d64d4e654c24c289c28ccfa30caf3bc",
            "9e2b9ed31fd6401393078624f2cc01cf",
            "bb58f9ac856b4cd8827e932546f365d0",
            "ce779a876daa46bea25cda1a071d3f15",
            "0b679f678e1c4270a283f28e8ec89c3f",
            "e92ebc537e024722b799f08fc5bab567",
            "6c9698a9747b49a4afb6d33cea9457f8",
            "bfbc889201a243c39d2e236c1a71948e",
            "ff7fff52c40345fd9813a556addd825b",
            "07c56018b2d84b62b5fd645e4b12decd",
            "11c27ab5edb84121b15fc97b769f3b5e",
            "a7cf8122bdb7443cadc80ddc3eb2c938",
            "317983359f3547269905f62a2e9953cd",
            "eaf425ebe20b40faac6f9987ca1d01ec",
            "055ba16d2096453fbaa65c9c0c9955ef",
            "bc23f5dfd86547eb8c160d09801311e6",
            "1cecb98b08e44882975c17b43435a3b0",
            "48437c5792f642b68bd3c04bbfe7d88e",
            "4e9949dbbf20461694377e4eff7bce2f",
            "7bd3012d13ea41b08921711ab30b69ce",
            "a83cafcf6e15408586a585ae2ac0c646",
            "febe172bc4bd4e0181aab1a311d706dc",
            "ef151ce811fb48db941983145772107a",
            "ffcd83a1db824665ade9571b4371d819",
            "fe401a8805354bba86e14855e3e33e35",
            "57a5776258204134b016da5023c99fa5"
          ]
        },
        "id": "jxVHnq-XfMn3",
        "outputId": "d69aa236-ed30-4bd5-f457-471595fcf17a"
      },
      "outputs": [
        {
          "output_type": "stream",
          "name": "stderr",
          "text": [
            "/usr/local/lib/python3.10/dist-packages/huggingface_hub/utils/_token.py:89: UserWarning: \n",
            "The secret `HF_TOKEN` does not exist in your Colab secrets.\n",
            "To authenticate with the Hugging Face Hub, create a token in your settings tab (https://huggingface.co/settings/tokens), set it as secret in your Google Colab and restart your session.\n",
            "You will be able to reuse this secret in all of your notebooks.\n",
            "Please note that authentication is recommended but still optional to access public models or datasets.\n",
            "  warnings.warn(\n"
          ]
        },
        {
          "output_type": "display_data",
          "data": {
            "text/plain": [
              "tokenizer_config.json:   0%|          | 0.00/48.0 [00:00<?, ?B/s]"
            ],
            "application/vnd.jupyter.widget-view+json": {
              "version_major": 2,
              "version_minor": 0,
              "model_id": "8b13aa3ed1c84d33bd947a16f75ff6e2"
            }
          },
          "metadata": {}
        },
        {
          "output_type": "display_data",
          "data": {
            "text/plain": [
              "vocab.txt:   0%|          | 0.00/232k [00:00<?, ?B/s]"
            ],
            "application/vnd.jupyter.widget-view+json": {
              "version_major": 2,
              "version_minor": 0,
              "model_id": "ae9b400f1d4c4fb2a0e1032a35a5802e"
            }
          },
          "metadata": {}
        },
        {
          "output_type": "display_data",
          "data": {
            "text/plain": [
              "tokenizer.json:   0%|          | 0.00/466k [00:00<?, ?B/s]"
            ],
            "application/vnd.jupyter.widget-view+json": {
              "version_major": 2,
              "version_minor": 0,
              "model_id": "bb19a184e25344bf9512630c4fc80b13"
            }
          },
          "metadata": {}
        },
        {
          "output_type": "display_data",
          "data": {
            "text/plain": [
              "config.json:   0%|          | 0.00/483 [00:00<?, ?B/s]"
            ],
            "application/vnd.jupyter.widget-view+json": {
              "version_major": 2,
              "version_minor": 0,
              "model_id": "0b679f678e1c4270a283f28e8ec89c3f"
            }
          },
          "metadata": {}
        },
        {
          "output_type": "display_data",
          "data": {
            "text/plain": [
              "model.safetensors:   0%|          | 0.00/268M [00:00<?, ?B/s]"
            ],
            "application/vnd.jupyter.widget-view+json": {
              "version_major": 2,
              "version_minor": 0,
              "model_id": "bc23f5dfd86547eb8c160d09801311e6"
            }
          },
          "metadata": {}
        },
        {
          "output_type": "stream",
          "name": "stderr",
          "text": [
            "Some weights of DistilBertForSequenceClassification were not initialized from the model checkpoint at distilbert-base-uncased and are newly initialized: ['classifier.bias', 'classifier.weight', 'pre_classifier.bias', 'pre_classifier.weight']\n",
            "You should probably TRAIN this model on a down-stream task to be able to use it for predictions and inference.\n",
            "/usr/local/lib/python3.10/dist-packages/transformers/optimization.py:591: FutureWarning: This implementation of AdamW is deprecated and will be removed in a future version. Use the PyTorch implementation torch.optim.AdamW instead, or set `no_deprecation_warning=True` to disable this warning\n",
            "  warnings.warn(\n"
          ]
        }
      ],
      "source": [
        "# Preprocess text data\n",
        "train_df['text'] = train_df['text'].apply(preprocess_text)\n",
        "val_df['text'] = val_df['text'].apply(preprocess_text)\n",
        "\n",
        "# Parameters\n",
        "PRE_TRAINED_MODEL_NAME = 'distilbert-base-uncased'\n",
        "MAX_LEN = 128\n",
        "BATCH_SIZE = 4\n",
        "EPOCHS = 2\n",
        "LEARNING_RATE = 5e-5\n",
        "\n",
        "# Initialize tokenizer\n",
        "tokenizer = DistilBertTokenizer.from_pretrained(PRE_TRAINED_MODEL_NAME)\n",
        "\n",
        "# Create DataLoader\n",
        "train_dataset = SentimentDataset(train_df, tokenizer, MAX_LEN)\n",
        "val_dataset = SentimentDataset(val_df, tokenizer, MAX_LEN)\n",
        "\n",
        "train_loader = DataLoader(train_dataset, batch_size=BATCH_SIZE, shuffle=True)\n",
        "val_loader = DataLoader(val_dataset, batch_size=BATCH_SIZE, shuffle=False)\n",
        "\n",
        "# Initialize DistilBERT model\n",
        "model = DistilBertForSequenceClassification.from_pretrained(PRE_TRAINED_MODEL_NAME, num_labels=2)\n",
        "model = model.to('cuda' if torch.cuda.is_available() else 'cpu')\n",
        "\n",
        "# Optimizer and scheduler\n",
        "optimizer = AdamW(model.parameters(), lr=LEARNING_RATE)\n",
        "total_steps = len(train_loader) * EPOCHS\n",
        "scheduler = get_linear_schedule_with_warmup(optimizer, num_warmup_steps=0, num_training_steps=total_steps)\n",
        "\n",
        "# Training function\n",
        "def train_epoch(model, data_loader, optimizer, device, scheduler):\n",
        "    model = model.train()\n",
        "    losses = []\n",
        "    correct_predictions = 0\n",
        "\n",
        "    for d in tqdm(data_loader, desc=\"Training\"):\n",
        "        input_ids = d[\"input_ids\"].to(device)\n",
        "        attention_mask = d[\"attention_mask\"].to(device)\n",
        "        labels = d[\"labels\"].to(device)\n",
        "\n",
        "        outputs = model(\n",
        "            input_ids=input_ids,\n",
        "            attention_mask=attention_mask,\n",
        "            labels=labels\n",
        "        )\n",
        "\n",
        "        loss = outputs.loss\n",
        "        preds = torch.argmax(outputs.logits, dim=1)\n",
        "\n",
        "        correct_predictions += torch.sum(preds == labels)\n",
        "        losses.append(loss.item())\n",
        "\n",
        "        loss.backward()\n",
        "        optimizer.step()\n",
        "        scheduler.step()\n",
        "        optimizer.zero_grad()\n",
        "\n",
        "    return correct_predictions.double() / len(data_loader.dataset), np.mean(losses)\n"
      ]
    },
    {
      "cell_type": "code",
      "execution_count": 37,
      "metadata": {
        "colab": {
          "base_uri": "https://localhost:8080/",
          "height": 1000
        },
        "id": "F6x4CLqDf1M1",
        "outputId": "0b8564dc-f21c-42f7-9a1d-b35a5beb88c5"
      },
      "outputs": [
        {
          "output_type": "stream",
          "name": "stdout",
          "text": [
            "Epoch 1/2\n"
          ]
        },
        {
          "output_type": "stream",
          "name": "stderr",
          "text": [
            "Training: 100%|██████████| 920/920 [53:43<00:00,  3.50s/it]\n"
          ]
        },
        {
          "output_type": "stream",
          "name": "stdout",
          "text": [
            "Train loss 0.37096636408393313 accuracy 0.843936922240348\n"
          ]
        },
        {
          "output_type": "stream",
          "name": "stderr",
          "text": [
            "Evaluating: 100%|██████████| 114/114 [01:48<00:00,  1.05it/s]\n"
          ]
        },
        {
          "output_type": "stream",
          "name": "stdout",
          "text": [
            "Val   loss 0.34792301687820437 accuracy 0.8634361233480177\n",
            "Epoch 2/2\n"
          ]
        },
        {
          "output_type": "stream",
          "name": "stderr",
          "text": [
            "Training: 100%|██████████| 920/920 [53:58<00:00,  3.52s/it]\n"
          ]
        },
        {
          "output_type": "stream",
          "name": "stdout",
          "text": [
            "Train loss 0.21930000881370887 accuracy 0.9148994018488309\n"
          ]
        },
        {
          "output_type": "stream",
          "name": "stderr",
          "text": [
            "Evaluating: 100%|██████████| 114/114 [01:46<00:00,  1.07it/s]\n"
          ]
        },
        {
          "output_type": "stream",
          "name": "stdout",
          "text": [
            "Val   loss 0.3341118608552374 accuracy 0.8612334801762115\n"
          ]
        },
        {
          "output_type": "stream",
          "name": "stderr",
          "text": [
            "Evaluating: 100%|██████████| 114/114 [01:47<00:00,  1.06it/s]\n"
          ]
        },
        {
          "output_type": "stream",
          "name": "stdout",
          "text": [
            "Classification Report:\n",
            "              precision    recall  f1-score   support\n",
            "\n",
            "    negative       0.82      0.29      0.43        80\n",
            "    positive       0.87      0.99      0.92       374\n",
            "\n",
            "    accuracy                           0.86       454\n",
            "   macro avg       0.84      0.64      0.67       454\n",
            "weighted avg       0.86      0.86      0.83       454\n",
            "\n"
          ]
        },
        {
          "output_type": "display_data",
          "data": {
            "text/plain": [
              "<Figure size 1000x700 with 2 Axes>"
            ],
            "image/png": "[encoded data removed]"
          },
          "metadata": {}
        },
        {
          "output_type": "stream",
          "name": "stdout",
          "text": [
            "Macro F1 Score on Validation set: 0.674212962962963\n"
          ]
        }
      ],
      "source": [
        "# Evaluation function\n",
        "def eval_model(model, data_loader, device):\n",
        "    model = model.eval()\n",
        "    losses = []\n",
        "    correct_predictions = 0\n",
        "\n",
        "    all_preds = []\n",
        "    all_labels = []\n",
        "\n",
        "    with torch.no_grad():\n",
        "        for d in tqdm(data_loader, desc=\"Evaluating\"):\n",
        "            input_ids = d[\"input_ids\"].to(device)\n",
        "            attention_mask = d[\"attention_mask\"].to(device)\n",
        "            labels = d[\"labels\"].to(device)\n",
        "\n",
        "            outputs = model(\n",
        "                input_ids=input_ids,\n",
        "                attention_mask=attention_mask,\n",
        "                labels=labels\n",
        "            )\n",
        "\n",
        "            loss = outputs.loss\n",
        "            preds = torch.argmax(outputs.logits, dim=1)\n",
        "\n",
        "            correct_predictions += torch.sum(preds == labels)\n",
        "            losses.append(loss.item())\n",
        "\n",
        "            all_preds.extend(preds.cpu().numpy())\n",
        "            all_labels.extend(labels.cpu().numpy())\n",
        "\n",
        "    return correct_predictions.double() / len(data_loader.dataset), np.mean(losses), all_preds, all_labels\n",
        "\n",
        "# Training loop\n",
        "device = 'cuda' if torch.cuda.is_available() else 'cpu'\n",
        "best_accuracy = 0\n",
        "\n",
        "for epoch in range(EPOCHS):\n",
        "    print(f'Epoch {epoch + 1}/{EPOCHS}')\n",
        "\n",
        "    train_acc, train_loss = train_epoch(\n",
        "        model,\n",
        "        train_loader,\n",
        "        optimizer,\n",
        "        device,\n",
        "        scheduler\n",
        "    )\n",
        "\n",
        "    print(f'Train loss {train_loss} accuracy {train_acc}')\n",
        "\n",
        "    val_acc, val_loss, preds, labels = eval_model(\n",
        "        model,\n",
        "        val_loader,\n",
        "        device\n",
        "    )\n",
        "\n",
        "    print(f'Val   loss {val_loss} accuracy {val_acc}')\n",
        "\n",
        "    if val_acc > best_accuracy:\n",
        "        torch.save(model.state_dict(), os.path.join(model_dir, 'best_model_state.bin'))#save the best model\n",
        "        tokenizer.save_pretrained(model_dir)  # Save the tokenizer\n",
        "        best_accuracy = val_acc\n",
        "\n",
        "# Load best model\n",
        "model.load_state_dict(torch.load(os.path.join(model_dir, 'best_model_state.bin')))\n",
        "\n",
        "# Evaluate the best model\n",
        "val_acc, val_loss, preds, labels = eval_model(model, val_loader, device)\n",
        "\n",
        "# Classification report\n",
        "class_names = ['negative', 'positive']\n",
        "report = classification_report(labels, preds, target_names=class_names)\n",
        "print(\"Classification Report:\")\n",
        "print(report)\n",
        "\n",
        "# Confusion Matrix\n",
        "cm = confusion_matrix(labels, preds)\n",
        "plt.figure(figsize=(10, 7))\n",
        "sns.heatmap(cm, annot=True, fmt='d', cmap='Blues', xticklabels=class_names, yticklabels=class_names)\n",
        "plt.xlabel('Predicted')\n",
        "plt.ylabel('Actual')\n",
        "plt.title('Confusion Matrix')\n",
        "plt.show()\n",
        "\n",
        "# Macro F1 Score\n",
        "score = f1_score(labels, preds, average='macro')\n",
        "print('Macro F1 Score on Validation set:', score)"
      ]
    },
    {
      "cell_type": "markdown",
      "metadata": {
        "id": "7yMswIeAwYIf"
      },
      "source": [
        "##Other Method/model End"
      ]
    },
    {
      "cell_type": "markdown",
      "source": [
        "================================================================================\n",
        "# Let's trial out 2 unsupervised models and then choose the best one and move it up into it's own block while keeping the second one here for comparison"
      ],
      "metadata": {
        "id": "REmiWd4S6cPn"
      }
    },
    {
      "cell_type": "markdown",
      "source": [],
      "metadata": {
        "id": "V-e189gm6bTD"
      }
    },
    {
      "cell_type": "markdown",
      "source": [
        "# **Unsupervised model -----VADER**"
      ],
      "metadata": {
        "id": "G0iR4KDa6sou"
      }
    },
    {
      "cell_type": "markdown",
      "source": [
        "VADER is an unsupervised model which does not require training. We could apply it to trainig set, or validation set and also testing set to get predictions. When applying on validation set, we can keep the target labels for the evaluation purposes."
      ],
      "metadata": {
        "id": "rje6U3yj6MmQ"
      }
    },
    {
      "cell_type": "code",
      "source": [
        "!pip install vaderSentiment"
      ],
      "metadata": {
        "colab": {
          "base_uri": "https://localhost:8080/"
        },
        "id": "bAVHuDQsAIYM",
        "outputId": "12371bf6-8dc2-4cf7-bb08-91b615c6913f"
      },
      "execution_count": 20,
      "outputs": [
        {
          "output_type": "stream",
          "name": "stdout",
          "text": [
            "Collecting vaderSentiment\n",
            "  Downloading vaderSentiment-3.3.2-py2.py3-none-any.whl.metadata (572 bytes)\n",
            "Requirement already satisfied: requests in /usr/local/lib/python3.10/dist-packages (from vaderSentiment) (2.31.0)\n",
            "Requirement already satisfied: charset-normalizer<4,>=2 in /usr/local/lib/python3.10/dist-packages (from requests->vaderSentiment) (3.3.2)\n",
            "Requirement already satisfied: idna<4,>=2.5 in /usr/local/lib/python3.10/dist-packages (from requests->vaderSentiment) (3.7)\n",
            "Requirement already satisfied: urllib3<3,>=1.21.1 in /usr/local/lib/python3.10/dist-packages (from requests->vaderSentiment) (2.0.7)\n",
            "Requirement already satisfied: certifi>=2017.4.17 in /usr/local/lib/python3.10/dist-packages (from requests->vaderSentiment) (2024.7.4)\n",
            "Downloading vaderSentiment-3.3.2-py2.py3-none-any.whl (125 kB)\n",
            "\u001b[2K   \u001b[90m━━━━━━━━━━━━━━━━━━━━━━━━━━━━━━━━━━━━━━━━\u001b[0m \u001b[32m126.0/126.0 kB\u001b[0m \u001b[31m2.3 MB/s\u001b[0m eta \u001b[36m0:00:00\u001b[0m\n",
            "\u001b[?25hInstalling collected packages: vaderSentiment\n",
            "Successfully installed vaderSentiment-3.3.2\n"
          ]
        }
      ]
    },
    {
      "cell_type": "code",
      "source": [
        "import pandas as pd\n",
        "import re\n",
        "from vaderSentiment.vaderSentiment import SentimentIntensityAnalyzer\n",
        "from sklearn.metrics import classification_report, f1_score, confusion_matrix\n",
        "\n",
        "# Initialize the VADER sentiment analyzer\n",
        "analyzer = SentimentIntensityAnalyzer()\n",
        "\n",
        "# Function to convert VADER scores to sentiment labels\n",
        "def get_sentiment_label(score):\n",
        "    return 'positive' if score >= 0.3 else 'negative'\n",
        "\n",
        "# Function to handle numeric values\n",
        "def handle_numbers(text):\n",
        "    # Convert standalone numbers that might be ratings\n",
        "    text = re.sub(r'\\b([0-5])\\b', lambda m: f\"{m.group(1)} stars\", text)\n",
        "\n",
        "    # Keep numbers in context, remove standalone numbers\n",
        "    text = re.sub(r'\\b\\d+\\b', '', text)\n",
        "\n",
        "    return text\n",
        "\n",
        "# Text cleaning and preprocessing function\n",
        "def vader_preprocess_text(text):\n",
        "    # Remove HTML tags\n",
        "    text = re.sub(r'<.*?>', '', text)\n",
        "\n",
        "    # Handle numbers\n",
        "    text = handle_numbers(text)\n",
        "\n",
        "    # Handle special characters (optional, be cautious)\n",
        "    text = re.sub(r'[^\\w\\s!?.,]', '', text)\n",
        "\n",
        "    return text.strip()\n",
        "\n",
        "\n",
        "\n",
        "# Perform sentiment analysis\n",
        "vader_sentiments = []\n",
        "\n",
        "for text in val_df['text']:\n",
        "    preprocessed_text = vader_preprocess_text(text)\n",
        "    sentiment_scores = analyzer.polarity_scores(preprocessed_text)\n",
        "    sentiment_label = get_sentiment_label(sentiment_scores['compound'])\n",
        "    vader_sentiments.append(sentiment_label)\n",
        "\n",
        "# Add VADER sentiments to the dataframe\n",
        "val_df['vader_sentiment'] = vader_sentiments\n",
        "\n",
        "# Calculate accuracy\n",
        "accuracy = accuracy_score(val_df['sentiment'], val_df['vader_sentiment'])\n",
        "print(f\"Accuracy: {accuracy:.2f}\")\n",
        "\n",
        "# Calculate F1 score\n",
        "f1 = f1_score(val_df['sentiment'], val_df['vader_sentiment'], pos_label='positive')\n",
        "print(f\"F1 Score: {f1:.2f}\")\n",
        "\n",
        "# Generate classification report\n",
        "print(\"\\nClassification Report:\")\n",
        "print(classification_report(val_df['sentiment'], val_df['vader_sentiment']))\n",
        "\n",
        "# Optional: Save results to a new CSV file\n",
        "#val_df.to_csv('vader_sentiment_results.csv', index=False)\n",
        "\n",
        "print(\"\\nResults saved to 'sentiment_results.csv'\")"
      ],
      "metadata": {
        "colab": {
          "base_uri": "https://localhost:8080/"
        },
        "id": "LOH-_jqf8ZgO",
        "outputId": "877f8119-2fc5-4968-8056-4eb083ba4cf0"
      },
      "execution_count": 25,
      "outputs": [
        {
          "output_type": "stream",
          "name": "stdout",
          "text": [
            "Accuracy: 0.81\n",
            "F1 Score: 0.88\n",
            "\n",
            "Classification Report:\n",
            "              precision    recall  f1-score   support\n",
            "\n",
            "    negative       0.48      0.71      0.57        80\n",
            "    positive       0.93      0.83      0.88       374\n",
            "\n",
            "    accuracy                           0.81       454\n",
            "   macro avg       0.71      0.77      0.73       454\n",
            "weighted avg       0.85      0.81      0.83       454\n",
            "\n",
            "\n",
            "Results saved to 'sentiment_results.csv'\n"
          ]
        }
      ]
    },
    {
      "cell_type": "code",
      "source": [],
      "metadata": {
        "id": "XRrbyzeaxyFK"
      },
      "execution_count": null,
      "outputs": []
    },
    {
      "cell_type": "code",
      "source": [
        "import pandas as pd\n",
        "import re\n",
        "from vaderSentiment.vaderSentiment import SentimentIntensityAnalyzer\n",
        "from sklearn.metrics import accuracy_score, classification_report, f1_score\n",
        "\n",
        "def test_unsup(train_df):\n",
        "    # Initialize the VADER sentiment analyzer\n",
        "    analyzer = SentimentIntensityAnalyzer()\n",
        "\n",
        "    # Function to convert VADER scores to sentiment labels\n",
        "    def get_sentiment_label(score):\n",
        "        return 'positive' if score >= 0.3 else 'negative'\n",
        "\n",
        "    # Function to handle numeric values\n",
        "    def handle_numbers(text):\n",
        "        # Convert standalone numbers that might be ratings\n",
        "        text = re.sub(r'\\b([0-5])\\b', lambda m: f\"{m.group(1)} stars\", text)\n",
        "\n",
        "        # Keep numbers in context, remove standalone numbers\n",
        "        text = re.sub(r'\\b\\d+\\b', '', text)\n",
        "\n",
        "        return text\n",
        "\n",
        "    # Text cleaning and preprocessing function\n",
        "    def vader_preprocess_text(text):\n",
        "        # Remove HTML tags\n",
        "        text = re.sub(r'<.*?>', '', text)\n",
        "\n",
        "        # Handle numbers\n",
        "        text = handle_numbers(text)\n",
        "\n",
        "        # Handle special characters (optional, be cautious)\n",
        "        text = re.sub(r'[^\\w\\s!?.,]', '', text)\n",
        "\n",
        "        return text.strip()\n",
        "\n",
        "    # Perform sentiment analysis\n",
        "    vader_sentiments = []\n",
        "\n",
        "    for text in train_df['text']:\n",
        "        preprocessed_text = vader_preprocess_text(text)\n",
        "        sentiment_scores = analyzer.polarity_scores(preprocessed_text)\n",
        "        sentiment_label = get_sentiment_label(sentiment_scores['compound'])\n",
        "        vader_sentiments.append(sentiment_label)\n",
        "\n",
        "    # Add VADER sentiments to the dataframe\n",
        "    train_df['vader_sentiment'] = vader_sentiments\n",
        "\n",
        "    # Calculate accuracy\n",
        "    accuracy = accuracy_score(train_df['sentiment'], train_df['vader_sentiment'])\n",
        "    print(f\"Accuracy: {accuracy:.2f}\")\n",
        "\n",
        "    # Calculate F1 score\n",
        "    f1 = f1_score(train_df['sentiment'], train_df['vader_sentiment'], pos_label='positive')\n",
        "    print(f\"F1 Score: {f1:.2f}\")\n",
        "\n",
        "    # Generate classification report\n",
        "    print(\"\\nClassification Report:\")\n",
        "    print(classification_report(train_df['sentiment'], train_df['vader_sentiment']))\n",
        "\n",
        "    # Optional: Save results to a new CSV file\n",
        "    train_df.to_csv('vader_train_sentiment_results.csv', index=False)\n",
        "\n",
        "    print(\"\\nResults saved to 'vader_train_sentiment_results.csv'\")\n",
        "\n",
        "    return\n",
        "\n",
        "# Example usage:\n",
        "# val_df = pd.read_csv('your_file.csv', header=None, names=['label', 'text'])\n",
        "# test_unsup(val_df)\n"
      ],
      "metadata": {
        "id": "enHYgv-eykEz"
      },
      "execution_count": 77,
      "outputs": []
    },
    {
      "cell_type": "code",
      "source": [
        "test_unsup(train_df)"
      ],
      "metadata": {
        "colab": {
          "base_uri": "https://localhost:8080/"
        },
        "id": "1nAKmIXozSY8",
        "outputId": "4b59aa53-533f-465b-dfed-0c592f48882e"
      },
      "execution_count": 78,
      "outputs": [
        {
          "output_type": "stream",
          "name": "stdout",
          "text": [
            "Accuracy: 0.76\n",
            "F1 Score: 0.85\n",
            "\n",
            "Classification Report:\n",
            "              precision    recall  f1-score   support\n",
            "\n",
            "    negative       0.38      0.57      0.46       650\n",
            "    positive       0.90      0.80      0.85      3028\n",
            "\n",
            "    accuracy                           0.76      3678\n",
            "   macro avg       0.64      0.69      0.65      3678\n",
            "weighted avg       0.81      0.76      0.78      3678\n",
            "\n",
            "\n",
            "Results saved to 'vader_train_sentiment_results.csv'\n"
          ]
        }
      ]
    },
    {
      "cell_type": "markdown",
      "source": [
        "VADER is a model which cannot be pre-trained and needs to be applied to the data sets. I appied VADER to validation data and training data. In both cases, the imbalance of the data with lower negative sentiments results in poor prediction of the negative sentiments. Therefore, I will try K-means clustering next\n"
      ],
      "metadata": {
        "id": "B6XL85T40t4t"
      }
    },
    {
      "cell_type": "markdown",
      "source": [
        "# **Unsupervised model- K-means clustering**"
      ],
      "metadata": {
        "id": "LW14aRva1JXH"
      }
    },
    {
      "cell_type": "markdown",
      "source": [
        "\n",
        "# **Training Method Unsupervised Code**\n",
        "\n"
      ],
      "metadata": {
        "id": "Sd90uxI96Mi5"
      }
    },
    {
      "cell_type": "code",
      "source": [
        "\n",
        "import pandas as pd\n",
        "import string\n",
        "from sklearn.feature_extraction.text import TfidfVectorizer\n",
        "from sklearn.decomposition import PCA\n",
        "from sklearn.cluster import KMeans\n",
        "from sklearn.metrics import confusion_matrix, f1_score\n",
        "import matplotlib.pyplot as plt\n",
        "from nltk.corpus import stopwords\n",
        "from nltk.tokenize import word_tokenize\n",
        "from nltk.stem import WordNetLemmatizer\n",
        "import nltk\n",
        "\n",
        "# Ensure you have the required NLTK resources\n",
        "nltk.download('punkt')\n",
        "nltk.download('stopwords')\n",
        "nltk.download('wordnet')\n",
        "\n",
        "\n",
        "\n",
        "model_dir=MODEL_Unsup_DIRECTORY\n",
        "\n",
        "def train_unsup(train_df, val_df, model_dir):\n",
        "    \"\"\"\n",
        "    Takes train_df, val_df and model_dir as input.\n",
        "    It trained on the train_file datapoints, and validate on the val_file datapoints.\n",
        "    While training and validating, it print different evaluataion metrics and losses, whererever necessary.\n",
        "    After finishing the training, it saved the best model in the model_dir.\n",
        "\n",
        "    ADD Other arguments, if needed.\n",
        "\n",
        "    Args:\n",
        "        train_df: Train file name\n",
        "        val_df: Validation file name\n",
        "        model_dir: Model output Directory\n",
        "    \"\"\"\n",
        "\n",
        "\n",
        "\n",
        "    print('Training set has', len(train_df),'data points')\n",
        "    print('Validation set has', len(val_df),'data points')\n",
        "\n",
        "    # Create vocabulary using count vectorizer\n",
        "    count_vectorizer = CountVectorizer() # Note no pre-processing is done here. In practice you will have different preprocessing steps.\n",
        "    counts = count_vectorizer.fit_transform(train_data['text'].values)\n",
        "\n",
        "    # NB classifier\n",
        "    classifier = MultinomialNB()\n",
        "    targets = train_data['label'].values\n",
        "\n",
        "    #train the classifier\n",
        "    print('Start training')\n",
        "    classifier.fit(counts, targets)\n",
        "    print('Done training')\n",
        "\n",
        "    model_file = os.path.join(model_dir, 'model.sav')\n",
        "    pickle.dump(classifier, open(model_file, 'wb'))\n",
        "    print('Saved model to', model_file)\n",
        "\n",
        "    vocab_file = os.path.join(model_dir, 'vocab.sav')\n",
        "    pickle.dump(count_vectorizer, open(vocab_file, 'wb'))\n",
        "    print('Saved vocab to', vocab_file)\n",
        "\n",
        "    # Testing on the validation data\n",
        "    val_counts=count_vectorizer.transform(val_df['text'])\n",
        "    predictions= classifier.predict(val_counts)\n",
        "    print('Validation Done')\n",
        "    target  = val_df['label']\n",
        "\n",
        "    score=f1_score(target, predictions, average='macro')\n",
        "\n",
        "    print('macro F1 Score on Validation set', score)\n",
        "    ##########################################################################\n",
        "    #                            END OF YOUR CODE                            #\n",
        "    ##########################################################################\n",
        "    return\n",
        "\n"
      ],
      "metadata": {
        "colab": {
          "base_uri": "https://localhost:8080/"
        },
        "id": "qBU-BwQF6K8Q",
        "outputId": "edb2e77d-b0ef-45f8-fde3-c055b28e82b8"
      },
      "execution_count": 23,
      "outputs": [
        {
          "output_type": "stream",
          "name": "stderr",
          "text": [
            "[nltk_data] Downloading package punkt to /root/nltk_data...\n",
            "[nltk_data]   Package punkt is already up-to-date!\n",
            "[nltk_data] Downloading package stopwords to /root/nltk_data...\n",
            "[nltk_data]   Package stopwords is already up-to-date!\n",
            "[nltk_data] Downloading package wordnet to /root/nltk_data...\n",
            "[nltk_data]   Package wordnet is already up-to-date!\n"
          ]
        }
      ]
    },
    {
      "cell_type": "code",
      "source": [],
      "metadata": {
        "id": "nBllHnKO9qOp"
      },
      "execution_count": null,
      "outputs": []
    },
    {
      "cell_type": "code",
      "execution_count": 28,
      "metadata": {
        "colab": {
          "base_uri": "https://localhost:8080/"
        },
        "id": "ECcaDarM9qs7",
        "outputId": "e41e41c9-d20c-4320-d768-26e3ce95708f"
      },
      "outputs": [
        {
          "output_type": "stream",
          "name": "stderr",
          "text": [
            "[nltk_data] Downloading package punkt to /root/nltk_data...\n",
            "[nltk_data]   Package punkt is already up-to-date!\n",
            "[nltk_data] Downloading package stopwords to /root/nltk_data...\n",
            "[nltk_data]   Package stopwords is already up-to-date!\n",
            "[nltk_data] Downloading package wordnet to /root/nltk_data...\n",
            "[nltk_data]   Package wordnet is already up-to-date!\n"
          ]
        }
      ],
      "source": [
        "import pandas as pd\n",
        "import string\n",
        "import os\n",
        "import pickle\n",
        "from sklearn.feature_extraction.text import TfidfVectorizer\n",
        "from sklearn.decomposition import PCA\n",
        "from sklearn.cluster import KMeans\n",
        "from sklearn.metrics import confusion_matrix, f1_score, classification_report\n",
        "import matplotlib.pyplot as plt\n",
        "from nltk.corpus import stopwords\n",
        "from nltk.tokenize import word_tokenize\n",
        "from nltk.stem import WordNetLemmatizer\n",
        "import matplotlib.pyplot as plt\n",
        "import seaborn as sns\n",
        "from imblearn.over_sampling import SMOTE\n",
        "import nltk\n",
        "\n",
        "# Ensure you have the required NLTK resources\n",
        "nltk.download('punkt')\n",
        "nltk.download('stopwords')\n",
        "nltk.download('wordnet')\n",
        "\n",
        "\n",
        "\n",
        "model_dir=MODEL_Unsup_DIRECTORY\n",
        "\n",
        "def train_unsup(train_df, val_df, model_dir):\n",
        "    \"\"\"\n",
        "    Trains a text classifier using SVM on the provided training DataFrame and validates on the validation DataFrame.\n",
        "    Saves the best model and vocab in the model_dir.\n",
        "\n",
        "    Args:\n",
        "        train_df: DataFrame containing training data with 'text', 'sentiment' and 'encoded_sentiment' columns\n",
        "        val_df: DataFrame containing validation data with 'text', 'sentiment' and 'encoded_sentiment' columns\n",
        "        model_dir: Directory to save the trained model and vocabulary\n",
        "    \"\"\"\n",
        "\n",
        "    #encode the sentiments\n",
        "    train_df['sentiment_encoded'] = train_df['sentiment'].map({'negative': 0, 'positive': 1})\n",
        "    val_df['sentiment_encoded'] = val_df['sentiment'].map({'negative': 0, 'positive': 1})\n",
        "\n",
        "    # Remove rows with NaNs in both 'text' and 'label' columns\n",
        "    train_df = train_df.dropna(subset=['text', 'sentiment'])\n",
        "    val_df = val_df.dropna(subset=['text', 'sentiment'])\n",
        "\n",
        "    # Preprocess the data\n",
        "    train_df['text'] = train_df['text'].apply(preprocess_text)\n",
        "    val_df['text'] = val_df['text'].apply(preprocess_text)\n",
        "\n",
        "   # Check if preprocessed texts are empty\n",
        "    train_df = train_df[train_df['text'].str.strip() != '']\n",
        "    val_df = val_df[val_df['text'].str.strip() != '']\n",
        "\n",
        "    if train_df.empty:\n",
        "        raise ValueError(\"Training data is empty after preprocessing. Adjust preprocessing steps.\")\n",
        "\n",
        "    if val_df.empty:\n",
        "        raise ValueError(\"Validation data is empty after preprocessing. Adjust preprocessing steps.\")\n",
        "\n",
        "    print('Training set has', len(train_df), 'data points')\n",
        "    print('Validation set has', len(val_df), 'data points')\n",
        "\n",
        "    # Create vocabulary using TF-IDF vectorizer\n",
        "    tfidf_vectorizer = TfidfVectorizer()\n",
        "    counts = tfidf_vectorizer.fit_transform(train_df['text'].values)\n",
        "    targets = train_df['sentiment_encoded'].values\n",
        "    print(f\"Feature matrix shape: {counts.shape}\")\n",
        "    print(f\"Number of targets: {len(targets)}\")\n",
        "    if counts.shape[0] != len(targets):\n",
        "        raise ValueError(f\"Feature matrix has {counts.shape[0]} samples, but target has {len(targets)} samples. Check preprocessing steps.\")\n",
        "\n",
        "\n",
        "    # Apply SMOTE to balance the classes\n",
        "    smote = SMOTE(random_state=student_id)\n",
        "    counts_resampled, targets_resampled = smote.fit_resample(counts, train_df['sentiment_encoded'].values)\n",
        "\n",
        "    # Ensure SMOTE output is valid\n",
        "    print(f\"SMOTE feature matrix shape: {counts_resampled.shape}\")\n",
        "    print(f\"Number of SMOTE targets: {len(targets_resampled)}\")\n",
        "\n",
        "\n",
        "    # Apply K-Means clustering\n",
        "    kmeans = KMeans(n_clusters=2, random_state=student_id)\n",
        "    clusters = kmeans.fit_predict(counts_resampled)\n",
        "\n",
        "    # Add cluster labels to the dataframe\n",
        "    train_df['cluster'] = clusters\n",
        "\n",
        "    # Train the classifier\n",
        "    print('Start training')\n",
        "    classifier.fit(counts_resampled, targets_resampled)\n",
        "    print('Done training')\n",
        "\n",
        "    model_file = os.path.join(model_dir, 'model.sav')\n",
        "    pickle.dump(classifier, open(model_file, 'wb'))\n",
        "    print('Saved model to', model_file)\n",
        "\n",
        "    vocab_file = os.path.join(model_dir, 'vocab.sav')\n",
        "    pickle.dump(tfidf_vectorizer, open(vocab_file, 'wb'))\n",
        "    print('Saved vocab to', vocab_file)\n",
        "\n",
        "    # Plot the clusters\n",
        "    plt.figure(figsize=(10, 7))\n",
        "    plt.scatter(X_pca[:, 0], X_pca[:, 1], c=clusters, cmap='viridis', marker='o')\n",
        "    plt.title('K-Means Clusters')\n",
        "    plt.xlabel('PCA Component 1')\n",
        "    plt.ylabel('PCA Component 2')\n",
        "    plt.show()\n",
        "    # Testing on the validation data\n",
        "    #val_counts = tfidf_vectorizer.transform(val_df['text'])\n",
        "    #predictions = classifier.predict(val_counts)\n",
        "    #print('Validation Done')\n",
        "    #target = val_df['sentiment_encoded']\n",
        "\n",
        "    #score = f1_score(target, predictions, average='macro')\n",
        "\n",
        "    #print('Macro F1 Score on Validation set:', score)\n",
        "\n",
        "    return\n"
      ]
    },
    {
      "cell_type": "code",
      "source": [
        "train_unsup(train_df, val_df, model_dir)"
      ],
      "metadata": {
        "colab": {
          "base_uri": "https://localhost:8080/",
          "height": 932
        },
        "id": "SipDN6QL8cn1",
        "outputId": "58f337fb-ca2b-4564-be2d-5e1d410f7fe7"
      },
      "execution_count": 29,
      "outputs": [
        {
          "output_type": "stream",
          "name": "stdout",
          "text": [
            "Training set has 3666 data points\n",
            "Validation set has 454 data points\n",
            "Feature matrix shape: (3666, 8257)\n",
            "Number of targets: 3666\n",
            "SMOTE feature matrix shape: (6034, 8257)\n",
            "Number of SMOTE targets: 6034\n"
          ]
        },
        {
          "output_type": "stream",
          "name": "stderr",
          "text": [
            "/usr/local/lib/python3.10/dist-packages/sklearn/cluster/_kmeans.py:1416: FutureWarning: The default value of `n_init` will change from 10 to 'auto' in 1.4. Set the value of `n_init` explicitly to suppress the warning\n",
            "  super()._check_params_vs_input(X, default_n_init=10)\n"
          ]
        },
        {
          "output_type": "error",
          "ename": "ValueError",
          "evalue": "Length of values (6034) does not match length of index (3666)",
          "traceback": [
            "\u001b[0;31m---------------------------------------------------------------------------\u001b[0m",
            "\u001b[0;31mValueError\u001b[0m                                Traceback (most recent call last)",
            "\u001b[0;32m<ipython-input-29-767bec2f4712>\u001b[0m in \u001b[0;36m<cell line: 1>\u001b[0;34m()\u001b[0m\n\u001b[0;32m----> 1\u001b[0;31m \u001b[0mtrain_unsup\u001b[0m\u001b[0;34m(\u001b[0m\u001b[0mtrain_df\u001b[0m\u001b[0;34m,\u001b[0m \u001b[0mval_df\u001b[0m\u001b[0;34m,\u001b[0m \u001b[0mmodel_dir\u001b[0m\u001b[0;34m)\u001b[0m\u001b[0;34m\u001b[0m\u001b[0;34m\u001b[0m\u001b[0m\n\u001b[0m",
            "\u001b[0;32m<ipython-input-28-0f7bfd3ab90d>\u001b[0m in \u001b[0;36mtrain_unsup\u001b[0;34m(train_df, val_df, model_dir)\u001b[0m\n\u001b[1;32m     85\u001b[0m \u001b[0;34m\u001b[0m\u001b[0m\n\u001b[1;32m     86\u001b[0m     \u001b[0;31m# Add cluster labels to the dataframe\u001b[0m\u001b[0;34m\u001b[0m\u001b[0;34m\u001b[0m\u001b[0m\n\u001b[0;32m---> 87\u001b[0;31m     \u001b[0mtrain_df\u001b[0m\u001b[0;34m[\u001b[0m\u001b[0;34m'cluster'\u001b[0m\u001b[0;34m]\u001b[0m \u001b[0;34m=\u001b[0m \u001b[0mclusters\u001b[0m\u001b[0;34m\u001b[0m\u001b[0;34m\u001b[0m\u001b[0m\n\u001b[0m\u001b[1;32m     88\u001b[0m \u001b[0;34m\u001b[0m\u001b[0m\n\u001b[1;32m     89\u001b[0m     \u001b[0;31m# Train the classifier\u001b[0m\u001b[0;34m\u001b[0m\u001b[0;34m\u001b[0m\u001b[0m\n",
            "\u001b[0;32m/usr/local/lib/python3.10/dist-packages/pandas/core/frame.py\u001b[0m in \u001b[0;36m__setitem__\u001b[0;34m(self, key, value)\u001b[0m\n\u001b[1;32m   4089\u001b[0m         \u001b[0;32melse\u001b[0m\u001b[0;34m:\u001b[0m\u001b[0;34m\u001b[0m\u001b[0;34m\u001b[0m\u001b[0m\n\u001b[1;32m   4090\u001b[0m             \u001b[0;31m# set column\u001b[0m\u001b[0;34m\u001b[0m\u001b[0;34m\u001b[0m\u001b[0m\n\u001b[0;32m-> 4091\u001b[0;31m             \u001b[0mself\u001b[0m\u001b[0;34m.\u001b[0m\u001b[0m_set_item\u001b[0m\u001b[0;34m(\u001b[0m\u001b[0mkey\u001b[0m\u001b[0;34m,\u001b[0m \u001b[0mvalue\u001b[0m\u001b[0;34m)\u001b[0m\u001b[0;34m\u001b[0m\u001b[0;34m\u001b[0m\u001b[0m\n\u001b[0m\u001b[1;32m   4092\u001b[0m \u001b[0;34m\u001b[0m\u001b[0m\n\u001b[1;32m   4093\u001b[0m     \u001b[0;32mdef\u001b[0m \u001b[0m_setitem_slice\u001b[0m\u001b[0;34m(\u001b[0m\u001b[0mself\u001b[0m\u001b[0;34m,\u001b[0m \u001b[0mkey\u001b[0m\u001b[0;34m:\u001b[0m \u001b[0mslice\u001b[0m\u001b[0;34m,\u001b[0m \u001b[0mvalue\u001b[0m\u001b[0;34m)\u001b[0m \u001b[0;34m->\u001b[0m \u001b[0;32mNone\u001b[0m\u001b[0;34m:\u001b[0m\u001b[0;34m\u001b[0m\u001b[0;34m\u001b[0m\u001b[0m\n",
            "\u001b[0;32m/usr/local/lib/python3.10/dist-packages/pandas/core/frame.py\u001b[0m in \u001b[0;36m_set_item\u001b[0;34m(self, key, value)\u001b[0m\n\u001b[1;32m   4298\u001b[0m         \u001b[0mensure\u001b[0m \u001b[0mhomogeneity\u001b[0m\u001b[0;34m.\u001b[0m\u001b[0;34m\u001b[0m\u001b[0;34m\u001b[0m\u001b[0m\n\u001b[1;32m   4299\u001b[0m         \"\"\"\n\u001b[0;32m-> 4300\u001b[0;31m         \u001b[0mvalue\u001b[0m\u001b[0;34m,\u001b[0m \u001b[0mrefs\u001b[0m \u001b[0;34m=\u001b[0m \u001b[0mself\u001b[0m\u001b[0;34m.\u001b[0m\u001b[0m_sanitize_column\u001b[0m\u001b[0;34m(\u001b[0m\u001b[0mvalue\u001b[0m\u001b[0;34m)\u001b[0m\u001b[0;34m\u001b[0m\u001b[0;34m\u001b[0m\u001b[0m\n\u001b[0m\u001b[1;32m   4301\u001b[0m \u001b[0;34m\u001b[0m\u001b[0m\n\u001b[1;32m   4302\u001b[0m         if (\n",
            "\u001b[0;32m/usr/local/lib/python3.10/dist-packages/pandas/core/frame.py\u001b[0m in \u001b[0;36m_sanitize_column\u001b[0;34m(self, value)\u001b[0m\n\u001b[1;32m   5037\u001b[0m \u001b[0;34m\u001b[0m\u001b[0m\n\u001b[1;32m   5038\u001b[0m         \u001b[0;32mif\u001b[0m \u001b[0mis_list_like\u001b[0m\u001b[0;34m(\u001b[0m\u001b[0mvalue\u001b[0m\u001b[0;34m)\u001b[0m\u001b[0;34m:\u001b[0m\u001b[0;34m\u001b[0m\u001b[0;34m\u001b[0m\u001b[0m\n\u001b[0;32m-> 5039\u001b[0;31m             \u001b[0mcom\u001b[0m\u001b[0;34m.\u001b[0m\u001b[0mrequire_length_match\u001b[0m\u001b[0;34m(\u001b[0m\u001b[0mvalue\u001b[0m\u001b[0;34m,\u001b[0m \u001b[0mself\u001b[0m\u001b[0;34m.\u001b[0m\u001b[0mindex\u001b[0m\u001b[0;34m)\u001b[0m\u001b[0;34m\u001b[0m\u001b[0;34m\u001b[0m\u001b[0m\n\u001b[0m\u001b[1;32m   5040\u001b[0m         \u001b[0;32mreturn\u001b[0m \u001b[0msanitize_array\u001b[0m\u001b[0;34m(\u001b[0m\u001b[0mvalue\u001b[0m\u001b[0;34m,\u001b[0m \u001b[0mself\u001b[0m\u001b[0;34m.\u001b[0m\u001b[0mindex\u001b[0m\u001b[0;34m,\u001b[0m \u001b[0mcopy\u001b[0m\u001b[0;34m=\u001b[0m\u001b[0;32mTrue\u001b[0m\u001b[0;34m,\u001b[0m \u001b[0mallow_2d\u001b[0m\u001b[0;34m=\u001b[0m\u001b[0;32mTrue\u001b[0m\u001b[0;34m)\u001b[0m\u001b[0;34m,\u001b[0m \u001b[0;32mNone\u001b[0m\u001b[0;34m\u001b[0m\u001b[0;34m\u001b[0m\u001b[0m\n\u001b[1;32m   5041\u001b[0m \u001b[0;34m\u001b[0m\u001b[0m\n",
            "\u001b[0;32m/usr/local/lib/python3.10/dist-packages/pandas/core/common.py\u001b[0m in \u001b[0;36mrequire_length_match\u001b[0;34m(data, index)\u001b[0m\n\u001b[1;32m    559\u001b[0m     \"\"\"\n\u001b[1;32m    560\u001b[0m     \u001b[0;32mif\u001b[0m \u001b[0mlen\u001b[0m\u001b[0;34m(\u001b[0m\u001b[0mdata\u001b[0m\u001b[0;34m)\u001b[0m \u001b[0;34m!=\u001b[0m \u001b[0mlen\u001b[0m\u001b[0;34m(\u001b[0m\u001b[0mindex\u001b[0m\u001b[0;34m)\u001b[0m\u001b[0;34m:\u001b[0m\u001b[0;34m\u001b[0m\u001b[0;34m\u001b[0m\u001b[0m\n\u001b[0;32m--> 561\u001b[0;31m         raise ValueError(\n\u001b[0m\u001b[1;32m    562\u001b[0m             \u001b[0;34m\"Length of values \"\u001b[0m\u001b[0;34m\u001b[0m\u001b[0;34m\u001b[0m\u001b[0m\n\u001b[1;32m    563\u001b[0m             \u001b[0;34mf\"({len(data)}) \"\u001b[0m\u001b[0;34m\u001b[0m\u001b[0;34m\u001b[0m\u001b[0m\n",
            "\u001b[0;31mValueError\u001b[0m: Length of values (6034) does not match length of index (3666)"
          ]
        }
      ]
    },
    {
      "cell_type": "markdown",
      "source": [
        "Let's train K-Means clustering model with tfidf vectorizer, SVD for"
      ],
      "metadata": {
        "id": "u3AiGFr0F5hY"
      }
    },
    {
      "cell_type": "code",
      "source": [
        "import numpy as np\n",
        "import pandas as pd\n",
        "from sklearn.feature_extraction.text import TfidfVectorizer\n",
        "from sklearn.decomposition import TruncatedSVD\n",
        "from sklearn.cluster import KMeans\n",
        "from vaderSentiment.vaderSentiment import SentimentIntensityAnalyzer\n",
        "from scipy.stats import mode\n",
        "from sklearn.metrics import adjusted_rand_score, adjusted_mutual_info_score\n",
        "import pickle\n",
        "from scipy.stats import mode\n",
        "\n",
        "def train_unsup(train_df, model_dir, n_clusters=2, n_components=1000, n_runs=10):\n",
        "    \"\"\"\n",
        "    Perform unsupervised sentiment analysis using K-means clustering.\n",
        "\n",
        "    Parameters:\n",
        "    train_data (pd.DataFrame): Training data with 'text' column\n",
        "    n_clusters (int): Number of clusters for K-means\n",
        "    n_components (int): Number of components for dimensionality reduction\n",
        "    n_runs (int): Number of runs for ensemble clustering\n",
        "\n",
        "    Returns:\n",
        "    dict: Dictionary containing model, vectorizer, and clustering results\n",
        "    \"\"\"\n",
        "    studnet_id=2323017\n",
        "\n",
        "    #apply pre-processing step to the data\n",
        "    train_df['text'] = train_df['text'].apply(preprocess_text)\n",
        "\n",
        "    # Feature Extraction\n",
        "    vectorizer = TfidfVectorizer(max_features=1000)\n",
        "    X_train = vectorizer.fit_transform(train_df['text'])\n",
        "\n",
        "    # Dimensionality Reduction\n",
        "    svd = TruncatedSVD(n_components=n_components, random_state=student_id)\n",
        "    X_train_reduced = svd.fit_transform(X_train)\n",
        "\n",
        "    # Sentiment Lexicon Integration\n",
        "    sid = SentimentIntensityAnalyzer()\n",
        "    sentiment_scores = np.array([sid.polarity_scores(text)['compound'] for text in train_df['text']])\n",
        "    X_train_weighted = X_train_reduced * sentiment_scores[:, np.newaxis]\n",
        "\n",
        "    # Ensemble Clustering\n",
        "    def ensemble_kmeans(X, n_clusters, n_runs):\n",
        "        results = []\n",
        "        for _ in range(n_runs):\n",
        "            kmeans = KMeans(n_clusters=n_clusters, n_init=10, random_state=student_id)\n",
        "            results.append(kmeans.fit_predict(X))\n",
        "        return mode(results, axis=0).mode[0]\n",
        "\n",
        "    final_clusters = ensemble_kmeans(X_train_weighted, n_clusters, n_runs)\n",
        "\n",
        "    # Train final model\n",
        "    final_model = KMeans(n_clusters=n_clusters, n_init=10, random_state=student_id)\n",
        "    final_model.fit(X_train_weighted)\n",
        "\n",
        "    # Analyze cluster centroids\n",
        "    def get_top_features_cluster(tf_idf_array, prediction, n_feats):\n",
        "        labels = np.unique(prediction)\n",
        "        dfs = []\n",
        "        for label in labels:\n",
        "            id_temp = np.where(prediction==label)\n",
        "            x_means = np.mean(tf_idf_array[id_temp], axis = 0)\n",
        "            sorted_means = np.argsort(x_means)[::-1][:n_feats]\n",
        "            features = vectorizer.get_feature_names_out()\n",
        "            best_features = [(features[i], x_means[i]) for i in sorted_means]\n",
        "            df = pd.DataFrame(best_features, columns = ['features', 'score'])\n",
        "            dfs.append(df)\n",
        "        return dfs\n",
        "\n",
        "    cluster_features = get_top_features_cluster(X_train.toarray(), final_clusters, 10)\n",
        "\n",
        "    results = {\n",
        "        'model': final_model,\n",
        "        'vectorizer': vectorizer,\n",
        "        'svd': svd,\n",
        "        'clusters': final_clusters,\n",
        "        'cluster_features': cluster_features\n",
        "    }\n",
        "\n",
        "     # Save model and vectorizer\n",
        "    model_file = os.path.join(model_dir, 'model.sav')\n",
        "    pickle.dump(final_model, open(model_file, 'wb'))\n",
        "    print('Saved model to', model_file)\n",
        "\n",
        "    vocab_file = os.path.join(model_dir, 'vocab.sav')\n",
        "    pickle.dump(vectorizer, open(vocab_file, 'wb'))\n",
        "    print('Saved vocab to', vocab_file)\n",
        "\n",
        "    # Save SVD object\n",
        "    svd_file = os.path.join(model_dir, 'svd.sav')\n",
        "    pickle.dump(svd, open(svd_file, 'wb'))\n",
        "    print('Saved SVD to', svd_file)\n",
        "\n",
        "    return results\n",
        "\n"
      ],
      "metadata": {
        "id": "ICKscznUDRK7"
      },
      "execution_count": 30,
      "outputs": []
    },
    {
      "cell_type": "code",
      "source": [
        "train_unsup(train_df=train_df, model_dir=model_dir, n_clusters=2, n_components=1000, n_runs=10)"
      ],
      "metadata": {
        "colab": {
          "base_uri": "https://localhost:8080/"
        },
        "id": "ZyuKqVlmGe8c",
        "outputId": "f3db56e6-ecbb-4543-c00e-af5986b43d93"
      },
      "execution_count": 31,
      "outputs": [
        {
          "output_type": "stream",
          "name": "stderr",
          "text": [
            "<ipython-input-30-49af5b8623c9>:62: DeprecationWarning: Calling nonzero on 0d arrays is deprecated, as it behaves surprisingly. Use `atleast_1d(cond).nonzero()` if the old behavior was intended. If the context of this warning is of the form `arr[nonzero(cond)]`, just use `arr[cond]`.\n",
            "  id_temp = np.where(prediction==label)\n"
          ]
        },
        {
          "output_type": "stream",
          "name": "stdout",
          "text": [
            "Saved model to /content/gdrive/MyDrive/CE807-24-SU/Assignment_StudentID_2323017/model/model_unsup/model.sav\n",
            "Saved vocab to /content/gdrive/MyDrive/CE807-24-SU/Assignment_StudentID_2323017/model/model_unsup/vocab.sav\n",
            "Saved SVD to /content/gdrive/MyDrive/CE807-24-SU/Assignment_StudentID_2323017/model/model_unsup/svd.sav\n"
          ]
        },
        {
          "output_type": "execute_result",
          "data": {
            "text/plain": [
              "{'model': KMeans(n_clusters=2, n_init=10, random_state=2323017),\n",
              " 'vectorizer': TfidfVectorizer(max_features=1000),\n",
              " 'svd': TruncatedSVD(n_components=1000, random_state=2323017),\n",
              " 'clusters': 0,\n",
              " 'cluster_features': [  features     score\n",
              "  0     work  0.728290\n",
              "  1    great  0.685269\n",
              "  2  youtube  0.000000\n",
              "  3    frame  0.000000\n",
              "  4   follow  0.000000\n",
              "  5     foot  0.000000\n",
              "  6     ford  0.000000\n",
              "  7    found  0.000000\n",
              "  8     four  0.000000\n",
              "  9     free  0.000000]}"
            ]
          },
          "metadata": {},
          "execution_count": 31
        }
      ]
    },
    {
      "cell_type": "code",
      "source": [
        "def model_eval(val_df, model_dir):\n",
        "    \"\"\"\n",
        "    Evaluate the model on validation or test data.\n",
        "\n",
        "    Parameters:\n",
        "    data (pd.DataFrame): Data with 'text' and 'label' columns\n",
        "    model_dir (str): Directory where model and vectorizer are saved\n",
        "\n",
        "    Returns:\n",
        "    dict: Dictionary containing evaluation metrics and cluster interpretations\n",
        "    \"\"\"\n",
        "    #preroces val_df\n",
        "    val_df['text'] = val_df['text'].apply(preprocess_text)\n",
        "    # Load saved model, vectorizer, and SVD\n",
        "    model_file = os.path.join(model_dir, 'model.sav')\n",
        "    vocab_file = os.path.join(model_dir, 'vocab.sav')\n",
        "    svd_file = os.path.join(model_dir, 'svd.sav')\n",
        "\n",
        "    model = pickle.load(open(model_file, 'rb'))\n",
        "    vectorizer = pickle.load(open(vocab_file, 'rb'))\n",
        "    svd = pickle.load(open(svd_file, 'rb'))\n",
        "\n",
        "    X = vectorizer.transform(val_df['text'])\n",
        "    X_reduced = svd.transform(X)\n",
        "\n",
        "    sid = SentimentIntensityAnalyzer()\n",
        "    sentiment_scores = np.array([sid.polarity_scores(text)['compound'] for text in val_df['text']])\n",
        "    X_weighted = X_reduced * sentiment_scores[:, np.newaxis]\n",
        "\n",
        "    predicted_clusters = model.predict(X_weighted)\n",
        "\n",
        "    true_labels = val_df['sentiment_encoded']\n",
        "    ari = adjusted_rand_score(true_labels, predicted_clusters)\n",
        "    ami = adjusted_mutual_info_score(true_labels, predicted_clusters)\n",
        "\n",
        "    # Interpret Clusters\n",
        "    cluster_sentiments = []\n",
        "    for cluster in range(model.n_clusters):\n",
        "        cluster_docs = val_df[predicted_clusters == cluster]\n",
        "        sentiment_dist = cluster_docs['sentiment_encoded'].value_counts(normalize=True)\n",
        "        cluster_sentiments.append(sentiment_dist)\n",
        "\n",
        "    eval_results = {\n",
        "        'predicted_clusters': predicted_clusters,\n",
        "        'ari': ari,\n",
        "        'ami': ami,\n",
        "        'cluster_sentiments': cluster_sentiments\n",
        "    }\n",
        "\n",
        "    return eval_results\n",
        "\n"
      ],
      "metadata": {
        "id": "izLVNst6Ft4n"
      },
      "execution_count": 32,
      "outputs": []
    },
    {
      "cell_type": "code",
      "source": [
        "model_eval(val_df, model_dir)"
      ],
      "metadata": {
        "colab": {
          "base_uri": "https://localhost:8080/"
        },
        "id": "foXvx8ZcKpAB",
        "outputId": "d117f560-dd87-4674-8047-8bc3ef2e53d6"
      },
      "execution_count": 33,
      "outputs": [
        {
          "output_type": "execute_result",
          "data": {
            "text/plain": [
              "{'predicted_clusters': array([1, 1, 1, 1, 0, 0, 1, 1, 1, 1, 0, 0, 1, 1, 1, 1, 1, 1, 1, 1, 1, 1,\n",
              "        1, 1, 1, 1, 1, 1, 1, 1, 1, 1, 1, 1, 1, 0, 1, 1, 1, 1, 1, 1, 1, 1,\n",
              "        1, 0, 1, 1, 1, 1, 1, 1, 1, 1, 0, 1, 1, 1, 1, 0, 1, 1, 1, 1, 1, 1,\n",
              "        1, 1, 1, 1, 1, 1, 1, 1, 1, 1, 1, 1, 1, 0, 1, 0, 1, 1, 1, 1, 0, 1,\n",
              "        1, 1, 1, 1, 0, 0, 1, 1, 1, 1, 1, 0, 1, 1, 1, 1, 1, 1, 1, 1, 0, 1,\n",
              "        1, 1, 1, 1, 1, 1, 1, 1, 1, 0, 1, 0, 1, 1, 0, 1, 1, 1, 1, 1, 1, 1,\n",
              "        1, 1, 1, 0, 1, 0, 1, 1, 1, 0, 1, 1, 1, 1, 1, 1, 0, 1, 1, 1, 1, 1,\n",
              "        1, 1, 1, 1, 1, 1, 1, 1, 1, 1, 1, 1, 1, 0, 1, 1, 1, 1, 1, 1, 1, 1,\n",
              "        1, 1, 1, 1, 1, 1, 0, 1, 1, 1, 1, 0, 1, 1, 0, 1, 1, 0, 1, 1, 1, 1,\n",
              "        1, 1, 1, 1, 1, 1, 1, 1, 1, 1, 0, 0, 1, 1, 1, 1, 1, 1, 1, 1, 1, 0,\n",
              "        1, 1, 1, 1, 1, 1, 1, 1, 1, 1, 1, 1, 1, 1, 1, 1, 1, 1, 1, 1, 0, 1,\n",
              "        1, 1, 1, 1, 1, 1, 1, 1, 0, 1, 1, 1, 1, 1, 1, 1, 1, 1, 1, 1, 1, 1,\n",
              "        1, 1, 1, 1, 0, 0, 1, 1, 1, 1, 1, 1, 1, 1, 1, 0, 1, 1, 1, 1, 1, 1,\n",
              "        1, 1, 0, 1, 1, 1, 1, 1, 1, 1, 1, 1, 1, 0, 1, 1, 1, 1, 1, 1, 1, 1,\n",
              "        1, 1, 1, 1, 0, 1, 1, 1, 1, 1, 1, 1, 1, 1, 1, 1, 1, 1, 1, 1, 1, 1,\n",
              "        1, 1, 1, 1, 1, 1, 1, 0, 1, 1, 0, 1, 1, 1, 1, 1, 1, 1, 0, 1, 1, 1,\n",
              "        1, 1, 1, 1, 1, 1, 1, 1, 1, 1, 0, 1, 1, 1, 1, 1, 1, 1, 1, 1, 1, 1,\n",
              "        1, 1, 1, 1, 1, 0, 1, 1, 1, 1, 1, 1, 1, 1, 1, 1, 1, 1, 1, 1, 1, 1,\n",
              "        1, 1, 1, 1, 1, 1, 1, 1, 1, 1, 1, 1, 1, 1, 1, 1, 0, 1, 0, 1, 0, 0,\n",
              "        1, 1, 1, 1, 1, 1, 1, 1, 0, 1, 1, 1, 0, 1, 1, 1, 1, 1, 0, 1, 1, 1,\n",
              "        1, 0, 1, 1, 1, 1, 1, 1, 1, 1, 1, 1, 1, 1], dtype=int32),\n",
              " 'ari': -0.07832013949260984,\n",
              " 'ami': 0.02394829918359238,\n",
              " 'cluster_sentiments': [sentiment_encoded\n",
              "  1    0.960784\n",
              "  0    0.039216\n",
              "  Name: proportion, dtype: float64,\n",
              "  sentiment_encoded\n",
              "  1    0.806452\n",
              "  0    0.193548\n",
              "  Name: proportion, dtype: float64]}"
            ]
          },
          "metadata": {},
          "execution_count": 33
        }
      ]
    }
  ],
  "metadata": {
    "colab": {
      "provenance": [],
      "include_colab_link": true
    },
    "kernelspec": {
      "display_name": "Python 3",
      "name": "python3"
    },
    "language_info": {
      "name": "python"
    },
    "widgets": {
      "application/vnd.jupyter.widget-state+json": {
        "8b13aa3ed1c84d33bd947a16f75ff6e2": {
          "model_module": "@jupyter-widgets/controls",
          "model_name": "HBoxModel",
          "model_module_version": "1.5.0",
          "state": {
            "_dom_classes": [],
            "_model_module": "@jupyter-widgets/controls",
            "_model_module_version": "1.5.0",
            "_model_name": "HBoxModel",
            "_view_count": null,
            "_view_module": "@jupyter-widgets/controls",
            "_view_module_version": "1.5.0",
            "_view_name": "HBoxView",
            "box_style": "",
            "children": [
              "IPY_MODEL_09f23259cd064414ac59ab1b9146d312",
              "IPY_MODEL_fb7cec0c9adb4d33ad81aac447072d5e",
              "IPY_MODEL_0d462f1e97854fbf81d84cc73b597000"
            ],
            "layout": "IPY_MODEL_30d638179d164620a7e1fd4375f06238"
          }
        },
        "09f23259cd064414ac59ab1b9146d312": {
          "model_module": "@jupyter-widgets/controls",
          "model_name": "HTMLModel",
          "model_module_version": "1.5.0",
          "state": {
            "_dom_classes": [],
            "_model_module": "@jupyter-widgets/controls",
            "_model_module_version": "1.5.0",
            "_model_name": "HTMLModel",
            "_view_count": null,
            "_view_module": "@jupyter-widgets/controls",
            "_view_module_version": "1.5.0",
            "_view_name": "HTMLView",
            "description": "",
            "description_tooltip": null,
            "layout": "IPY_MODEL_0a196cdcd1bf4dbeb970c529cd5ac930",
            "placeholder": "​",
            "style": "IPY_MODEL_b7004afe00da4d4abd76b71faa1390fa",
            "value": "tokenizer_config.json: 100%"
          }
        },
        "fb7cec0c9adb4d33ad81aac447072d5e": {
          "model_module": "@jupyter-widgets/controls",
          "model_name": "FloatProgressModel",
          "model_module_version": "1.5.0",
          "state": {
            "_dom_classes": [],
            "_model_module": "@jupyter-widgets/controls",
            "_model_module_version": "1.5.0",
            "_model_name": "FloatProgressModel",
            "_view_count": null,
            "_view_module": "@jupyter-widgets/controls",
            "_view_module_version": "1.5.0",
            "_view_name": "ProgressView",
            "bar_style": "success",
            "description": "",
            "description_tooltip": null,
            "layout": "IPY_MODEL_ba5955e57b7a44948d928b67dc991d23",
            "max": 48,
            "min": 0,
            "orientation": "horizontal",
            "style": "IPY_MODEL_2c739a6800d84590865cd68079314566",
            "value": 48
          }
        },
        "0d462f1e97854fbf81d84cc73b597000": {
          "model_module": "@jupyter-widgets/controls",
          "model_name": "HTMLModel",
          "model_module_version": "1.5.0",
          "state": {
            "_dom_classes": [],
            "_model_module": "@jupyter-widgets/controls",
            "_model_module_version": "1.5.0",
            "_model_name": "HTMLModel",
            "_view_count": null,
            "_view_module": "@jupyter-widgets/controls",
            "_view_module_version": "1.5.0",
            "_view_name": "HTMLView",
            "description": "",
            "description_tooltip": null,
            "layout": "IPY_MODEL_a3ec6b69d67c4b4f8e8b5c2ac649066f",
            "placeholder": "​",
            "style": "IPY_MODEL_59e29e9e60034c2cbf45066edd434a0b",
            "value": " 48.0/48.0 [00:00&lt;00:00, 580B/s]"
          }
        },
        "30d638179d164620a7e1fd4375f06238": {
          "model_module": "@jupyter-widgets/base",
          "model_name": "LayoutModel",
          "model_module_version": "1.2.0",
          "state": {
            "_model_module": "@jupyter-widgets/base",
            "_model_module_version": "1.2.0",
            "_model_name": "LayoutModel",
            "_view_count": null,
            "_view_module": "@jupyter-widgets/base",
            "_view_module_version": "1.2.0",
            "_view_name": "LayoutView",
            "align_content": null,
            "align_items": null,
            "align_self": null,
            "border": null,
            "bottom": null,
            "display": null,
            "flex": null,
            "flex_flow": null,
            "grid_area": null,
            "grid_auto_columns": null,
            "grid_auto_flow": null,
            "grid_auto_rows": null,
            "grid_column": null,
            "grid_gap": null,
            "grid_row": null,
            "grid_template_areas": null,
            "grid_template_columns": null,
            "grid_template_rows": null,
            "height": null,
            "justify_content": null,
            "justify_items": null,
            "left": null,
            "margin": null,
            "max_height": null,
            "max_width": null,
            "min_height": null,
            "min_width": null,
            "object_fit": null,
            "object_position": null,
            "order": null,
            "overflow": null,
            "overflow_x": null,
            "overflow_y": null,
            "padding": null,
            "right": null,
            "top": null,
            "visibility": null,
            "width": null
          }
        },
        "0a196cdcd1bf4dbeb970c529cd5ac930": {
          "model_module": "@jupyter-widgets/base",
          "model_name": "LayoutModel",
          "model_module_version": "1.2.0",
          "state": {
            "_model_module": "@jupyter-widgets/base",
            "_model_module_version": "1.2.0",
            "_model_name": "LayoutModel",
            "_view_count": null,
            "_view_module": "@jupyter-widgets/base",
            "_view_module_version": "1.2.0",
            "_view_name": "LayoutView",
            "align_content": null,
            "align_items": null,
            "align_self": null,
            "border": null,
            "bottom": null,
            "display": null,
            "flex": null,
            "flex_flow": null,
            "grid_area": null,
            "grid_auto_columns": null,
            "grid_auto_flow": null,
            "grid_auto_rows": null,
            "grid_column": null,
            "grid_gap": null,
            "grid_row": null,
            "grid_template_areas": null,
            "grid_template_columns": null,
            "grid_template_rows": null,
            "height": null,
            "justify_content": null,
            "justify_items": null,
            "left": null,
            "margin": null,
            "max_height": null,
            "max_width": null,
            "min_height": null,
            "min_width": null,
            "object_fit": null,
            "object_position": null,
            "order": null,
            "overflow": null,
            "overflow_x": null,
            "overflow_y": null,
            "padding": null,
            "right": null,
            "top": null,
            "visibility": null,
            "width": null
          }
        },
        "b7004afe00da4d4abd76b71faa1390fa": {
          "model_module": "@jupyter-widgets/controls",
          "model_name": "DescriptionStyleModel",
          "model_module_version": "1.5.0",
          "state": {
            "_model_module": "@jupyter-widgets/controls",
            "_model_module_version": "1.5.0",
            "_model_name": "DescriptionStyleModel",
            "_view_count": null,
            "_view_module": "@jupyter-widgets/base",
            "_view_module_version": "1.2.0",
            "_view_name": "StyleView",
            "description_width": ""
          }
        },
        "ba5955e57b7a44948d928b67dc991d23": {
          "model_module": "@jupyter-widgets/base",
          "model_name": "LayoutModel",
          "model_module_version": "1.2.0",
          "state": {
            "_model_module": "@jupyter-widgets/base",
            "_model_module_version": "1.2.0",
            "_model_name": "LayoutModel",
            "_view_count": null,
            "_view_module": "@jupyter-widgets/base",
            "_view_module_version": "1.2.0",
            "_view_name": "LayoutView",
            "align_content": null,
            "align_items": null,
            "align_self": null,
            "border": null,
            "bottom": null,
            "display": null,
            "flex": null,
            "flex_flow": null,
            "grid_area": null,
            "grid_auto_columns": null,
            "grid_auto_flow": null,
            "grid_auto_rows": null,
            "grid_column": null,
            "grid_gap": null,
            "grid_row": null,
            "grid_template_areas": null,
            "grid_template_columns": null,
            "grid_template_rows": null,
            "height": null,
            "justify_content": null,
            "justify_items": null,
            "left": null,
            "margin": null,
            "max_height": null,
            "max_width": null,
            "min_height": null,
            "min_width": null,
            "object_fit": null,
            "object_position": null,
            "order": null,
            "overflow": null,
            "overflow_x": null,
            "overflow_y": null,
            "padding": null,
            "right": null,
            "top": null,
            "visibility": null,
            "width": null
          }
        },
        "2c739a6800d84590865cd68079314566": {
          "model_module": "@jupyter-widgets/controls",
          "model_name": "ProgressStyleModel",
          "model_module_version": "1.5.0",
          "state": {
            "_model_module": "@jupyter-widgets/controls",
            "_model_module_version": "1.5.0",
            "_model_name": "ProgressStyleModel",
            "_view_count": null,
            "_view_module": "@jupyter-widgets/base",
            "_view_module_version": "1.2.0",
            "_view_name": "StyleView",
            "bar_color": null,
            "description_width": ""
          }
        },
        "a3ec6b69d67c4b4f8e8b5c2ac649066f": {
          "model_module": "@jupyter-widgets/base",
          "model_name": "LayoutModel",
          "model_module_version": "1.2.0",
          "state": {
            "_model_module": "@jupyter-widgets/base",
            "_model_module_version": "1.2.0",
            "_model_name": "LayoutModel",
            "_view_count": null,
            "_view_module": "@jupyter-widgets/base",
            "_view_module_version": "1.2.0",
            "_view_name": "LayoutView",
            "align_content": null,
            "align_items": null,
            "align_self": null,
            "border": null,
            "bottom": null,
            "display": null,
            "flex": null,
            "flex_flow": null,
            "grid_area": null,
            "grid_auto_columns": null,
            "grid_auto_flow": null,
            "grid_auto_rows": null,
            "grid_column": null,
            "grid_gap": null,
            "grid_row": null,
            "grid_template_areas": null,
            "grid_template_columns": null,
            "grid_template_rows": null,
            "height": null,
            "justify_content": null,
            "justify_items": null,
            "left": null,
            "margin": null,
            "max_height": null,
            "max_width": null,
            "min_height": null,
            "min_width": null,
            "object_fit": null,
            "object_position": null,
            "order": null,
            "overflow": null,
            "overflow_x": null,
            "overflow_y": null,
            "padding": null,
            "right": null,
            "top": null,
            "visibility": null,
            "width": null
          }
        },
        "59e29e9e60034c2cbf45066edd434a0b": {
          "model_module": "@jupyter-widgets/controls",
          "model_name": "DescriptionStyleModel",
          "model_module_version": "1.5.0",
          "state": {
            "_model_module": "@jupyter-widgets/controls",
            "_model_module_version": "1.5.0",
            "_model_name": "DescriptionStyleModel",
            "_view_count": null,
            "_view_module": "@jupyter-widgets/base",
            "_view_module_version": "1.2.0",
            "_view_name": "StyleView",
            "description_width": ""
          }
        },
        "ae9b400f1d4c4fb2a0e1032a35a5802e": {
          "model_module": "@jupyter-widgets/controls",
          "model_name": "HBoxModel",
          "model_module_version": "1.5.0",
          "state": {
            "_dom_classes": [],
            "_model_module": "@jupyter-widgets/controls",
            "_model_module_version": "1.5.0",
            "_model_name": "HBoxModel",
            "_view_count": null,
            "_view_module": "@jupyter-widgets/controls",
            "_view_module_version": "1.5.0",
            "_view_name": "HBoxView",
            "box_style": "",
            "children": [
              "IPY_MODEL_ee5fabc60c3d40ec8937f74b69526114",
              "IPY_MODEL_b204fe70d15e4694ab124281f56225ee",
              "IPY_MODEL_37431b7768f640c2b1d5bb9814f99f63"
            ],
            "layout": "IPY_MODEL_f065a28953234dce8881f5ac751596cf"
          }
        },
        "ee5fabc60c3d40ec8937f74b69526114": {
          "model_module": "@jupyter-widgets/controls",
          "model_name": "HTMLModel",
          "model_module_version": "1.5.0",
          "state": {
            "_dom_classes": [],
            "_model_module": "@jupyter-widgets/controls",
            "_model_module_version": "1.5.0",
            "_model_name": "HTMLModel",
            "_view_count": null,
            "_view_module": "@jupyter-widgets/controls",
            "_view_module_version": "1.5.0",
            "_view_name": "HTMLView",
            "description": "",
            "description_tooltip": null,
            "layout": "IPY_MODEL_851e4ef2db32494a95688aec7e3bd16b",
            "placeholder": "​",
            "style": "IPY_MODEL_7a5dc276651b47068e057b7734eea7f4",
            "value": "vocab.txt: 100%"
          }
        },
        "b204fe70d15e4694ab124281f56225ee": {
          "model_module": "@jupyter-widgets/controls",
          "model_name": "FloatProgressModel",
          "model_module_version": "1.5.0",
          "state": {
            "_dom_classes": [],
            "_model_module": "@jupyter-widgets/controls",
            "_model_module_version": "1.5.0",
            "_model_name": "FloatProgressModel",
            "_view_count": null,
            "_view_module": "@jupyter-widgets/controls",
            "_view_module_version": "1.5.0",
            "_view_name": "ProgressView",
            "bar_style": "success",
            "description": "",
            "description_tooltip": null,
            "layout": "IPY_MODEL_4a2ad7fddf69493db92c5ffd79a54936",
            "max": 231508,
            "min": 0,
            "orientation": "horizontal",
            "style": "IPY_MODEL_74c1bdbdaeb64c658d57adb44a19c10f",
            "value": 231508
          }
        },
        "37431b7768f640c2b1d5bb9814f99f63": {
          "model_module": "@jupyter-widgets/controls",
          "model_name": "HTMLModel",
          "model_module_version": "1.5.0",
          "state": {
            "_dom_classes": [],
            "_model_module": "@jupyter-widgets/controls",
            "_model_module_version": "1.5.0",
            "_model_name": "HTMLModel",
            "_view_count": null,
            "_view_module": "@jupyter-widgets/controls",
            "_view_module_version": "1.5.0",
            "_view_name": "HTMLView",
            "description": "",
            "description_tooltip": null,
            "layout": "IPY_MODEL_b39a80e0de1c4f9e9c0eb61d634f5bb3",
            "placeholder": "​",
            "style": "IPY_MODEL_061d9b0ff0c84c829154644b28e8492c",
            "value": " 232k/232k [00:00&lt;00:00, 2.48MB/s]"
          }
        },
        "f065a28953234dce8881f5ac751596cf": {
          "model_module": "@jupyter-widgets/base",
          "model_name": "LayoutModel",
          "model_module_version": "1.2.0",
          "state": {
            "_model_module": "@jupyter-widgets/base",
            "_model_module_version": "1.2.0",
            "_model_name": "LayoutModel",
            "_view_count": null,
            "_view_module": "@jupyter-widgets/base",
            "_view_module_version": "1.2.0",
            "_view_name": "LayoutView",
            "align_content": null,
            "align_items": null,
            "align_self": null,
            "border": null,
            "bottom": null,
            "display": null,
            "flex": null,
            "flex_flow": null,
            "grid_area": null,
            "grid_auto_columns": null,
            "grid_auto_flow": null,
            "grid_auto_rows": null,
            "grid_column": null,
            "grid_gap": null,
            "grid_row": null,
            "grid_template_areas": null,
            "grid_template_columns": null,
            "grid_template_rows": null,
            "height": null,
            "justify_content": null,
            "justify_items": null,
            "left": null,
            "margin": null,
            "max_height": null,
            "max_width": null,
            "min_height": null,
            "min_width": null,
            "object_fit": null,
            "object_position": null,
            "order": null,
            "overflow": null,
            "overflow_x": null,
            "overflow_y": null,
            "padding": null,
            "right": null,
            "top": null,
            "visibility": null,
            "width": null
          }
        },
        "851e4ef2db32494a95688aec7e3bd16b": {
          "model_module": "@jupyter-widgets/base",
          "model_name": "LayoutModel",
          "model_module_version": "1.2.0",
          "state": {
            "_model_module": "@jupyter-widgets/base",
            "_model_module_version": "1.2.0",
            "_model_name": "LayoutModel",
            "_view_count": null,
            "_view_module": "@jupyter-widgets/base",
            "_view_module_version": "1.2.0",
            "_view_name": "LayoutView",
            "align_content": null,
            "align_items": null,
            "align_self": null,
            "border": null,
            "bottom": null,
            "display": null,
            "flex": null,
            "flex_flow": null,
            "grid_area": null,
            "grid_auto_columns": null,
            "grid_auto_flow": null,
            "grid_auto_rows": null,
            "grid_column": null,
            "grid_gap": null,
            "grid_row": null,
            "grid_template_areas": null,
            "grid_template_columns": null,
            "grid_template_rows": null,
            "height": null,
            "justify_content": null,
            "justify_items": null,
            "left": null,
            "margin": null,
            "max_height": null,
            "max_width": null,
            "min_height": null,
            "min_width": null,
            "object_fit": null,
            "object_position": null,
            "order": null,
            "overflow": null,
            "overflow_x": null,
            "overflow_y": null,
            "padding": null,
            "right": null,
            "top": null,
            "visibility": null,
            "width": null
          }
        },
        "7a5dc276651b47068e057b7734eea7f4": {
          "model_module": "@jupyter-widgets/controls",
          "model_name": "DescriptionStyleModel",
          "model_module_version": "1.5.0",
          "state": {
            "_model_module": "@jupyter-widgets/controls",
            "_model_module_version": "1.5.0",
            "_model_name": "DescriptionStyleModel",
            "_view_count": null,
            "_view_module": "@jupyter-widgets/base",
            "_view_module_version": "1.2.0",
            "_view_name": "StyleView",
            "description_width": ""
          }
        },
        "4a2ad7fddf69493db92c5ffd79a54936": {
          "model_module": "@jupyter-widgets/base",
          "model_name": "LayoutModel",
          "model_module_version": "1.2.0",
          "state": {
            "_model_module": "@jupyter-widgets/base",
            "_model_module_version": "1.2.0",
            "_model_name": "LayoutModel",
            "_view_count": null,
            "_view_module": "@jupyter-widgets/base",
            "_view_module_version": "1.2.0",
            "_view_name": "LayoutView",
            "align_content": null,
            "align_items": null,
            "align_self": null,
            "border": null,
            "bottom": null,
            "display": null,
            "flex": null,
            "flex_flow": null,
            "grid_area": null,
            "grid_auto_columns": null,
            "grid_auto_flow": null,
            "grid_auto_rows": null,
            "grid_column": null,
            "grid_gap": null,
            "grid_row": null,
            "grid_template_areas": null,
            "grid_template_columns": null,
            "grid_template_rows": null,
            "height": null,
            "justify_content": null,
            "justify_items": null,
            "left": null,
            "margin": null,
            "max_height": null,
            "max_width": null,
            "min_height": null,
            "min_width": null,
            "object_fit": null,
            "object_position": null,
            "order": null,
            "overflow": null,
            "overflow_x": null,
            "overflow_y": null,
            "padding": null,
            "right": null,
            "top": null,
            "visibility": null,
            "width": null
          }
        },
        "74c1bdbdaeb64c658d57adb44a19c10f": {
          "model_module": "@jupyter-widgets/controls",
          "model_name": "ProgressStyleModel",
          "model_module_version": "1.5.0",
          "state": {
            "_model_module": "@jupyter-widgets/controls",
            "_model_module_version": "1.5.0",
            "_model_name": "ProgressStyleModel",
            "_view_count": null,
            "_view_module": "@jupyter-widgets/base",
            "_view_module_version": "1.2.0",
            "_view_name": "StyleView",
            "bar_color": null,
            "description_width": ""
          }
        },
        "b39a80e0de1c4f9e9c0eb61d634f5bb3": {
          "model_module": "@jupyter-widgets/base",
          "model_name": "LayoutModel",
          "model_module_version": "1.2.0",
          "state": {
            "_model_module": "@jupyter-widgets/base",
            "_model_module_version": "1.2.0",
            "_model_name": "LayoutModel",
            "_view_count": null,
            "_view_module": "@jupyter-widgets/base",
            "_view_module_version": "1.2.0",
            "_view_name": "LayoutView",
            "align_content": null,
            "align_items": null,
            "align_self": null,
            "border": null,
            "bottom": null,
            "display": null,
            "flex": null,
            "flex_flow": null,
            "grid_area": null,
            "grid_auto_columns": null,
            "grid_auto_flow": null,
            "grid_auto_rows": null,
            "grid_column": null,
            "grid_gap": null,
            "grid_row": null,
            "grid_template_areas": null,
            "grid_template_columns": null,
            "grid_template_rows": null,
            "height": null,
            "justify_content": null,
            "justify_items": null,
            "left": null,
            "margin": null,
            "max_height": null,
            "max_width": null,
            "min_height": null,
            "min_width": null,
            "object_fit": null,
            "object_position": null,
            "order": null,
            "overflow": null,
            "overflow_x": null,
            "overflow_y": null,
            "padding": null,
            "right": null,
            "top": null,
            "visibility": null,
            "width": null
          }
        },
        "061d9b0ff0c84c829154644b28e8492c": {
          "model_module": "@jupyter-widgets/controls",
          "model_name": "DescriptionStyleModel",
          "model_module_version": "1.5.0",
          "state": {
            "_model_module": "@jupyter-widgets/controls",
            "_model_module_version": "1.5.0",
            "_model_name": "DescriptionStyleModel",
            "_view_count": null,
            "_view_module": "@jupyter-widgets/base",
            "_view_module_version": "1.2.0",
            "_view_name": "StyleView",
            "description_width": ""
          }
        },
        "bb19a184e25344bf9512630c4fc80b13": {
          "model_module": "@jupyter-widgets/controls",
          "model_name": "HBoxModel",
          "model_module_version": "1.5.0",
          "state": {
            "_dom_classes": [],
            "_model_module": "@jupyter-widgets/controls",
            "_model_module_version": "1.5.0",
            "_model_name": "HBoxModel",
            "_view_count": null,
            "_view_module": "@jupyter-widgets/controls",
            "_view_module_version": "1.5.0",
            "_view_name": "HBoxView",
            "box_style": "",
            "children": [
              "IPY_MODEL_71f8cf97134047b9a15ae43bb9df685d",
              "IPY_MODEL_8fc164f17b03420daaa8d4bf0c0ea873",
              "IPY_MODEL_f933c3e849fc42da8ddd6b95e4369e6d"
            ],
            "layout": "IPY_MODEL_7e98ac9914c940a8b685530218476b58"
          }
        },
        "71f8cf97134047b9a15ae43bb9df685d": {
          "model_module": "@jupyter-widgets/controls",
          "model_name": "HTMLModel",
          "model_module_version": "1.5.0",
          "state": {
            "_dom_classes": [],
            "_model_module": "@jupyter-widgets/controls",
            "_model_module_version": "1.5.0",
            "_model_name": "HTMLModel",
            "_view_count": null,
            "_view_module": "@jupyter-widgets/controls",
            "_view_module_version": "1.5.0",
            "_view_name": "HTMLView",
            "description": "",
            "description_tooltip": null,
            "layout": "IPY_MODEL_a415ac1fd7c34cb48c3c94e6312fd732",
            "placeholder": "​",
            "style": "IPY_MODEL_4559d6e84239425cac03076efab73352",
            "value": "tokenizer.json: 100%"
          }
        },
        "8fc164f17b03420daaa8d4bf0c0ea873": {
          "model_module": "@jupyter-widgets/controls",
          "model_name": "FloatProgressModel",
          "model_module_version": "1.5.0",
          "state": {
            "_dom_classes": [],
            "_model_module": "@jupyter-widgets/controls",
            "_model_module_version": "1.5.0",
            "_model_name": "FloatProgressModel",
            "_view_count": null,
            "_view_module": "@jupyter-widgets/controls",
            "_view_module_version": "1.5.0",
            "_view_name": "ProgressView",
            "bar_style": "success",
            "description": "",
            "description_tooltip": null,
            "layout": "IPY_MODEL_0d64d4e654c24c289c28ccfa30caf3bc",
            "max": 466062,
            "min": 0,
            "orientation": "horizontal",
            "style": "IPY_MODEL_9e2b9ed31fd6401393078624f2cc01cf",
            "value": 466062
          }
        },
        "f933c3e849fc42da8ddd6b95e4369e6d": {
          "model_module": "@jupyter-widgets/controls",
          "model_name": "HTMLModel",
          "model_module_version": "1.5.0",
          "state": {
            "_dom_classes": [],
            "_model_module": "@jupyter-widgets/controls",
            "_model_module_version": "1.5.0",
            "_model_name": "HTMLModel",
            "_view_count": null,
            "_view_module": "@jupyter-widgets/controls",
            "_view_module_version": "1.5.0",
            "_view_name": "HTMLView",
            "description": "",
            "description_tooltip": null,
            "layout": "IPY_MODEL_bb58f9ac856b4cd8827e932546f365d0",
            "placeholder": "​",
            "style": "IPY_MODEL_ce779a876daa46bea25cda1a071d3f15",
            "value": " 466k/466k [00:00&lt;00:00, 4.66MB/s]"
          }
        },
        "7e98ac9914c940a8b685530218476b58": {
          "model_module": "@jupyter-widgets/base",
          "model_name": "LayoutModel",
          "model_module_version": "1.2.0",
          "state": {
            "_model_module": "@jupyter-widgets/base",
            "_model_module_version": "1.2.0",
            "_model_name": "LayoutModel",
            "_view_count": null,
            "_view_module": "@jupyter-widgets/base",
            "_view_module_version": "1.2.0",
            "_view_name": "LayoutView",
            "align_content": null,
            "align_items": null,
            "align_self": null,
            "border": null,
            "bottom": null,
            "display": null,
            "flex": null,
            "flex_flow": null,
            "grid_area": null,
            "grid_auto_columns": null,
            "grid_auto_flow": null,
            "grid_auto_rows": null,
            "grid_column": null,
            "grid_gap": null,
            "grid_row": null,
            "grid_template_areas": null,
            "grid_template_columns": null,
            "grid_template_rows": null,
            "height": null,
            "justify_content": null,
            "justify_items": null,
            "left": null,
            "margin": null,
            "max_height": null,
            "max_width": null,
            "min_height": null,
            "min_width": null,
            "object_fit": null,
            "object_position": null,
            "order": null,
            "overflow": null,
            "overflow_x": null,
            "overflow_y": null,
            "padding": null,
            "right": null,
            "top": null,
            "visibility": null,
            "width": null
          }
        },
        "a415ac1fd7c34cb48c3c94e6312fd732": {
          "model_module": "@jupyter-widgets/base",
          "model_name": "LayoutModel",
          "model_module_version": "1.2.0",
          "state": {
            "_model_module": "@jupyter-widgets/base",
            "_model_module_version": "1.2.0",
            "_model_name": "LayoutModel",
            "_view_count": null,
            "_view_module": "@jupyter-widgets/base",
            "_view_module_version": "1.2.0",
            "_view_name": "LayoutView",
            "align_content": null,
            "align_items": null,
            "align_self": null,
            "border": null,
            "bottom": null,
            "display": null,
            "flex": null,
            "flex_flow": null,
            "grid_area": null,
            "grid_auto_columns": null,
            "grid_auto_flow": null,
            "grid_auto_rows": null,
            "grid_column": null,
            "grid_gap": null,
            "grid_row": null,
            "grid_template_areas": null,
            "grid_template_columns": null,
            "grid_template_rows": null,
            "height": null,
            "justify_content": null,
            "justify_items": null,
            "left": null,
            "margin": null,
            "max_height": null,
            "max_width": null,
            "min_height": null,
            "min_width": null,
            "object_fit": null,
            "object_position": null,
            "order": null,
            "overflow": null,
            "overflow_x": null,
            "overflow_y": null,
            "padding": null,
            "right": null,
            "top": null,
            "visibility": null,
            "width": null
          }
        },
        "4559d6e84239425cac03076efab73352": {
          "model_module": "@jupyter-widgets/controls",
          "model_name": "DescriptionStyleModel",
          "model_module_version": "1.5.0",
          "state": {
            "_model_module": "@jupyter-widgets/controls",
            "_model_module_version": "1.5.0",
            "_model_name": "DescriptionStyleModel",
            "_view_count": null,
            "_view_module": "@jupyter-widgets/base",
            "_view_module_version": "1.2.0",
            "_view_name": "StyleView",
            "description_width": ""
          }
        },
        "0d64d4e654c24c289c28ccfa30caf3bc": {
          "model_module": "@jupyter-widgets/base",
          "model_name": "LayoutModel",
          "model_module_version": "1.2.0",
          "state": {
            "_model_module": "@jupyter-widgets/base",
            "_model_module_version": "1.2.0",
            "_model_name": "LayoutModel",
            "_view_count": null,
            "_view_module": "@jupyter-widgets/base",
            "_view_module_version": "1.2.0",
            "_view_name": "LayoutView",
            "align_content": null,
            "align_items": null,
            "align_self": null,
            "border": null,
            "bottom": null,
            "display": null,
            "flex": null,
            "flex_flow": null,
            "grid_area": null,
            "grid_auto_columns": null,
            "grid_auto_flow": null,
            "grid_auto_rows": null,
            "grid_column": null,
            "grid_gap": null,
            "grid_row": null,
            "grid_template_areas": null,
            "grid_template_columns": null,
            "grid_template_rows": null,
            "height": null,
            "justify_content": null,
            "justify_items": null,
            "left": null,
            "margin": null,
            "max_height": null,
            "max_width": null,
            "min_height": null,
            "min_width": null,
            "object_fit": null,
            "object_position": null,
            "order": null,
            "overflow": null,
            "overflow_x": null,
            "overflow_y": null,
            "padding": null,
            "right": null,
            "top": null,
            "visibility": null,
            "width": null
          }
        },
        "9e2b9ed31fd6401393078624f2cc01cf": {
          "model_module": "@jupyter-widgets/controls",
          "model_name": "ProgressStyleModel",
          "model_module_version": "1.5.0",
          "state": {
            "_model_module": "@jupyter-widgets/controls",
            "_model_module_version": "1.5.0",
            "_model_name": "ProgressStyleModel",
            "_view_count": null,
            "_view_module": "@jupyter-widgets/base",
            "_view_module_version": "1.2.0",
            "_view_name": "StyleView",
            "bar_color": null,
            "description_width": ""
          }
        },
        "bb58f9ac856b4cd8827e932546f365d0": {
          "model_module": "@jupyter-widgets/base",
          "model_name": "LayoutModel",
          "model_module_version": "1.2.0",
          "state": {
            "_model_module": "@jupyter-widgets/base",
            "_model_module_version": "1.2.0",
            "_model_name": "LayoutModel",
            "_view_count": null,
            "_view_module": "@jupyter-widgets/base",
            "_view_module_version": "1.2.0",
            "_view_name": "LayoutView",
            "align_content": null,
            "align_items": null,
            "align_self": null,
            "border": null,
            "bottom": null,
            "display": null,
            "flex": null,
            "flex_flow": null,
            "grid_area": null,
            "grid_auto_columns": null,
            "grid_auto_flow": null,
            "grid_auto_rows": null,
            "grid_column": null,
            "grid_gap": null,
            "grid_row": null,
            "grid_template_areas": null,
            "grid_template_columns": null,
            "grid_template_rows": null,
            "height": null,
            "justify_content": null,
            "justify_items": null,
            "left": null,
            "margin": null,
            "max_height": null,
            "max_width": null,
            "min_height": null,
            "min_width": null,
            "object_fit": null,
            "object_position": null,
            "order": null,
            "overflow": null,
            "overflow_x": null,
            "overflow_y": null,
            "padding": null,
            "right": null,
            "top": null,
            "visibility": null,
            "width": null
          }
        },
        "ce779a876daa46bea25cda1a071d3f15": {
          "model_module": "@jupyter-widgets/controls",
          "model_name": "DescriptionStyleModel",
          "model_module_version": "1.5.0",
          "state": {
            "_model_module": "@jupyter-widgets/controls",
            "_model_module_version": "1.5.0",
            "_model_name": "DescriptionStyleModel",
            "_view_count": null,
            "_view_module": "@jupyter-widgets/base",
            "_view_module_version": "1.2.0",
            "_view_name": "StyleView",
            "description_width": ""
          }
        },
        "0b679f678e1c4270a283f28e8ec89c3f": {
          "model_module": "@jupyter-widgets/controls",
          "model_name": "HBoxModel",
          "model_module_version": "1.5.0",
          "state": {
            "_dom_classes": [],
            "_model_module": "@jupyter-widgets/controls",
            "_model_module_version": "1.5.0",
            "_model_name": "HBoxModel",
            "_view_count": null,
            "_view_module": "@jupyter-widgets/controls",
            "_view_module_version": "1.5.0",
            "_view_name": "HBoxView",
            "box_style": "",
            "children": [
              "IPY_MODEL_e92ebc537e024722b799f08fc5bab567",
              "IPY_MODEL_6c9698a9747b49a4afb6d33cea9457f8",
              "IPY_MODEL_bfbc889201a243c39d2e236c1a71948e"
            ],
            "layout": "IPY_MODEL_ff7fff52c40345fd9813a556addd825b"
          }
        },
        "e92ebc537e024722b799f08fc5bab567": {
          "model_module": "@jupyter-widgets/controls",
          "model_name": "HTMLModel",
          "model_module_version": "1.5.0",
          "state": {
            "_dom_classes": [],
            "_model_module": "@jupyter-widgets/controls",
            "_model_module_version": "1.5.0",
            "_model_name": "HTMLModel",
            "_view_count": null,
            "_view_module": "@jupyter-widgets/controls",
            "_view_module_version": "1.5.0",
            "_view_name": "HTMLView",
            "description": "",
            "description_tooltip": null,
            "layout": "IPY_MODEL_07c56018b2d84b62b5fd645e4b12decd",
            "placeholder": "​",
            "style": "IPY_MODEL_11c27ab5edb84121b15fc97b769f3b5e",
            "value": "config.json: 100%"
          }
        },
        "6c9698a9747b49a4afb6d33cea9457f8": {
          "model_module": "@jupyter-widgets/controls",
          "model_name": "FloatProgressModel",
          "model_module_version": "1.5.0",
          "state": {
            "_dom_classes": [],
            "_model_module": "@jupyter-widgets/controls",
            "_model_module_version": "1.5.0",
            "_model_name": "FloatProgressModel",
            "_view_count": null,
            "_view_module": "@jupyter-widgets/controls",
            "_view_module_version": "1.5.0",
            "_view_name": "ProgressView",
            "bar_style": "success",
            "description": "",
            "description_tooltip": null,
            "layout": "IPY_MODEL_a7cf8122bdb7443cadc80ddc3eb2c938",
            "max": 483,
            "min": 0,
            "orientation": "horizontal",
            "style": "IPY_MODEL_317983359f3547269905f62a2e9953cd",
            "value": 483
          }
        },
        "bfbc889201a243c39d2e236c1a71948e": {
          "model_module": "@jupyter-widgets/controls",
          "model_name": "HTMLModel",
          "model_module_version": "1.5.0",
          "state": {
            "_dom_classes": [],
            "_model_module": "@jupyter-widgets/controls",
            "_model_module_version": "1.5.0",
            "_model_name": "HTMLModel",
            "_view_count": null,
            "_view_module": "@jupyter-widgets/controls",
            "_view_module_version": "1.5.0",
            "_view_name": "HTMLView",
            "description": "",
            "description_tooltip": null,
            "layout": "IPY_MODEL_eaf425ebe20b40faac6f9987ca1d01ec",
            "placeholder": "​",
            "style": "IPY_MODEL_055ba16d2096453fbaa65c9c0c9955ef",
            "value": " 483/483 [00:00&lt;00:00, 5.40kB/s]"
          }
        },
        "ff7fff52c40345fd9813a556addd825b": {
          "model_module": "@jupyter-widgets/base",
          "model_name": "LayoutModel",
          "model_module_version": "1.2.0",
          "state": {
            "_model_module": "@jupyter-widgets/base",
            "_model_module_version": "1.2.0",
            "_model_name": "LayoutModel",
            "_view_count": null,
            "_view_module": "@jupyter-widgets/base",
            "_view_module_version": "1.2.0",
            "_view_name": "LayoutView",
            "align_content": null,
            "align_items": null,
            "align_self": null,
            "border": null,
            "bottom": null,
            "display": null,
            "flex": null,
            "flex_flow": null,
            "grid_area": null,
            "grid_auto_columns": null,
            "grid_auto_flow": null,
            "grid_auto_rows": null,
            "grid_column": null,
            "grid_gap": null,
            "grid_row": null,
            "grid_template_areas": null,
            "grid_template_columns": null,
            "grid_template_rows": null,
            "height": null,
            "justify_content": null,
            "justify_items": null,
            "left": null,
            "margin": null,
            "max_height": null,
            "max_width": null,
            "min_height": null,
            "min_width": null,
            "object_fit": null,
            "object_position": null,
            "order": null,
            "overflow": null,
            "overflow_x": null,
            "overflow_y": null,
            "padding": null,
            "right": null,
            "top": null,
            "visibility": null,
            "width": null
          }
        },
        "07c56018b2d84b62b5fd645e4b12decd": {
          "model_module": "@jupyter-widgets/base",
          "model_name": "LayoutModel",
          "model_module_version": "1.2.0",
          "state": {
            "_model_module": "@jupyter-widgets/base",
            "_model_module_version": "1.2.0",
            "_model_name": "LayoutModel",
            "_view_count": null,
            "_view_module": "@jupyter-widgets/base",
            "_view_module_version": "1.2.0",
            "_view_name": "LayoutView",
            "align_content": null,
            "align_items": null,
            "align_self": null,
            "border": null,
            "bottom": null,
            "display": null,
            "flex": null,
            "flex_flow": null,
            "grid_area": null,
            "grid_auto_columns": null,
            "grid_auto_flow": null,
            "grid_auto_rows": null,
            "grid_column": null,
            "grid_gap": null,
            "grid_row": null,
            "grid_template_areas": null,
            "grid_template_columns": null,
            "grid_template_rows": null,
            "height": null,
            "justify_content": null,
            "justify_items": null,
            "left": null,
            "margin": null,
            "max_height": null,
            "max_width": null,
            "min_height": null,
            "min_width": null,
            "object_fit": null,
            "object_position": null,
            "order": null,
            "overflow": null,
            "overflow_x": null,
            "overflow_y": null,
            "padding": null,
            "right": null,
            "top": null,
            "visibility": null,
            "width": null
          }
        },
        "11c27ab5edb84121b15fc97b769f3b5e": {
          "model_module": "@jupyter-widgets/controls",
          "model_name": "DescriptionStyleModel",
          "model_module_version": "1.5.0",
          "state": {
            "_model_module": "@jupyter-widgets/controls",
            "_model_module_version": "1.5.0",
            "_model_name": "DescriptionStyleModel",
            "_view_count": null,
            "_view_module": "@jupyter-widgets/base",
            "_view_module_version": "1.2.0",
            "_view_name": "StyleView",
            "description_width": ""
          }
        },
        "a7cf8122bdb7443cadc80ddc3eb2c938": {
          "model_module": "@jupyter-widgets/base",
          "model_name": "LayoutModel",
          "model_module_version": "1.2.0",
          "state": {
            "_model_module": "@jupyter-widgets/base",
            "_model_module_version": "1.2.0",
            "_model_name": "LayoutModel",
            "_view_count": null,
            "_view_module": "@jupyter-widgets/base",
            "_view_module_version": "1.2.0",
            "_view_name": "LayoutView",
            "align_content": null,
            "align_items": null,
            "align_self": null,
            "border": null,
            "bottom": null,
            "display": null,
            "flex": null,
            "flex_flow": null,
            "grid_area": null,
            "grid_auto_columns": null,
            "grid_auto_flow": null,
            "grid_auto_rows": null,
            "grid_column": null,
            "grid_gap": null,
            "grid_row": null,
            "grid_template_areas": null,
            "grid_template_columns": null,
            "grid_template_rows": null,
            "height": null,
            "justify_content": null,
            "justify_items": null,
            "left": null,
            "margin": null,
            "max_height": null,
            "max_width": null,
            "min_height": null,
            "min_width": null,
            "object_fit": null,
            "object_position": null,
            "order": null,
            "overflow": null,
            "overflow_x": null,
            "overflow_y": null,
            "padding": null,
            "right": null,
            "top": null,
            "visibility": null,
            "width": null
          }
        },
        "317983359f3547269905f62a2e9953cd": {
          "model_module": "@jupyter-widgets/controls",
          "model_name": "ProgressStyleModel",
          "model_module_version": "1.5.0",
          "state": {
            "_model_module": "@jupyter-widgets/controls",
            "_model_module_version": "1.5.0",
            "_model_name": "ProgressStyleModel",
            "_view_count": null,
            "_view_module": "@jupyter-widgets/base",
            "_view_module_version": "1.2.0",
            "_view_name": "StyleView",
            "bar_color": null,
            "description_width": ""
          }
        },
        "eaf425ebe20b40faac6f9987ca1d01ec": {
          "model_module": "@jupyter-widgets/base",
          "model_name": "LayoutModel",
          "model_module_version": "1.2.0",
          "state": {
            "_model_module": "@jupyter-widgets/base",
            "_model_module_version": "1.2.0",
            "_model_name": "LayoutModel",
            "_view_count": null,
            "_view_module": "@jupyter-widgets/base",
            "_view_module_version": "1.2.0",
            "_view_name": "LayoutView",
            "align_content": null,
            "align_items": null,
            "align_self": null,
            "border": null,
            "bottom": null,
            "display": null,
            "flex": null,
            "flex_flow": null,
            "grid_area": null,
            "grid_auto_columns": null,
            "grid_auto_flow": null,
            "grid_auto_rows": null,
            "grid_column": null,
            "grid_gap": null,
            "grid_row": null,
            "grid_template_areas": null,
            "grid_template_columns": null,
            "grid_template_rows": null,
            "height": null,
            "justify_content": null,
            "justify_items": null,
            "left": null,
            "margin": null,
            "max_height": null,
            "max_width": null,
            "min_height": null,
            "min_width": null,
            "object_fit": null,
            "object_position": null,
            "order": null,
            "overflow": null,
            "overflow_x": null,
            "overflow_y": null,
            "padding": null,
            "right": null,
            "top": null,
            "visibility": null,
            "width": null
          }
        },
        "055ba16d2096453fbaa65c9c0c9955ef": {
          "model_module": "@jupyter-widgets/controls",
          "model_name": "DescriptionStyleModel",
          "model_module_version": "1.5.0",
          "state": {
            "_model_module": "@jupyter-widgets/controls",
            "_model_module_version": "1.5.0",
            "_model_name": "DescriptionStyleModel",
            "_view_count": null,
            "_view_module": "@jupyter-widgets/base",
            "_view_module_version": "1.2.0",
            "_view_name": "StyleView",
            "description_width": ""
          }
        },
        "bc23f5dfd86547eb8c160d09801311e6": {
          "model_module": "@jupyter-widgets/controls",
          "model_name": "HBoxModel",
          "model_module_version": "1.5.0",
          "state": {
            "_dom_classes": [],
            "_model_module": "@jupyter-widgets/controls",
            "_model_module_version": "1.5.0",
            "_model_name": "HBoxModel",
            "_view_count": null,
            "_view_module": "@jupyter-widgets/controls",
            "_view_module_version": "1.5.0",
            "_view_name": "HBoxView",
            "box_style": "",
            "children": [
              "IPY_MODEL_1cecb98b08e44882975c17b43435a3b0",
              "IPY_MODEL_48437c5792f642b68bd3c04bbfe7d88e",
              "IPY_MODEL_4e9949dbbf20461694377e4eff7bce2f"
            ],
            "layout": "IPY_MODEL_7bd3012d13ea41b08921711ab30b69ce"
          }
        },
        "1cecb98b08e44882975c17b43435a3b0": {
          "model_module": "@jupyter-widgets/controls",
          "model_name": "HTMLModel",
          "model_module_version": "1.5.0",
          "state": {
            "_dom_classes": [],
            "_model_module": "@jupyter-widgets/controls",
            "_model_module_version": "1.5.0",
            "_model_name": "HTMLModel",
            "_view_count": null,
            "_view_module": "@jupyter-widgets/controls",
            "_view_module_version": "1.5.0",
            "_view_name": "HTMLView",
            "description": "",
            "description_tooltip": null,
            "layout": "IPY_MODEL_a83cafcf6e15408586a585ae2ac0c646",
            "placeholder": "​",
            "style": "IPY_MODEL_febe172bc4bd4e0181aab1a311d706dc",
            "value": "model.safetensors: 100%"
          }
        },
        "48437c5792f642b68bd3c04bbfe7d88e": {
          "model_module": "@jupyter-widgets/controls",
          "model_name": "FloatProgressModel",
          "model_module_version": "1.5.0",
          "state": {
            "_dom_classes": [],
            "_model_module": "@jupyter-widgets/controls",
            "_model_module_version": "1.5.0",
            "_model_name": "FloatProgressModel",
            "_view_count": null,
            "_view_module": "@jupyter-widgets/controls",
            "_view_module_version": "1.5.0",
            "_view_name": "ProgressView",
            "bar_style": "success",
            "description": "",
            "description_tooltip": null,
            "layout": "IPY_MODEL_ef151ce811fb48db941983145772107a",
            "max": 267954768,
            "min": 0,
            "orientation": "horizontal",
            "style": "IPY_MODEL_ffcd83a1db824665ade9571b4371d819",
            "value": 267954768
          }
        },
        "4e9949dbbf20461694377e4eff7bce2f": {
          "model_module": "@jupyter-widgets/controls",
          "model_name": "HTMLModel",
          "model_module_version": "1.5.0",
          "state": {
            "_dom_classes": [],
            "_model_module": "@jupyter-widgets/controls",
            "_model_module_version": "1.5.0",
            "_model_name": "HTMLModel",
            "_view_count": null,
            "_view_module": "@jupyter-widgets/controls",
            "_view_module_version": "1.5.0",
            "_view_name": "HTMLView",
            "description": "",
            "description_tooltip": null,
            "layout": "IPY_MODEL_fe401a8805354bba86e14855e3e33e35",
            "placeholder": "​",
            "style": "IPY_MODEL_57a5776258204134b016da5023c99fa5",
            "value": " 268M/268M [00:04&lt;00:00, 56.4MB/s]"
          }
        },
        "7bd3012d13ea41b08921711ab30b69ce": {
          "model_module": "@jupyter-widgets/base",
          "model_name": "LayoutModel",
          "model_module_version": "1.2.0",
          "state": {
            "_model_module": "@jupyter-widgets/base",
            "_model_module_version": "1.2.0",
            "_model_name": "LayoutModel",
            "_view_count": null,
            "_view_module": "@jupyter-widgets/base",
            "_view_module_version": "1.2.0",
            "_view_name": "LayoutView",
            "align_content": null,
            "align_items": null,
            "align_self": null,
            "border": null,
            "bottom": null,
            "display": null,
            "flex": null,
            "flex_flow": null,
            "grid_area": null,
            "grid_auto_columns": null,
            "grid_auto_flow": null,
            "grid_auto_rows": null,
            "grid_column": null,
            "grid_gap": null,
            "grid_row": null,
            "grid_template_areas": null,
            "grid_template_columns": null,
            "grid_template_rows": null,
            "height": null,
            "justify_content": null,
            "justify_items": null,
            "left": null,
            "margin": null,
            "max_height": null,
            "max_width": null,
            "min_height": null,
            "min_width": null,
            "object_fit": null,
            "object_position": null,
            "order": null,
            "overflow": null,
            "overflow_x": null,
            "overflow_y": null,
            "padding": null,
            "right": null,
            "top": null,
            "visibility": null,
            "width": null
          }
        },
        "a83cafcf6e15408586a585ae2ac0c646": {
          "model_module": "@jupyter-widgets/base",
          "model_name": "LayoutModel",
          "model_module_version": "1.2.0",
          "state": {
            "_model_module": "@jupyter-widgets/base",
            "_model_module_version": "1.2.0",
            "_model_name": "LayoutModel",
            "_view_count": null,
            "_view_module": "@jupyter-widgets/base",
            "_view_module_version": "1.2.0",
            "_view_name": "LayoutView",
            "align_content": null,
            "align_items": null,
            "align_self": null,
            "border": null,
            "bottom": null,
            "display": null,
            "flex": null,
            "flex_flow": null,
            "grid_area": null,
            "grid_auto_columns": null,
            "grid_auto_flow": null,
            "grid_auto_rows": null,
            "grid_column": null,
            "grid_gap": null,
            "grid_row": null,
            "grid_template_areas": null,
            "grid_template_columns": null,
            "grid_template_rows": null,
            "height": null,
            "justify_content": null,
            "justify_items": null,
            "left": null,
            "margin": null,
            "max_height": null,
            "max_width": null,
            "min_height": null,
            "min_width": null,
            "object_fit": null,
            "object_position": null,
            "order": null,
            "overflow": null,
            "overflow_x": null,
            "overflow_y": null,
            "padding": null,
            "right": null,
            "top": null,
            "visibility": null,
            "width": null
          }
        },
        "febe172bc4bd4e0181aab1a311d706dc": {
          "model_module": "@jupyter-widgets/controls",
          "model_name": "DescriptionStyleModel",
          "model_module_version": "1.5.0",
          "state": {
            "_model_module": "@jupyter-widgets/controls",
            "_model_module_version": "1.5.0",
            "_model_name": "DescriptionStyleModel",
            "_view_count": null,
            "_view_module": "@jupyter-widgets/base",
            "_view_module_version": "1.2.0",
            "_view_name": "StyleView",
            "description_width": ""
          }
        },
        "ef151ce811fb48db941983145772107a": {
          "model_module": "@jupyter-widgets/base",
          "model_name": "LayoutModel",
          "model_module_version": "1.2.0",
          "state": {
            "_model_module": "@jupyter-widgets/base",
            "_model_module_version": "1.2.0",
            "_model_name": "LayoutModel",
            "_view_count": null,
            "_view_module": "@jupyter-widgets/base",
            "_view_module_version": "1.2.0",
            "_view_name": "LayoutView",
            "align_content": null,
            "align_items": null,
            "align_self": null,
            "border": null,
            "bottom": null,
            "display": null,
            "flex": null,
            "flex_flow": null,
            "grid_area": null,
            "grid_auto_columns": null,
            "grid_auto_flow": null,
            "grid_auto_rows": null,
            "grid_column": null,
            "grid_gap": null,
            "grid_row": null,
            "grid_template_areas": null,
            "grid_template_columns": null,
            "grid_template_rows": null,
            "height": null,
            "justify_content": null,
            "justify_items": null,
            "left": null,
            "margin": null,
            "max_height": null,
            "max_width": null,
            "min_height": null,
            "min_width": null,
            "object_fit": null,
            "object_position": null,
            "order": null,
            "overflow": null,
            "overflow_x": null,
            "overflow_y": null,
            "padding": null,
            "right": null,
            "top": null,
            "visibility": null,
            "width": null
          }
        },
        "ffcd83a1db824665ade9571b4371d819": {
          "model_module": "@jupyter-widgets/controls",
          "model_name": "ProgressStyleModel",
          "model_module_version": "1.5.0",
          "state": {
            "_model_module": "@jupyter-widgets/controls",
            "_model_module_version": "1.5.0",
            "_model_name": "ProgressStyleModel",
            "_view_count": null,
            "_view_module": "@jupyter-widgets/base",
            "_view_module_version": "1.2.0",
            "_view_name": "StyleView",
            "bar_color": null,
            "description_width": ""
          }
        },
        "fe401a8805354bba86e14855e3e33e35": {
          "model_module": "@jupyter-widgets/base",
          "model_name": "LayoutModel",
          "model_module_version": "1.2.0",
          "state": {
            "_model_module": "@jupyter-widgets/base",
            "_model_module_version": "1.2.0",
            "_model_name": "LayoutModel",
            "_view_count": null,
            "_view_module": "@jupyter-widgets/base",
            "_view_module_version": "1.2.0",
            "_view_name": "LayoutView",
            "align_content": null,
            "align_items": null,
            "align_self": null,
            "border": null,
            "bottom": null,
            "display": null,
            "flex": null,
            "flex_flow": null,
            "grid_area": null,
            "grid_auto_columns": null,
            "grid_auto_flow": null,
            "grid_auto_rows": null,
            "grid_column": null,
            "grid_gap": null,
            "grid_row": null,
            "grid_template_areas": null,
            "grid_template_columns": null,
            "grid_template_rows": null,
            "height": null,
            "justify_content": null,
            "justify_items": null,
            "left": null,
            "margin": null,
            "max_height": null,
            "max_width": null,
            "min_height": null,
            "min_width": null,
            "object_fit": null,
            "object_position": null,
            "order": null,
            "overflow": null,
            "overflow_x": null,
            "overflow_y": null,
            "padding": null,
            "right": null,
            "top": null,
            "visibility": null,
            "width": null
          }
        },
        "57a5776258204134b016da5023c99fa5": {
          "model_module": "@jupyter-widgets/controls",
          "model_name": "DescriptionStyleModel",
          "model_module_version": "1.5.0",
          "state": {
            "_model_module": "@jupyter-widgets/controls",
            "_model_module_version": "1.5.0",
            "_model_name": "DescriptionStyleModel",
            "_view_count": null,
            "_view_module": "@jupyter-widgets/base",
            "_view_module_version": "1.2.0",
            "_view_name": "StyleView",
            "description_width": ""
          }
        }
      }
    }
  },
  "nbformat": 4,
  "nbformat_minor": 0
}